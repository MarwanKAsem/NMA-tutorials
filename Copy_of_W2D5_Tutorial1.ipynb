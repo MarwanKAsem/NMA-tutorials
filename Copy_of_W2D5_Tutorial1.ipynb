{
  "cells": [
    {
      "cell_type": "markdown",
      "metadata": {
        "id": "view-in-github",
        "colab_type": "text"
      },
      "source": [
        "<a href=\"https://colab.research.google.com/github/MarwanKAsem/NMA-tutorials/blob/main/Copy_of_W2D5_Tutorial1.ipynb\" target=\"_parent\"><img src=\"https://colab.research.google.com/assets/colab-badge.svg\" alt=\"Open In Colab\"/></a>"
      ]
    },
    {
      "cell_type": "markdown",
      "metadata": {
        "execution": {},
        "id": "GEKbu1dCo8HA"
      },
      "source": [
        "# Tutorial 1: Learn how to work with Transformers\n",
        "\n",
        "**Week 2, Day 5: Attention and Transformers**\n",
        "\n",
        "**By Neuromatch Academy**\n",
        "\n",
        "__Content creators:__ Bikram Khastgir, Rajaswa Patil, Egor Zverev, Kelson Shilling-Scrivo, Alish Dipani, He He\n",
        "\n",
        "__Content reviewers:__ Ezekiel Williams, Melvin Selim Atay, Khalid Almubarak, Lily Cheng, Hadi Vafaei, Kelson Shilling-Scrivo\n",
        "\n",
        "__Content editors:__ Gagana B, Anoop Kulkarni, Spiros Chavlis\n",
        "\n",
        "__Production editors:__ Khalid Almubarak, Gagana B, Spiros Chavlis"
      ]
    },
    {
      "cell_type": "markdown",
      "metadata": {
        "execution": {},
        "id": "iQFFveb_o8HB"
      },
      "source": [
        "---\n",
        "# Tutorial Objectives\n",
        "\n",
        "At the end of section 9 today, you should be able to\n",
        "- Explain the general attention mechanism using keys, queries, values\n",
        "- Name three applications where attention is useful\n",
        "- Explain why Transformer is more efficient than RNN\n",
        "- Implement self-attention in Transformer\n",
        "- Understand the role of position encoding in Transformer\n"
      ]
    },
    {
      "cell_type": "code",
      "execution_count": null,
      "metadata": {
        "cellView": "form",
        "execution": {},
        "id": "AUqpOmnOo8HB"
      },
      "outputs": [],
      "source": [
        "# @title Tutorial slides\n",
        "from IPython.display import IFrame\n",
        "link_id = \"sfmpe\"\n",
        "print(f\"If you want to download the slides: https://osf.io/download/{link_id}/\")\n",
        "IFrame(src=f\"https://mfr.ca-1.osf.io/render?url=https://osf.io/{link_id}/?direct%26mode=render%26action=download%26mode=render\", width=854, height=480)"
      ]
    },
    {
      "cell_type": "markdown",
      "metadata": {
        "execution": {},
        "id": "oAMMoy1ao8HC"
      },
      "source": [
        "---\n",
        "# Setup\n",
        "\n",
        "In this section, we will install, and import libraries, as well as helper functions needed for this tutorial."
      ]
    },
    {
      "cell_type": "code",
      "execution_count": 26,
      "metadata": {
        "cellView": "form",
        "execution": {},
        "id": "9naMbVcQo8HC"
      },
      "outputs": [],
      "source": [
        "# @title Install dependencies\n",
        "# @markdown There may be *errors* and/or *warnings* reported during the installation. However, they are to be ignored.\n",
        "!pip install tensorboard --quiet\n",
        "!pip install -U transformers --quiet\n",
        "!pip install -U datasets --quiet\n",
        "!pip install fasttext --quiet"
      ]
    },
    {
      "cell_type": "code",
      "execution_count": 2,
      "metadata": {
        "cellView": "form",
        "execution": {},
        "id": "PCPyM7hNo8HD",
        "colab": {
          "base_uri": "https://localhost:8080/"
        },
        "outputId": "e60362d3-4279-4034-a66f-b4c45c6420f2"
      },
      "outputs": [
        {
          "output_type": "stream",
          "name": "stdout",
          "text": [
            "  Preparing metadata (setup.py) ... \u001b[?25l\u001b[?25hdone\n",
            "  Preparing metadata (setup.py) ... \u001b[?25l\u001b[?25hdone\n",
            "\u001b[2K   \u001b[90m━━━━━━━━━━━━━━━━━━━━━━━━━━━━━━━━━━━━━━━━\u001b[0m \u001b[32m1.6/1.6 MB\u001b[0m \u001b[31m22.8 MB/s\u001b[0m eta \u001b[36m0:00:00\u001b[0m\n",
            "\u001b[?25h  Building wheel for vibecheck (setup.py) ... \u001b[?25l\u001b[?25hdone\n",
            "  Building wheel for datatops (setup.py) ... \u001b[?25l\u001b[?25hdone\n"
          ]
        }
      ],
      "source": [
        "# @title Install and import feedback gadget\n",
        "\n",
        "!pip3 install vibecheck datatops --quiet\n",
        "\n",
        "from vibecheck import DatatopsContentReviewContainer\n",
        "def content_review(notebook_section: str):\n",
        "    return DatatopsContentReviewContainer(\n",
        "        \"\",  # No text prompt\n",
        "        notebook_section,\n",
        "        {\n",
        "            \"url\": \"https://pmyvdlilci.execute-api.us-east-1.amazonaws.com/klab\",\n",
        "            \"name\": \"neuromatch_dl\",\n",
        "            \"user_key\": \"f379rz8y\",\n",
        "        },\n",
        "    ).render()\n",
        "\n",
        "\n",
        "feedback_prefix = \"W2D5_T1\""
      ]
    },
    {
      "cell_type": "code",
      "execution_count": 27,
      "metadata": {
        "cellView": "form",
        "execution": {},
        "id": "cX6RJ-kio8HD"
      },
      "outputs": [],
      "source": [
        "# @title Set environment variables\n",
        "\n",
        "import os\n",
        "os.environ['TA_CACHE_DIR'] = 'data/'\n",
        "os.environ['NLTK_DATA'] = 'nltk_data/'"
      ]
    },
    {
      "cell_type": "code",
      "execution_count": 28,
      "metadata": {
        "execution": {},
        "id": "uvAf1ZeVo8HE",
        "colab": {
          "base_uri": "https://localhost:8080/"
        },
        "outputId": "be953ae8-9b64-4780-d44e-c866633a94d5"
      },
      "outputs": [
        {
          "output_type": "stream",
          "name": "stdout",
          "text": [
            "The tensorboard extension is already loaded. To reload it, use:\n",
            "  %reload_ext tensorboard\n"
          ]
        }
      ],
      "source": [
        "# Imports\n",
        "import os\n",
        "import sys\n",
        "import math\n",
        "import nltk\n",
        "import torch\n",
        "import random\n",
        "import string\n",
        "import datasets\n",
        "import fasttext\n",
        "import statistics\n",
        "\n",
        "import numpy as np\n",
        "import pandas as pd\n",
        "import matplotlib.pyplot as plt\n",
        "\n",
        "from pprint import pprint\n",
        "from tqdm.notebook import tqdm\n",
        "from abc import ABC, abstractmethod\n",
        "\n",
        "from nltk.corpus import brown\n",
        "from sklearn.manifold import TSNE\n",
        "from sklearn.metrics.pairwise import cosine_similarity\n",
        "\n",
        "import torch.nn as nn\n",
        "import torch.nn.functional as F\n",
        "from transformers import AutoTokenizer, BertTokenizer, BertModel, BertForMaskedLM\n",
        "\n",
        "%load_ext tensorboard"
      ]
    },
    {
      "cell_type": "code",
      "execution_count": 29,
      "metadata": {
        "cellView": "form",
        "execution": {},
        "id": "1jdmpeIeo8HE"
      },
      "outputs": [],
      "source": [
        "# @title Figure settings\n",
        "import logging\n",
        "logging.getLogger('matplotlib.font_manager').disabled = True\n",
        "\n",
        "import ipywidgets as widgets  # interactive display\n",
        "%config InlineBackend.figure_format = 'retina'\n",
        "plt.style.use(\"https://raw.githubusercontent.com/NeuromatchAcademy/content-creation/main/nma.mplstyle\")"
      ]
    },
    {
      "cell_type": "code",
      "execution_count": 30,
      "metadata": {
        "cellView": "form",
        "execution": {},
        "id": "WjeJoB2xo8HF"
      },
      "outputs": [],
      "source": [
        "# @title Download NLTK data (`punkt`, `averaged_perceptron_tagger`, `brown`, `webtext`)\n",
        "\n",
        "\"\"\"\n",
        "NLTK Download:\n",
        "\n",
        "import nltk\n",
        "nltk.download('punkt')\n",
        "nltk.download('averaged_perceptron_tagger')\n",
        "nltk.download('brown')\n",
        "nltk.download('webtext')\n",
        "\"\"\"\n",
        "\n",
        "import os, requests, zipfile\n",
        "\n",
        "os.environ['NLTK_DATA'] = 'nltk_data/'\n",
        "\n",
        "fname = 'nltk_data.zip'\n",
        "url = 'https://osf.io/download/zqw5s/'\n",
        "\n",
        "r = requests.get(url, allow_redirects=True)\n",
        "\n",
        "with open(fname, 'wb') as fd:\n",
        "  fd.write(r.content)\n",
        "\n",
        "with zipfile.ZipFile(fname, 'r') as zip_ref:\n",
        "  zip_ref.extractall('.')"
      ]
    },
    {
      "cell_type": "code",
      "execution_count": 31,
      "metadata": {
        "cellView": "form",
        "execution": {},
        "id": "syVf0x3co8HF"
      },
      "outputs": [],
      "source": [
        "# @title Helper functions\n",
        "global category\n",
        "global brown_wordlist\n",
        "global w2vmodel\n",
        "category = ['editorial', 'fiction', 'government', 'mystery', 'news',\n",
        "                   'religion', 'reviews', 'romance', 'science_fiction']\n",
        "brown_wordlist = list(brown.words(categories=category))\n",
        "\n",
        "def create_word2vec_model(category = 'news', size = 50, sg = 1, min_count = 10):\n",
        "    sentences = brown.sents(categories=category)\n",
        "    with open(\"brown_sentences.txt\", \"w\") as f:\n",
        "        for sentence in sentences:\n",
        "            f.write(\" \".join(sentence) + \"\\n\")\n",
        "        model = fasttext.train_unsupervised('brown_sentences.txt',\n",
        "                                            model='skipgram',\n",
        "                                            dim=size,\n",
        "                                            minCount=min_count)\n",
        "    return model\n",
        "\n",
        "w2vmodel = create_word2vec_model(category)\n",
        "\n",
        "def model_dictionary(model):\n",
        "  print(w2vmodel.words)\n",
        "  return w2vmodel.words\n",
        "\n",
        "def get_embedding(word, model):\n",
        "  if word in model:\n",
        "    return model[word]\n",
        "  else:\n",
        "    print(f' |{word}| not in model dictionary. Try another word')\n",
        "\n",
        "def check_word_in_corpus(word, model):\n",
        "  if word in model:\n",
        "    print('Word present!')\n",
        "    return model[word]\n",
        "  else:\n",
        "    print('Word NOT present!')\n",
        "    return None\n",
        "\n",
        "def get_embeddings(words, model):\n",
        "  embed_list = [get_embedding(word, model) for word in words]\n",
        "  return np.array(embed_list)\n",
        "\n",
        "def similar_by_word(word, model):\n",
        "  return model.get_nearest_neighbors(word)\n",
        "\n",
        "def similar_by_vector(vector, model):\n",
        "  vecs = [w2vmodel[w] for w in w2vmodel.words]\n",
        "  x = cosine_similarity(vecs, [vector])\n",
        "  top = np.argsort(x, axis=0)[::-1].flatten()\n",
        "  return [w2vmodel.words[w] for w in top[:10]]\n",
        "\n",
        "def softmax(x):\n",
        "    f_x = np.exp(x) / np.sum(np.exp(x))\n",
        "    return f_x"
      ]
    },
    {
      "cell_type": "code",
      "execution_count": 32,
      "metadata": {
        "cellView": "form",
        "execution": {},
        "id": "71eWZ0euo8HF"
      },
      "outputs": [],
      "source": [
        "# @title Set random seed\n",
        "\n",
        "# @markdown Executing `set_seed(seed=seed)` you are setting the seed\n",
        "\n",
        "# for DL its critical to set the random seed so that students can have a\n",
        "# baseline to compare their results to expected results.\n",
        "# Read more here: https://pytorch.org/docs/stable/notes/randomness.html\n",
        "\n",
        "# Call `set_seed` function in the exercises to ensure reproducibility.\n",
        "import random\n",
        "import torch\n",
        "\n",
        "def set_seed(seed=None, seed_torch=True):\n",
        "  \"\"\"\n",
        "  Handles variability by controlling sources of randomness\n",
        "  through set seed values\n",
        "\n",
        "  Args:\n",
        "    seed: Integer\n",
        "      Set the seed value to given integer.\n",
        "      If no seed, set seed value to random integer in the range 2^32\n",
        "    seed_torch: Bool\n",
        "      Seeds the random number generator for all devices to\n",
        "      offer some guarantees on reproducibility\n",
        "\n",
        "  Returns:\n",
        "    Nothing\n",
        "  \"\"\"\n",
        "  if seed is None:\n",
        "    seed = np.random.choice(2 ** 32)\n",
        "  random.seed(seed)\n",
        "  np.random.seed(seed)\n",
        "  if seed_torch:\n",
        "    torch.manual_seed(seed)\n",
        "    torch.cuda.manual_seed_all(seed)\n",
        "    torch.cuda.manual_seed(seed)\n",
        "    torch.backends.cudnn.benchmark = False\n",
        "    torch.backends.cudnn.deterministic = True\n",
        "\n",
        "  print(f'Random seed {seed} has been set.')\n",
        "\n",
        "\n",
        "# In case that `DataLoader` is used\n",
        "def seed_worker(worker_id):\n",
        "  \"\"\"\n",
        "  DataLoader will reseed workers following randomness in\n",
        "  multi-process data loading algorithm.\n",
        "\n",
        "  Args:\n",
        "    worker_id: integer\n",
        "      ID of subprocess to seed. 0 means that\n",
        "      the data will be loaded in the main process\n",
        "      Refer: https://pytorch.org/docs/stable/data.html#data-loading-randomness for more details\n",
        "\n",
        "  Returns:\n",
        "    Nothing\n",
        "  \"\"\"\n",
        "  worker_seed = torch.initial_seed() % 2**32\n",
        "  np.random.seed(worker_seed)\n",
        "  random.seed(worker_seed)"
      ]
    },
    {
      "cell_type": "code",
      "execution_count": 33,
      "metadata": {
        "cellView": "form",
        "execution": {},
        "id": "63yyPn-So8HF"
      },
      "outputs": [],
      "source": [
        "# @title Set device (GPU or CPU). Execute `set_device()`\n",
        "# especially if torch modules used.\n",
        "\n",
        "# inform the user if the notebook uses GPU or CPU.\n",
        "\n",
        "def set_device():\n",
        "  \"\"\"\n",
        "  Set the device. CUDA if available, CPU otherwise\n",
        "\n",
        "  Args:\n",
        "    None\n",
        "\n",
        "  Returns:\n",
        "    Nothing\n",
        "  \"\"\"\n",
        "  device = \"cuda\" if torch.cuda.is_available() else \"cpu\"\n",
        "  if device != \"cuda\":\n",
        "    print(\"WARNING: For this notebook to perform best, \"\n",
        "        \"if possible, in the menu under `Runtime` -> \"\n",
        "        \"`Change runtime type.`  select `GPU` \")\n",
        "  else:\n",
        "    print(\"GPU is enabled in this notebook.\")\n",
        "\n",
        "  return device"
      ]
    },
    {
      "cell_type": "code",
      "execution_count": 34,
      "metadata": {
        "execution": {},
        "id": "7GXHdyHXo8HG",
        "colab": {
          "base_uri": "https://localhost:8080/"
        },
        "outputId": "f9a67a68-9589-4728-f927-0f74587ba065"
      },
      "outputs": [
        {
          "output_type": "stream",
          "name": "stdout",
          "text": [
            "Random seed 2021 has been set.\n",
            "WARNING: For this notebook to perform best, if possible, in the menu under `Runtime` -> `Change runtime type.`  select `GPU` \n"
          ]
        }
      ],
      "source": [
        "SEED = 2021\n",
        "set_seed(seed=SEED)\n",
        "DEVICE = set_device()"
      ]
    },
    {
      "cell_type": "markdown",
      "metadata": {
        "execution": {},
        "id": "xKrciB96o8HG"
      },
      "source": [
        "## Load Yelp dataset\n",
        "\n",
        "**Description**:\n",
        "\n",
        "YELP dataset contains a subset of Yelp's businesses/reviews and user data.\n",
        "\n",
        "    1,162,119 tips by 2,189,457 users\n",
        "    Over 1.2 million business attributes like hours, parking, availability, and ambience\n",
        "    Aggregated check-ins over time for each of the 138,876 businesses\n",
        "\n",
        "Each file is composed of a single object type, one JSON-object per-line.\n",
        "For detailed structure, see [here](https://www.yelp.com/dataset/documentation/main)."
      ]
    },
    {
      "cell_type": "code",
      "execution_count": 35,
      "metadata": {
        "cellView": "form",
        "execution": {},
        "id": "tTw8XIVbo8HG"
      },
      "outputs": [],
      "source": [
        "# @title `load_yelp_data` helper function\n",
        "\n",
        "def load_yelp_data(DATASET, tokenizer):\n",
        "  \"\"\"\n",
        "  Load Train and Test sets from the YELP dataset.\n",
        "\n",
        "  Args:\n",
        "    DATASET: datasets.dataset_dict.DatasetDict\n",
        "      Dataset dictionary object containing 'train' and 'test' sets of YELP reviews and sentiment classes\n",
        "    tokenizer: Transformer autotokenizer object\n",
        "      Downloaded vocabulary from bert-base-cased and cache.\n",
        "\n",
        "  Returns:\n",
        "    train_loader: Iterable\n",
        "      Dataloader for the Training set with corresponding batch size\n",
        "    test_loader: Iterable\n",
        "      Dataloader for the Test set with corresponding batch size\n",
        "    max_len: Integer\n",
        "      Input sequence size\n",
        "    vocab_size: Integer\n",
        "      Size of the base vocabulary (without the added tokens).\n",
        "    num_classes: Integer\n",
        "      Number of sentiment class labels\n",
        "  \"\"\"\n",
        "  dataset = DATASET\n",
        "  dataset['train'] = dataset['train'].select(range(10000))\n",
        "  dataset['test'] = dataset['test'].select(range(5000))\n",
        "  dataset = dataset.map(lambda e: tokenizer(e['text'], truncation=True,\n",
        "                                            padding='max_length'), batched=True)\n",
        "  dataset.set_format(type='torch', columns=['input_ids', 'label'])\n",
        "\n",
        "  train_loader = torch.utils.data.DataLoader(dataset['train'], batch_size=32)\n",
        "  test_loader = torch.utils.data.DataLoader(dataset['test'], batch_size=32)\n",
        "\n",
        "  vocab_size = tokenizer.vocab_size\n",
        "  max_len = next(iter(train_loader))['input_ids'].shape[0]\n",
        "  num_classes = next(iter(train_loader))['label'].shape[0]\n",
        "\n",
        "  return train_loader, test_loader, max_len, vocab_size, num_classes"
      ]
    },
    {
      "cell_type": "code",
      "execution_count": 36,
      "metadata": {
        "cellView": "form",
        "execution": {},
        "id": "olTArdZho8HH",
        "colab": {
          "base_uri": "https://localhost:8080/",
          "height": 163,
          "referenced_widgets": [
            "4e0e834446dc4b5d8d0206ef72727577",
            "8759441bc06d43b1b6e449423954dcf9",
            "c8ce85b319654b608622a53dc53b5a94",
            "474a06e9d4e74d1c8c3f7873f31c8812",
            "6fa78e0f814c44778e3eba37dc6891d5",
            "a18eaa175dbd4a45836d9beca5a04b0d",
            "18601dce66f64d55906ea2b8be02034f",
            "c01d3342ee794ce4bbd87c93a1a0a13b",
            "2765da0a7c5e41ef80e07203127c5347",
            "d2ba8f8e5f69401d94bb5112dbe5d5af",
            "0bf3a6a3d89b47528221702dd5ded5c9",
            "09a8b442c59a4fd591da4fa556d20692",
            "81e5eabc9c5e48f7bb222073222acd2c",
            "81a1c8793f864434912066edc074f22e",
            "ab5086b55ad44d42b02dff6c363732b1",
            "1e1783c3a920408fa23d403aa8ce6102",
            "b5cd525ab33442d2a38d401fe9d66206",
            "83a7d048b293447e8a8a8a63fba7f30a",
            "51f8aff13572409eb95b2717a129e249",
            "5027b8482ea74a7c80632af5a8f93bc6",
            "8aaa30c781954c4683647531e84ebe03",
            "6cb0113cb6b843aa93c9beb282d59a6b",
            "88108c7682b945758ff29416598882ac",
            "335305b4f711471e8fe1a39b23a5f64b",
            "b67309660ac84f30bdad388719e272b4",
            "bec7c80bda5c4d8c8a3acff5125d5d40",
            "87882d67eec34d93b6252c98fc9da19c",
            "0fc0f368197243a7b9aa1e8b1b48992c",
            "bd6df4ad77f84cbf991f0b8f88457eaa",
            "31bd6c37477443619ddfedf843d1b2ac",
            "f0ea35913a97452095c3858fb1eed08a",
            "c89a6117abc5410a8ba8acc0c1de4bfe",
            "018e0de1a2b040e7b4be17c0d7d83789",
            "4b0eeecaa2a841b4a1ca3fc1ddb15723",
            "0c6e0cc6422d4c7a87275677796be618",
            "7788db8585324adba41743fa0c746bd1",
            "88457f73aa8b40a5ba1cf0136882de7c",
            "ddb546ff059440f7816fae7fc0ca21da",
            "d893f794e590468f978610af6a992a46",
            "51f735e3369848f28e9da4c32c9876f5",
            "57b9abd5e9934d2bbabccbb7c73a2850",
            "37b7d425259d4ee0975e2c47e38ebfff",
            "6364b5ade52a4f21b6bea066e46aeb7c",
            "478ee9e7ef3c425d90aa35bc06e3fb19"
          ]
        },
        "outputId": "2937156c-6e2f-4ed9-9a43-4bbdb62e3fb5"
      },
      "outputs": [
        {
          "output_type": "display_data",
          "data": {
            "text/plain": [
              "train-00000-of-00001.parquet:   0%|          | 0.00/299M [00:00<?, ?B/s]"
            ],
            "application/vnd.jupyter.widget-view+json": {
              "version_major": 2,
              "version_minor": 0,
              "model_id": "4e0e834446dc4b5d8d0206ef72727577"
            }
          },
          "metadata": {}
        },
        {
          "output_type": "display_data",
          "data": {
            "text/plain": [
              "test-00000-of-00001.parquet:   0%|          | 0.00/23.5M [00:00<?, ?B/s]"
            ],
            "application/vnd.jupyter.widget-view+json": {
              "version_major": 2,
              "version_minor": 0,
              "model_id": "09a8b442c59a4fd591da4fa556d20692"
            }
          },
          "metadata": {}
        },
        {
          "output_type": "display_data",
          "data": {
            "text/plain": [
              "Generating train split:   0%|          | 0/650000 [00:00<?, ? examples/s]"
            ],
            "application/vnd.jupyter.widget-view+json": {
              "version_major": 2,
              "version_minor": 0,
              "model_id": "88108c7682b945758ff29416598882ac"
            }
          },
          "metadata": {}
        },
        {
          "output_type": "display_data",
          "data": {
            "text/plain": [
              "Generating test split:   0%|          | 0/50000 [00:00<?, ? examples/s]"
            ],
            "application/vnd.jupyter.widget-view+json": {
              "version_major": 2,
              "version_minor": 0,
              "model_id": "4b0eeecaa2a841b4a1ca3fc1ddb15723"
            }
          },
          "metadata": {}
        },
        {
          "output_type": "stream",
          "name": "stdout",
          "text": [
            "<class 'datasets.dataset_dict.DatasetDict'>\n"
          ]
        }
      ],
      "source": [
        "# @title Download and load the dataset\n",
        "\n",
        "import requests, tarfile\n",
        "\n",
        "os.environ['HF_DATASETS_CACHE'] = 'data/'\n",
        "\n",
        "url = \"https://osf.io/kthjg/download\"\n",
        "fname = \"huggingface.tar.gz\"\n",
        "\n",
        "if not os.path.exists(fname):\n",
        "  print('Dataset is being downloading...')\n",
        "  r = requests.get(url, allow_redirects=True)\n",
        "  with open(fname, 'wb') as fd:\n",
        "    fd.write(r.content)\n",
        "  print('Download is finished.')\n",
        "\n",
        "  with tarfile.open(fname) as ft:\n",
        "    ft.extractall('data/')\n",
        "  print('Files have been extracted.')\n",
        "\n",
        "DATASET = datasets.load_dataset(\"yelp_review_full\",\n",
        "                                download_mode=\"reuse_dataset_if_exists\",\n",
        "                                cache_dir='data/')\n",
        "\n",
        "# If the above produces an error uncomment below:\n",
        "# DATASET = load_dataset(\"yelp_review_full\", ignore_verifications=True)\n",
        "print(type(DATASET))"
      ]
    },
    {
      "cell_type": "markdown",
      "metadata": {
        "execution": {},
        "id": "ak0Z_U1go8HH"
      },
      "source": [
        "### Tokenizer\n",
        "\n",
        "A tokenizer is in charge of preparing the inputs for a model i.e., splitting strings in sub-word token strings, converting tokens strings to ids and back, and encoding/decoding (i.e., tokenizing and converting to integers). There are multiple tokenizer variants. BERT base model (cased) has been used here. BERT is a transformers model pretrained on a large corpus of English data in a self-supervised fashion. Pretrained model on English language using a masked language modeling (MLM) objective. This model is case-sensitive: it differentiates between english and English. For more information, see [here](https://huggingface.co/bert-base-cased)."
      ]
    },
    {
      "cell_type": "code",
      "execution_count": 37,
      "metadata": {
        "execution": {},
        "id": "slIxf_u6o8HH",
        "colab": {
          "base_uri": "https://localhost:8080/",
          "height": 81,
          "referenced_widgets": [
            "4adc3600b6714928bc93bebef766f396",
            "f69351eb14f14ac19be1d537d3d2d5d3",
            "38080b608ba544558618c18c54967745",
            "1692cbeda16c4d958406582929de9231",
            "005178f839b54bb29f59a5d51cb3f1e2",
            "674c3227c08249dd85095bf6d42b559a",
            "68eb23f74c9b4b93a1c4ae2c699bbd7a",
            "93d929d21b76454680356ae1ce02ff33",
            "16a0dd484e4042edb08f2d4a2ecc5e3d",
            "04c95156c02044c9a54997b83dfad947",
            "3a000141187c4ec8a6d15c551ab9fbe5",
            "3c4bf31a12e54f37bb2475843105d970",
            "d80876fdd0ed4781b5548671795e566c",
            "a588069a1a4b45b4bb0a123f0af8f1c6",
            "1d3ea80c28f94734a9049515f3a05f58",
            "25b618e350d14f5abe7b905cb408f145",
            "ad39b83af8874bc2828c05bf934a2a2f",
            "04635103f6a34ff3af89907f0b8d22c1",
            "87df4127f50a45fa8cb933e7b786d3cb",
            "9487ff719a344b9c84dc452e2d8a3301",
            "f4f54b3140194db39a445c85b4f9a9bf",
            "ec61f8ab15ef49479136b7ac0c1b13ec"
          ]
        },
        "outputId": "f7ef53b5-8216-4f98-9e81-c8c8fe3a2979"
      },
      "outputs": [
        {
          "output_type": "display_data",
          "data": {
            "text/plain": [
              "Map:   0%|          | 0/10000 [00:00<?, ? examples/s]"
            ],
            "application/vnd.jupyter.widget-view+json": {
              "version_major": 2,
              "version_minor": 0,
              "model_id": "4adc3600b6714928bc93bebef766f396"
            }
          },
          "metadata": {}
        },
        {
          "output_type": "display_data",
          "data": {
            "text/plain": [
              "Map:   0%|          | 0/5000 [00:00<?, ? examples/s]"
            ],
            "application/vnd.jupyter.widget-view+json": {
              "version_major": 2,
              "version_minor": 0,
              "model_id": "3c4bf31a12e54f37bb2475843105d970"
            }
          },
          "metadata": {}
        }
      ],
      "source": [
        "tokenizer = AutoTokenizer.from_pretrained('bert-base-cased', cache_dir='data/')\n",
        "train_loader, test_loader, max_len, vocab_size, num_classes = load_yelp_data(DATASET, tokenizer)\n",
        "\n",
        "pred_text = DATASET['test']['text'][28]\n",
        "actual_label = DATASET['test']['label'][28]\n",
        "batch1 = next(iter(test_loader))"
      ]
    },
    {
      "cell_type": "code",
      "execution_count": 38,
      "metadata": {
        "cellView": "form",
        "execution": {},
        "id": "VbnVulMeo8HH"
      },
      "outputs": [],
      "source": [
        "# @title Helper functions for BERT infilling\n",
        "from transformers import logging\n",
        "logging.set_verbosity_error()\n",
        "\n",
        "def transform_sentence_for_bert(sent, masked_word = \"___\"):\n",
        "  \"\"\"\n",
        "  By default takes a sentence with ___ instead of a masked word.\n",
        "\n",
        "  Args:\n",
        "    sent: String\n",
        "      An input sentence\n",
        "    masked_word: String\n",
        "      Masked part of the sentence\n",
        "\n",
        "  Returns:\n",
        "    str: String\n",
        "      Sentence that could be mapped to BERT\n",
        "  \"\"\"\n",
        "  splitted = sent.split(\"___\")\n",
        "  assert (len(splitted) == 2), \"Missing masked word. Make sure to mark it as ___\"\n",
        "\n",
        "  return '[CLS] ' + splitted[0] + \"[MASK]\" + splitted[1] + ' [SEP]'\n",
        "\n",
        "\n",
        "def parse_text_and_words(raw_line, mask = \"___\"):\n",
        "  \"\"\"\n",
        "  Takes a line that has multiple options for some position in the text.\n",
        "\n",
        "  Usage/Example:\n",
        "    Input: The doctor picked up his/her bag\n",
        "    Output: (The doctor picked up ___ bag, ['his', 'her'])\n",
        "\n",
        "  Args:\n",
        "    raw_line: String\n",
        "      A line aligning with format - 'some text option1/.../optionN some text'\n",
        "    mask: String\n",
        "      The replacement for .../... section\n",
        "\n",
        "  Returns:\n",
        "    str: String\n",
        "      Text with mask instead of .../... section\n",
        "    list: List\n",
        "      List of words from the .../... section\n",
        "  \"\"\"\n",
        "  splitted = raw_line.split(' ')\n",
        "  mask_index = -1\n",
        "  for i in range(len(splitted)):\n",
        "    if \"/\" in splitted[i]:\n",
        "      mask_index = i\n",
        "      break\n",
        "  assert(mask_index != -1), \"No '/'-separated words\"\n",
        "  words = splitted[mask_index].split('/')\n",
        "  splitted[mask_index] = mask\n",
        "  return \" \".join(splitted), words\n",
        "\n",
        "\n",
        "def get_probabilities_of_masked_words(text, words):\n",
        "  \"\"\"\n",
        "  Computes probabilities of each word in the masked section of the text.\n",
        "\n",
        "  Args:\n",
        "    text: String\n",
        "      A sentence with ___ instead of a masked word.\n",
        "    words: List\n",
        "      Array of words.\n",
        "\n",
        "  Returns:\n",
        "    list: List\n",
        "      Predicted probabilities for given words.\n",
        "  \"\"\"\n",
        "  text = transform_sentence_for_bert(text)\n",
        "  tokenizer = BertTokenizer.from_pretrained('bert-base-uncased')\n",
        "  for i in range(len(words)):\n",
        "    words[i] = tokenizer.tokenize(words[i])[0]\n",
        "  words_idx = [tokenizer.convert_tokens_to_ids([word]) for word in words]\n",
        "  tokenized_text = tokenizer.tokenize(text)\n",
        "  indexed_tokens = tokenizer.convert_tokens_to_ids(tokenized_text)\n",
        "  masked_index = tokenized_text.index('[MASK]')\n",
        "  tokens_tensor = torch.tensor([indexed_tokens])\n",
        "\n",
        "  pretrained_masked_model = BertForMaskedLM.from_pretrained('bert-base-uncased')\n",
        "  pretrained_masked_model.eval()\n",
        "\n",
        "  # Predict all tokens\n",
        "  with torch.no_grad():\n",
        "    predictions = pretrained_masked_model(tokens_tensor)\n",
        "  probabilities = F.softmax(predictions[0][0,masked_index], dim = 0)\n",
        "  predicted_index = torch.argmax(probabilities).item()\n",
        "\n",
        "  return [probabilities[ix].item() for ix in words_idx]"
      ]
    },
    {
      "cell_type": "markdown",
      "metadata": {
        "execution": {},
        "id": "OrfAdzALo8HH"
      },
      "source": [
        "---\n",
        "# Section 1: Attention overview\n",
        "\n",
        "*Time estimate: ~20mins*"
      ]
    },
    {
      "cell_type": "code",
      "execution_count": 15,
      "metadata": {
        "cellView": "form",
        "execution": {},
        "id": "cLSEWpCFo8HH",
        "colab": {
          "base_uri": "https://localhost:8080/",
          "height": 581,
          "referenced_widgets": [
            "2fdd94adbc034c6eb0fd6e9af83c63a6",
            "b559b236039e4696923aa145b3ca8935",
            "121ef70f5e024dd0b48f98b9307b22d1",
            "7e6707e95195487ebf12e257c0d81ada",
            "c31e2b71eb3e4463b6d931987a3debbb",
            "5e4d9c14cecd428282d5c4a0fe5be537"
          ]
        },
        "outputId": "e150e437-af76-400c-bb54-15a88645d782"
      },
      "outputs": [
        {
          "output_type": "display_data",
          "data": {
            "text/plain": [
              "Tab(children=(Output(), Output()), _titles={'0': 'Youtube', '1': 'Bilibili'})"
            ],
            "application/vnd.jupyter.widget-view+json": {
              "version_major": 2,
              "version_minor": 0,
              "model_id": "2fdd94adbc034c6eb0fd6e9af83c63a6"
            }
          },
          "metadata": {}
        }
      ],
      "source": [
        "# @title Video 1: Introduction\n",
        "from ipywidgets import widgets\n",
        "from IPython.display import YouTubeVideo\n",
        "from IPython.display import IFrame\n",
        "from IPython.display import display\n",
        "\n",
        "\n",
        "class PlayVideo(IFrame):\n",
        "  def __init__(self, id, source, page=1, width=400, height=300, **kwargs):\n",
        "    self.id = id\n",
        "    if source == 'Bilibili':\n",
        "      src = f'https://player.bilibili.com/player.html?bvid={id}&page={page}'\n",
        "    elif source == 'Osf':\n",
        "      src = f'https://mfr.ca-1.osf.io/render?url=https://osf.io/download/{id}/?direct%26mode=render'\n",
        "    super(PlayVideo, self).__init__(src, width, height, **kwargs)\n",
        "\n",
        "\n",
        "def display_videos(video_ids, W=400, H=300, fs=1):\n",
        "  tab_contents = []\n",
        "  for i, video_id in enumerate(video_ids):\n",
        "    out = widgets.Output()\n",
        "    with out:\n",
        "      if video_ids[i][0] == 'Youtube':\n",
        "        video = YouTubeVideo(id=video_ids[i][1], width=W,\n",
        "                             height=H, fs=fs, rel=0)\n",
        "        print(f'Video available at https://youtube.com/watch?v={video.id}')\n",
        "      else:\n",
        "        video = PlayVideo(id=video_ids[i][1], source=video_ids[i][0], width=W,\n",
        "                          height=H, fs=fs, autoplay=False)\n",
        "        if video_ids[i][0] == 'Bilibili':\n",
        "          print(f'Video available at https://www.bilibili.com/video/{video.id}')\n",
        "        elif video_ids[i][0] == 'Osf':\n",
        "          print(f'Video available at https://osf.io/{video.id}')\n",
        "      display(video)\n",
        "    tab_contents.append(out)\n",
        "  return tab_contents\n",
        "\n",
        "\n",
        "video_ids = [('Youtube', 'UnuSQeT8GqQ'), ('Bilibili', 'BV1hf4y1j7XE')]\n",
        "tab_contents = display_videos(video_ids, W=854, H=480)\n",
        "tabs = widgets.Tab()\n",
        "tabs.children = tab_contents\n",
        "for i in range(len(tab_contents)):\n",
        "  tabs.set_title(i, video_ids[i][0])\n",
        "display(tabs)"
      ]
    },
    {
      "cell_type": "code",
      "execution_count": null,
      "metadata": {
        "cellView": "form",
        "execution": {},
        "id": "0ikD7YVEo8HI"
      },
      "outputs": [],
      "source": [
        "# @title Submit your feedback\n",
        "content_review(f\"{feedback_prefix}_Introduction_Video\")"
      ]
    },
    {
      "cell_type": "markdown",
      "metadata": {
        "execution": {},
        "id": "j5BZZis0o8HI"
      },
      "source": [
        "We have seen how RNNs and LSTMs can be used to encode the input and handle long range dependence through recurrence. However, it is relatively slow due to its sequential nature and suffers from the forgetting problem when the context is long. Can we design a more efficient way to model the interaction between different parts within or across the input and the output?\n",
        "\n",
        "Today we will study the attention mechanism and how to use it to represent a sequence, which is at the core of large-scale Transformer models.\n",
        "\n",
        "In a nut shell, attention allows us to represent an object (e.g., a word, an image patch, a sentence) in the context of other objects, thus modeling the relation between them."
      ]
    },
    {
      "cell_type": "markdown",
      "metadata": {
        "execution": {},
        "id": "CDnxXDz1o8HI"
      },
      "source": [
        "### Think! 1: Application of attention\n",
        "\n",
        "Recall that in machine translation, the partial target sequence attends to the source words to decide the next word to translate. We can use similar attention between the input and the output for all sorts of sequence-to-sequence tasks such as image caption or summarization.\n",
        "\n",
        "Can you think of other applications of the attention mechanism? Be creative!"
      ]
    },
    {
      "cell_type": "markdown",
      "metadata": {
        "execution": {},
        "id": "mfqDKkoXo8HI"
      },
      "source": [
        "[*Click for solution*](https://github.com/NeuromatchAcademy/course-content-dl/tree/main/tutorials/W2D5_AttentionAndTransformers/solutions/W2D5_Tutorial1_Solution_199a94f5.py)\n",
        "\n"
      ]
    },
    {
      "cell_type": "code",
      "execution_count": null,
      "metadata": {
        "cellView": "form",
        "execution": {},
        "id": "qWb9EWTDo8HI"
      },
      "outputs": [],
      "source": [
        "# @title Submit your feedback\n",
        "content_review(f\"{feedback_prefix}_Application_of_attention_Discussion\")"
      ]
    },
    {
      "cell_type": "markdown",
      "metadata": {
        "execution": {},
        "id": "L00BUsk7o8HI"
      },
      "source": [
        "---\n",
        "# Section 2: Queries, keys, and values\n",
        "\n",
        "*Time estimate: ~40mins*"
      ]
    },
    {
      "cell_type": "code",
      "execution_count": 16,
      "metadata": {
        "cellView": "form",
        "execution": {},
        "id": "giq1Sa_so8HI",
        "colab": {
          "base_uri": "https://localhost:8080/",
          "height": 581,
          "referenced_widgets": [
            "1ddcb270df98451b92a7a7c7d9a680f7",
            "bfbfebe0e8384d2787c0299b7206a291",
            "2759adfe845f41fdb35f1a9a8e2fab4c",
            "5fe93a8bf2644665b8ea28c1c3876dc3",
            "cc8e76ed3d8e4a8bb89fae8391a8ae4c",
            "747b92fa59ad4fc4ad53491f99ef86f9"
          ]
        },
        "outputId": "ee596865-c5be-46bf-bea6-5aa85788461c"
      },
      "outputs": [
        {
          "output_type": "display_data",
          "data": {
            "text/plain": [
              "Tab(children=(Output(), Output()), _titles={'0': 'Youtube', '1': 'Bilibili'})"
            ],
            "application/vnd.jupyter.widget-view+json": {
              "version_major": 2,
              "version_minor": 0,
              "model_id": "1ddcb270df98451b92a7a7c7d9a680f7"
            }
          },
          "metadata": {}
        }
      ],
      "source": [
        "# @title Video 2: Queries, Keys, and Values\n",
        "from ipywidgets import widgets\n",
        "from IPython.display import YouTubeVideo\n",
        "from IPython.display import IFrame\n",
        "from IPython.display import display\n",
        "\n",
        "\n",
        "class PlayVideo(IFrame):\n",
        "  def __init__(self, id, source, page=1, width=400, height=300, **kwargs):\n",
        "    self.id = id\n",
        "    if source == 'Bilibili':\n",
        "      src = f'https://player.bilibili.com/player.html?bvid={id}&page={page}'\n",
        "    elif source == 'Osf':\n",
        "      src = f'https://mfr.ca-1.osf.io/render?url=https://osf.io/download/{id}/?direct%26mode=render'\n",
        "    super(PlayVideo, self).__init__(src, width, height, **kwargs)\n",
        "\n",
        "\n",
        "def display_videos(video_ids, W=400, H=300, fs=1):\n",
        "  tab_contents = []\n",
        "  for i, video_id in enumerate(video_ids):\n",
        "    out = widgets.Output()\n",
        "    with out:\n",
        "      if video_ids[i][0] == 'Youtube':\n",
        "        video = YouTubeVideo(id=video_ids[i][1], width=W,\n",
        "                             height=H, fs=fs, rel=0)\n",
        "        print(f'Video available at https://youtube.com/watch?v={video.id}')\n",
        "      else:\n",
        "        video = PlayVideo(id=video_ids[i][1], source=video_ids[i][0], width=W,\n",
        "                          height=H, fs=fs, autoplay=False)\n",
        "        if video_ids[i][0] == 'Bilibili':\n",
        "          print(f'Video available at https://www.bilibili.com/video/{video.id}')\n",
        "        elif video_ids[i][0] == 'Osf':\n",
        "          print(f'Video available at https://osf.io/{video.id}')\n",
        "      display(video)\n",
        "    tab_contents.append(out)\n",
        "  return tab_contents\n",
        "\n",
        "\n",
        "video_ids = [('Youtube', 'gDNRnjcoMOY'), ('Bilibili', 'BV1Bf4y157LQ')]\n",
        "tab_contents = display_videos(video_ids, W=854, H=480)\n",
        "tabs = widgets.Tab()\n",
        "tabs.children = tab_contents\n",
        "for i in range(len(tab_contents)):\n",
        "  tabs.set_title(i, video_ids[i][0])\n",
        "display(tabs)"
      ]
    },
    {
      "cell_type": "code",
      "execution_count": null,
      "metadata": {
        "cellView": "form",
        "execution": {},
        "id": "w94DgAtJo8HJ"
      },
      "outputs": [],
      "source": [
        "# @title Submit your feedback\n",
        "content_review(f\"{feedback_prefix}_Queries_Keys_and_Values_Video\")"
      ]
    },
    {
      "cell_type": "markdown",
      "metadata": {
        "execution": {},
        "id": "646uKz9Ko8HJ"
      },
      "source": [
        "One way to think about attention is to consider a dictionary that contains all information needed for our task. Each entry in the dictionary contains some value and the corresponding key to retrieve it. For a specific prediction, we would like to retrieve relevant information from the dictionary. Therefore, we issue a query, match it to keys in the dictionary, and return the corresponding values."
      ]
    },
    {
      "cell_type": "markdown",
      "metadata": {
        "execution": {},
        "id": "iDmQnmFWo8HJ"
      },
      "source": [
        "### Interactive Demo 2: Intution behind Attention\n",
        "\n",
        "To understand how attention works, let us consider an example of the word 'bank', which has an ambigious meaning dependent upon the context of the sentence. Let the word 'bank' be the query and consider two keys, each with a different meaning of the word 'bank'.\n",
        "\n",
        "Check out the attention scores of different words in the sentences and the words similar to the final value embedding.\n",
        "\n",
        "In this example we use a simplified model of scaled dot-attention with no linear projections and the word2vec model is used to embed the words.\n",
        "\n"
      ]
    },
    {
      "cell_type": "code",
      "execution_count": 15,
      "metadata": {
        "cellView": "form",
        "execution": {},
        "id": "-w8ixlv8o8HJ",
        "colab": {
          "base_uri": "https://localhost:8080/"
        },
        "outputId": "55436f9c-15c4-4062-96b3-7a3908713a85"
      },
      "outputs": [
        {
          "output_type": "stream",
          "name": "stdout",
          "text": [
            "Words Similar to Query (bank):\n",
            "1. banks\n",
            "2. cocktail\n",
            "3. horizon\n",
            "4. etc.\n",
            "5. Huff\n",
            "6. ranks\n",
            "7. oil\n",
            "8. pilot\n",
            "9. sugar\n",
            "10. Instead\n",
            "\n",
            "Scaled Attention Scores: \n",
            " [('river', np.float64(0.2524561103166365)), ('bank', np.float64(0.24827112618862393)), ('cold', np.float64(0.2416952781756037)), ('water', np.float64(0.2575774853191359))] \n",
            "\n",
            "Words Similar to the final value:\n",
            "1. bottom\n",
            "2. corner\n",
            "3. flash\n",
            "4. flew\n",
            "5. lodge\n",
            "6. dirty\n",
            "7. ranks\n",
            "8. blanket\n",
            "9. Gun\n",
            "10. rifle\n"
          ]
        }
      ],
      "source": [
        "# @title Enter your own query/keys\n",
        "def get_value_attention(w2vmodel, query, keys):\n",
        "  \"\"\"\n",
        "  Function to compute the scaled dot product\n",
        "\n",
        "  Args:\n",
        "    w2vmodel: nn.Module\n",
        "      Embedding model on which attention scores need to be calculated\n",
        "    query: string\n",
        "      Query string\n",
        "    keys: string\n",
        "      Key string\n",
        "\n",
        "  Returns:\n",
        "    None\n",
        "  \"\"\"\n",
        "  # Get the Word2Vec embedding of the query\n",
        "  query_embedding = get_embedding(query, w2vmodel)\n",
        "  # Print similar words to the query\n",
        "  print(f'Words Similar to Query ({query}):')\n",
        "  query_similar_words = similar_by_word(query, w2vmodel)\n",
        "  for idx in range(len(query_similar_words)):\n",
        "    print(f'{idx+1}. {query_similar_words[idx][1]}')\n",
        "  # Get scaling factor i.e. the embedding size\n",
        "  scale = w2vmodel.get_dimension()\n",
        "  # Get the Word2Vec embeddings of the keys\n",
        "  keys = keys.split(' ')\n",
        "  key_embeddings = get_embeddings(keys, w2vmodel)\n",
        "  # Calculate unscaled attention scores\n",
        "  attention = np.dot(query_embedding , key_embeddings.T )\n",
        "  # Scale the attention scores\n",
        "  scaled_attention =  attention / np.sqrt(scale)\n",
        "  # Normalize the scaled attention scores to calculate the probability distribution\n",
        "  softmax_attention = softmax(scaled_attention)\n",
        "  # Print attention scores\n",
        "  print(f'\\nScaled Attention Scores: \\n {list(zip(keys, softmax_attention))} \\n')\n",
        "  # Calculate the value\n",
        "  value = np.dot(softmax_attention, key_embeddings)\n",
        "  # Print words similar to the calculated value\n",
        "  print(f'Words Similar to the final value:')\n",
        "  value_similar_words = similar_by_vector(value, w2vmodel)\n",
        "  for idx in range(len(value_similar_words)):\n",
        "    print(f'{idx+1}. {value_similar_words[idx]}')\n",
        "  return None\n",
        "\n",
        "\n",
        "# w2vmodel model is created in helper functions\n",
        "query = 'bank'  # @param \\['bank']\n",
        "keys = 'river bank cold water'  # @param \\['bank customer need money', 'river bank cold water']\n",
        "get_value_attention(w2vmodel, query, keys)"
      ]
    },
    {
      "cell_type": "markdown",
      "metadata": {
        "execution": {},
        "id": "LvetwOAvo8HJ"
      },
      "source": [
        "Now that you understand how the model works. Feel free to try your own set of queries and keys. Use the cell below to test if a word is present in the corpus. Then enter your query and keys in the cell below.\n",
        "\n",
        "**Note:** be careful with spacing for the keys!\n",
        "\n",
        "There should only be 1 space between each key, and no spaces before or after for the cell to function properly!"
      ]
    },
    {
      "cell_type": "code",
      "execution_count": 16,
      "metadata": {
        "cellView": "form",
        "execution": {},
        "id": "qI8Qfya-o8HJ",
        "colab": {
          "base_uri": "https://localhost:8080/"
        },
        "outputId": "d72e66b9-3df7-4f8e-e500-f05c40c488b6"
      },
      "outputs": [
        {
          "output_type": "stream",
          "name": "stdout",
          "text": [
            "['company', 'state', '.', 'had', 'the', 'dog', 'a', 'first', 'ground', 'accepting']\n"
          ]
        }
      ],
      "source": [
        "# @title Generate random words from the corpus\n",
        "random_words = random.sample(brown_wordlist, 10)\n",
        "print(random_words)"
      ]
    },
    {
      "cell_type": "code",
      "execution_count": 17,
      "metadata": {
        "cellView": "form",
        "execution": {},
        "id": "eROUaeVPo8HJ",
        "colab": {
          "base_uri": "https://localhost:8080/"
        },
        "outputId": "69f5a911-2529-4e32-c0f9-6109033a4e91"
      },
      "outputs": [
        {
          "output_type": "stream",
          "name": "stdout",
          "text": [
            "Word present!\n"
          ]
        }
      ],
      "source": [
        "# @title Check if a word is present in Corpus\n",
        "word = 'fly' #@param \\ {type:\"string\"}\n",
        "_ = check_word_in_corpus(word, w2vmodel)"
      ]
    },
    {
      "cell_type": "code",
      "execution_count": null,
      "metadata": {
        "cellView": "form",
        "execution": {},
        "id": "rhWZW9KAo8HK"
      },
      "outputs": [],
      "source": [
        "# @title Submit your feedback\n",
        "content_review(f\"{feedback_prefix}_Intution_behind_Attention_Interactive_Demo\")"
      ]
    },
    {
      "cell_type": "markdown",
      "metadata": {
        "execution": {},
        "id": "iVkdbhDMo8HK"
      },
      "source": [
        "### Think! 2: Does this model perform well?\n",
        "\n",
        "\n",
        "Discuss how could the model performance be improved."
      ]
    },
    {
      "cell_type": "markdown",
      "metadata": {
        "execution": {},
        "id": "1qdaKlWdo8HK"
      },
      "source": [
        "[*Click for solution*](https://github.com/NeuromatchAcademy/course-content-dl/tree/main/tutorials/W2D5_AttentionAndTransformers/solutions/W2D5_Tutorial1_Solution_7f7e7324.py)\n",
        "\n"
      ]
    },
    {
      "cell_type": "code",
      "execution_count": null,
      "metadata": {
        "cellView": "form",
        "execution": {},
        "id": "vfYmzQZTo8HN"
      },
      "outputs": [],
      "source": [
        "# @title Submit your feedback\n",
        "content_review(f\"{feedback_prefix}_Does_this_model_perform_well_Discussion\")"
      ]
    },
    {
      "cell_type": "markdown",
      "metadata": {
        "execution": {},
        "id": "JfJfpxM2o8HN"
      },
      "source": [
        "### Coding Exercise 2: Dot product attention\n",
        "\n",
        "In this exercise, let's compute the scaled dot product attention using its matrix form.\n",
        "\n",
        "\\begin{equation}\n",
        "\\mathrm{softmax} \\left( \\frac{Q K^\\text{T}}{\\sqrt{d}} \\right) V\n",
        "\\end{equation}\n",
        "\n",
        "where $Q$ denotes the query or values of the embeddings (in other words the hidden states), $K$ the key, and $k$ denotes the dimension of the query key vector.\n",
        "\n",
        "The division by square-root of d is to stabilize the gradients.\n",
        "\n",
        "Note: the function takes an additional argument `h` (number of heads). You can assume it is 1 for now."
      ]
    },
    {
      "cell_type": "code",
      "execution_count": 20,
      "metadata": {
        "execution": {},
        "id": "HSZtiuQWo8HO"
      },
      "outputs": [],
      "source": [
        "class DotProductAttention(nn.Module):\n",
        "  \"\"\" Scaled dot product attention. \"\"\"\n",
        "\n",
        "  def __init__(self, dropout, **kwargs):\n",
        "    \"\"\"\n",
        "    Constructs a Scaled Dot Product Attention Instance.\n",
        "\n",
        "    Args:\n",
        "      dropout: Integer\n",
        "        Specifies probability of dropout hyperparameter\n",
        "\n",
        "    Returns:\n",
        "      Nothing\n",
        "    \"\"\"\n",
        "    super(DotProductAttention, self).__init__(**kwargs)\n",
        "    self.dropout = nn.Dropout(dropout)\n",
        "\n",
        "  def calculate_score(self, queries, keys):\n",
        "      \"\"\"\n",
        "      Compute the score between queries and keys.\n",
        "\n",
        "      Args:\n",
        "      queries: Tensor\n",
        "        Query is your search tag/Question\n",
        "        Shape of `queries`: (`batch_size`, no. of queries, head,`k`)\n",
        "      keys: Tensor\n",
        "        Descriptions associated with the database for instance\n",
        "        Shape of `keys`: (`batch_size`, no. of key-value pairs, head, `k`)\n",
        "      \"\"\"\n",
        "      return torch.bmm(queries, keys.transpose(1, 2)) / math.sqrt(queries.shape[-1])\n",
        "\n",
        "  def forward(self, queries, keys, values, b, h, t, k):\n",
        "    \"\"\"\n",
        "    Compute dot products. This is the same operation for each head,\n",
        "    so we can fold the heads into the batch dimension and use torch.bmm\n",
        "    Note: .contiguous() doesn't change the actual shape of the data,\n",
        "    but it rearranges the tensor in memory, which will help speed up the computation\n",
        "    for this batch matrix multiplication.\n",
        "    .transpose() is used to change the shape of a tensor. It returns a new tensor\n",
        "    that shares the data with the original tensor. It can only swap two dimensions.\n",
        "\n",
        "    Args:\n",
        "      queries: Tensor\n",
        "        Query is your search tag/Question\n",
        "        Shape of `queries`: (`batch_size`, no. of queries, head,`k`)\n",
        "      keys: Tensor\n",
        "        Descriptions associated with the database for instance\n",
        "        Shape of `keys`: (`batch_size`, no. of key-value pairs, head, `k`)\n",
        "      values: Tensor\n",
        "        Values are returned results on the query\n",
        "        Shape of `values`: (`batch_size`, head, no. of key-value pairs,  `k`)\n",
        "      b: Integer\n",
        "        Batch size\n",
        "      h: Integer\n",
        "        Number of heads\n",
        "      t: Integer\n",
        "        Number of keys/queries/values (for simplicity, let's assume they have the same sizes)\n",
        "      k: Integer\n",
        "        Embedding size\n",
        "\n",
        "    Returns:\n",
        "      out: Tensor\n",
        "        Matrix Multiplication between the keys, queries and values.\n",
        "    \"\"\"\n",
        "    keys = keys.transpose(1, 2).contiguous().view(b * h, t, k)\n",
        "    queries = queries.transpose(1, 2).contiguous().view(b * h, t, k)\n",
        "    values = values.transpose(1, 2).contiguous().view(b * h, t, k)\n",
        "\n",
        "    #################################################\n",
        "    ## Implement Scaled dot product attention\n",
        "    # See the shape of the queries and keys above. You may want to use the `transpose` function\n",
        "    # raise NotImplementedError(\"Scaled dot product attention `forward`\")\n",
        "    #################################################\n",
        "\n",
        "    # Matrix Multiplication between the keys and queries\n",
        "    score = self.calculate_score(queries, keys)  # size: (b * h, t, t)\n",
        "    softmax_weights = F.softmax(score, dim=2)  # row-wise normalization of weights\n",
        "\n",
        "    # Matrix Multiplication between the output of the key and queries multiplication and values.\n",
        "    out = torch.bmm(self.dropout(softmax_weights), values).view(b, h, t, k)  # rearrange h and t dims\n",
        "    out = out.transpose(1, 2).contiguous().view(b, t, h * k)\n",
        "\n",
        "    return out"
      ]
    },
    {
      "cell_type": "markdown",
      "metadata": {
        "execution": {},
        "id": "TRgYHBGho8HO"
      },
      "source": [
        "[*Click for solution*](https://github.com/NeuromatchAcademy/course-content-dl/tree/main/tutorials/W2D5_AttentionAndTransformers/solutions/W2D5_Tutorial1_Solution_65bfafd0.py)\n",
        "\n"
      ]
    },
    {
      "cell_type": "code",
      "execution_count": 21,
      "metadata": {
        "cellView": "form",
        "execution": {},
        "id": "UqeJUKlko8HO",
        "colab": {
          "base_uri": "https://localhost:8080/"
        },
        "outputId": "03e2a3f1-8269-41a9-eaa7-b920c808aadc"
      },
      "outputs": [
        {
          "output_type": "stream",
          "name": "stdout",
          "text": [
            "Correctly implemented!\n"
          ]
        }
      ],
      "source": [
        "# @title Check Coding Exercise 2!\n",
        "\n",
        "# Instantiate dot product attention\n",
        "dot_product_attention = DotProductAttention(0)\n",
        "\n",
        "# Encode query, keys, values and answers\n",
        "queries = torch.Tensor([[[[12., 2., 17., 88.]], [[1., 43., 13., 7.]], [[69., 48., 18, 55.]]]])\n",
        "keys = torch.Tensor([[[[10., 99., 65., 10.]], [[85., 6., 114., 53.]], [[25., 5., 3, 4.]]]])\n",
        "values = torch.Tensor([[[[33., 32., 18., 3.]], [[36., 77., 90., 37.]], [[19., 47., 72, 39.]]]])\n",
        "answer = torch.Tensor([[[36., 77., 90., 37.], [33., 32., 18.,  3.], [36., 77., 90., 37.]]])\n",
        "\n",
        "b, t, h, k = queries.shape\n",
        "\n",
        "# Find dot product attention\n",
        "out = dot_product_attention(queries, keys, values, b, h, t, k)\n",
        "\n",
        "if torch.equal(out, answer):\n",
        "  print('Correctly implemented!')\n",
        "else:\n",
        "  print('ERROR!')"
      ]
    },
    {
      "cell_type": "code",
      "execution_count": null,
      "metadata": {
        "cellView": "form",
        "execution": {},
        "id": "DqEkK2eho8HO"
      },
      "outputs": [],
      "source": [
        "# @title Submit your feedback\n",
        "content_review(f\"{feedback_prefix}_Dot_product_attention_Exercise\")"
      ]
    },
    {
      "cell_type": "markdown",
      "metadata": {
        "execution": {},
        "id": "MXl3Ce7Qo8HO"
      },
      "source": [
        "---\n",
        "# Section 3: Multihead attention\n",
        "\n",
        "*Time estimate: ~21mins*"
      ]
    },
    {
      "cell_type": "code",
      "execution_count": 22,
      "metadata": {
        "cellView": "form",
        "execution": {},
        "id": "1kdAlFalo8HO",
        "colab": {
          "base_uri": "https://localhost:8080/",
          "height": 581,
          "referenced_widgets": [
            "bcc0aaefcbc5469daad916bfe2574722",
            "673c81cd5bcc4113a2ce4f7129623a48",
            "0fcbbbe0605845a6ac256923908eee95",
            "a8ef2db0eb8a444790735fa80ca6814a",
            "d0913815e04c42d9ac4d7aaaff67e163",
            "d36f876025924126bf4f5f59b42ef877"
          ]
        },
        "outputId": "95aad69c-e2ca-458f-cb5d-7d364a73eec9"
      },
      "outputs": [
        {
          "output_type": "display_data",
          "data": {
            "text/plain": [
              "Tab(children=(Output(), Output()), _titles={'0': 'Youtube', '1': 'Bilibili'})"
            ],
            "application/vnd.jupyter.widget-view+json": {
              "version_major": 2,
              "version_minor": 0,
              "model_id": "bcc0aaefcbc5469daad916bfe2574722"
            }
          },
          "metadata": {}
        }
      ],
      "source": [
        "# @title Video 3: Multi-head Attention\n",
        "from ipywidgets import widgets\n",
        "from IPython.display import YouTubeVideo\n",
        "from IPython.display import IFrame\n",
        "from IPython.display import display\n",
        "\n",
        "\n",
        "class PlayVideo(IFrame):\n",
        "  def __init__(self, id, source, page=1, width=400, height=300, **kwargs):\n",
        "    self.id = id\n",
        "    if source == 'Bilibili':\n",
        "      src = f'https://player.bilibili.com/player.html?bvid={id}&page={page}'\n",
        "    elif source == 'Osf':\n",
        "      src = f'https://mfr.ca-1.osf.io/render?url=https://osf.io/download/{id}/?direct%26mode=render'\n",
        "    super(PlayVideo, self).__init__(src, width, height, **kwargs)\n",
        "\n",
        "\n",
        "def display_videos(video_ids, W=400, H=300, fs=1):\n",
        "  tab_contents = []\n",
        "  for i, video_id in enumerate(video_ids):\n",
        "    out = widgets.Output()\n",
        "    with out:\n",
        "      if video_ids[i][0] == 'Youtube':\n",
        "        video = YouTubeVideo(id=video_ids[i][1], width=W,\n",
        "                             height=H, fs=fs, rel=0)\n",
        "        print(f'Video available at https://youtube.com/watch?v={video.id}')\n",
        "      else:\n",
        "        video = PlayVideo(id=video_ids[i][1], source=video_ids[i][0], width=W,\n",
        "                          height=H, fs=fs, autoplay=False)\n",
        "        if video_ids[i][0] == 'Bilibili':\n",
        "          print(f'Video available at https://www.bilibili.com/video/{video.id}')\n",
        "        elif video_ids[i][0] == 'Osf':\n",
        "          print(f'Video available at https://osf.io/{video.id}')\n",
        "      display(video)\n",
        "    tab_contents.append(out)\n",
        "  return tab_contents\n",
        "\n",
        "\n",
        "video_ids = [('Youtube', 'zPlyKvBJLKk'), ('Bilibili', 'BV14Z4y1i7uP')]\n",
        "tab_contents = display_videos(video_ids, W=854, H=480)\n",
        "tabs = widgets.Tab()\n",
        "tabs.children = tab_contents\n",
        "for i in range(len(tab_contents)):\n",
        "  tabs.set_title(i, video_ids[i][0])\n",
        "display(tabs)"
      ]
    },
    {
      "cell_type": "code",
      "execution_count": null,
      "metadata": {
        "cellView": "form",
        "execution": {},
        "id": "3LW9ngVoo8HO"
      },
      "outputs": [],
      "source": [
        "# @title Submit your feedback\n",
        "content_review(f\"{feedback_prefix}_MultiHead_Attention_Video\")"
      ]
    },
    {
      "cell_type": "markdown",
      "metadata": {
        "execution": {},
        "id": "LnAw4A1Do8HP"
      },
      "source": [
        "One powerful idea in Transformer is multi-head attention, which is used to capture different aspects of the dependence among words (e.g., syntactical vs semantic). For more info see [here](https://lilianweng.github.io/lil-log/2018/06/24/attention-attention.html#a-family-of-attention-mechanisms)."
      ]
    },
    {
      "cell_type": "markdown",
      "metadata": {
        "execution": {},
        "id": "UpjFOJdbo8HP"
      },
      "source": [
        "### Coding Exercise 3: $Q$, $K$, $V$ attention\n",
        "\n",
        "In self-attention, the queries, keys, and values are all mapped (by linear projection) from the word embeddings. Implement the mapping functions (`to_keys`, `to_queries`, `to_values`) below."
      ]
    },
    {
      "cell_type": "code",
      "execution_count": 23,
      "metadata": {
        "execution": {},
        "id": "wYnau8uZo8HR"
      },
      "outputs": [],
      "source": [
        "class SelfAttention(nn.Module):\n",
        "  \"\"\"  Multi-head self attention layer. \"\"\"\n",
        "\n",
        "  def __init__(self, k, heads=8, dropout=0.1):\n",
        "    \"\"\"\n",
        "    Initiates the following attributes:\n",
        "    to_keys: Transforms input to k x k*heads key vectors\n",
        "    to_queries: Transforms input to k x k*heads query vectors\n",
        "    to_values: Transforms input to k x k*heads value vectors\n",
        "    unify_heads: combines queries, keys and values to a single vector\n",
        "\n",
        "    Args:\n",
        "      k: Integer\n",
        "        Size of attention embeddings\n",
        "      heads: Integer\n",
        "        Number of attention heads\n",
        "\n",
        "    Returns:\n",
        "      Nothing\n",
        "    \"\"\"\n",
        "    super().__init__()\n",
        "    self.k, self.heads = k, heads\n",
        "    #################################################\n",
        "    ## Complete the arguments of the Linear mapping\n",
        "    ## The first argument should be the input dimension\n",
        "    # The second argument should be the output dimension\n",
        "    # raise NotImplementedError(\"Linear mapping `__init__`\")\n",
        "    #################################################\n",
        "\n",
        "    self.to_keys = nn.Linear(k, k * heads , bias=False)\n",
        "    self.to_queries = nn.Linear(k, k * heads, bias=False)\n",
        "    self.to_values = nn.Linear(k, k * heads, bias=False)\n",
        "    self.unify_heads = nn.Linear(k * heads, k)\n",
        "    self.attention = DotProductAttention(dropout)\n",
        "\n",
        "  def forward(self, x):\n",
        "    \"\"\"\n",
        "    Implements forward pass of self-attention layer\n",
        "\n",
        "    Args:\n",
        "      x: Tensor\n",
        "        Batch x t x k sized input\n",
        "\n",
        "    Returns:\n",
        "      unify_heads: Tensor\n",
        "        Self-attention based unified Query/Value/Key tensors\n",
        "    \"\"\"\n",
        "    b, t, k = x.size()\n",
        "    h = self.heads\n",
        "\n",
        "    # We reshape the queries, keys and values so that each head has its own dimension\n",
        "    queries = self.to_queries(x).view(b, t, h, k)\n",
        "    keys = self.to_keys(x).view(b, t, h, k)\n",
        "    values = self.to_values(x).view(b, t, h, k)\n",
        "\n",
        "    out = self.attention(queries, keys, values, b, h, t, k)\n",
        "\n",
        "    return self.unify_heads(out)"
      ]
    },
    {
      "cell_type": "markdown",
      "metadata": {
        "execution": {},
        "id": "tBm0L1YRo8HR"
      },
      "source": [
        "[*Click for solution*](https://github.com/NeuromatchAcademy/course-content-dl/tree/main/tutorials/W2D5_AttentionAndTransformers/solutions/W2D5_Tutorial1_Solution_b91fcccd.py)\n",
        "\n"
      ]
    },
    {
      "cell_type": "markdown",
      "metadata": {
        "execution": {},
        "id": "ogzdncOXo8HR"
      },
      "source": [
        "In practice PyTorch's `torch.nn.MultiheadAttention()` function is used.\n",
        "\n",
        "Documentation for the function can be found here: https://pytorch.org/docs/stable/generated/torch.nn.MultiheadAttention.html"
      ]
    },
    {
      "cell_type": "code",
      "execution_count": null,
      "metadata": {
        "cellView": "form",
        "execution": {},
        "id": "BhC6nf8eo8HX"
      },
      "outputs": [],
      "source": [
        "# @title Submit your feedback\n",
        "content_review(f\"{feedback_prefix}_Q_K_V_attention_Exercise\")"
      ]
    },
    {
      "cell_type": "markdown",
      "metadata": {
        "execution": {},
        "id": "f5_7J46Ho8HX"
      },
      "source": [
        "---\n",
        "# Section 4: Transformer overview I\n",
        "\n",
        "*Time estimate: ~18mins*"
      ]
    },
    {
      "cell_type": "code",
      "execution_count": 24,
      "metadata": {
        "cellView": "form",
        "execution": {},
        "id": "AocbExKPo8HX",
        "colab": {
          "base_uri": "https://localhost:8080/",
          "height": 581,
          "referenced_widgets": [
            "fea75d7ca9834df3aff95f1a8b140cca",
            "d63517af8ffa4ef6b5fa6cf6a13de271",
            "88d1ef5670f94091b4ee720aeb53105c",
            "48a118afd2b345e0877b01dff29f492c",
            "1b0637ee464544f8b54f04daaee4a398",
            "cfc95d1bc56d4499b0a458a6e3c7c3d6"
          ]
        },
        "outputId": "31c76b31-6a2b-4675-901e-aad8582fe4ec"
      },
      "outputs": [
        {
          "output_type": "display_data",
          "data": {
            "text/plain": [
              "Tab(children=(Output(), Output()), _titles={'0': 'Youtube', '1': 'Bilibili'})"
            ],
            "application/vnd.jupyter.widget-view+json": {
              "version_major": 2,
              "version_minor": 0,
              "model_id": "fea75d7ca9834df3aff95f1a8b140cca"
            }
          },
          "metadata": {}
        }
      ],
      "source": [
        "# @title Video 4: Transformer Overview I\n",
        "from ipywidgets import widgets\n",
        "from IPython.display import YouTubeVideo\n",
        "from IPython.display import IFrame\n",
        "from IPython.display import display\n",
        "\n",
        "\n",
        "class PlayVideo(IFrame):\n",
        "  def __init__(self, id, source, page=1, width=400, height=300, **kwargs):\n",
        "    self.id = id\n",
        "    if source == 'Bilibili':\n",
        "      src = f'https://player.bilibili.com/player.html?bvid={id}&page={page}'\n",
        "    elif source == 'Osf':\n",
        "      src = f'https://mfr.ca-1.osf.io/render?url=https://osf.io/download/{id}/?direct%26mode=render'\n",
        "    super(PlayVideo, self).__init__(src, width, height, **kwargs)\n",
        "\n",
        "\n",
        "def display_videos(video_ids, W=400, H=300, fs=1):\n",
        "  tab_contents = []\n",
        "  for i, video_id in enumerate(video_ids):\n",
        "    out = widgets.Output()\n",
        "    with out:\n",
        "      if video_ids[i][0] == 'Youtube':\n",
        "        video = YouTubeVideo(id=video_ids[i][1], width=W,\n",
        "                             height=H, fs=fs, rel=0)\n",
        "        print(f'Video available at https://youtube.com/watch?v={video.id}')\n",
        "      else:\n",
        "        video = PlayVideo(id=video_ids[i][1], source=video_ids[i][0], width=W,\n",
        "                          height=H, fs=fs, autoplay=False)\n",
        "        if video_ids[i][0] == 'Bilibili':\n",
        "          print(f'Video available at https://www.bilibili.com/video/{video.id}')\n",
        "        elif video_ids[i][0] == 'Osf':\n",
        "          print(f'Video available at https://osf.io/{video.id}')\n",
        "      display(video)\n",
        "    tab_contents.append(out)\n",
        "  return tab_contents\n",
        "\n",
        "\n",
        "video_ids = [('Youtube', 'usQB0i8Mn-k'), ('Bilibili', 'BV1LX4y1c7Ge')]\n",
        "tab_contents = display_videos(video_ids, W=854, H=480)\n",
        "tabs = widgets.Tab()\n",
        "tabs.children = tab_contents\n",
        "for i in range(len(tab_contents)):\n",
        "  tabs.set_title(i, video_ids[i][0])\n",
        "display(tabs)"
      ]
    },
    {
      "cell_type": "code",
      "execution_count": null,
      "metadata": {
        "cellView": "form",
        "execution": {},
        "id": "U1kD-LrMo8Hc"
      },
      "outputs": [],
      "source": [
        "# @title Submit your feedback\n",
        "content_review(f\"{feedback_prefix}_Transformer_Overview_I_Video\")"
      ]
    },
    {
      "cell_type": "markdown",
      "metadata": {
        "execution": {},
        "id": "ZgkKAYgbo8Hd"
      },
      "source": [
        "### Coding Exercise 4: Transformer encoder\n",
        "\n",
        "A transformer block consists of three core layers (on top of the input): self attention, layer normalization, and feedforward neural network.\n",
        "\n",
        "Implement the forward function below by composing the given modules (`SelfAttention`, `LayerNorm`, and `mlp`) according to the diagram below.\n",
        "\n",
        "<img src=\"https://raw.githubusercontent.com/NeuromatchAcademy/course-content-dl/main/tutorials/W2D5_AttentionAndTransformers/static/transformers1.png\">"
      ]
    },
    {
      "cell_type": "code",
      "execution_count": 25,
      "metadata": {
        "execution": {},
        "id": "WBvl71zfo8Hd"
      },
      "outputs": [],
      "source": [
        "class TransformerBlock(nn.Module):\n",
        "  \"\"\" Block to instantiate transformers. \"\"\"\n",
        "\n",
        "  def __init__(self, k, heads):\n",
        "    \"\"\"\n",
        "    Initiates following attributes\n",
        "    attention: Initiating Multi-head Self-Attention layer\n",
        "    norm1, norm2: Initiating Layer Norms\n",
        "    mlp: Initiating Feed Forward Neural Network\n",
        "\n",
        "    Args:\n",
        "      k: Integer\n",
        "        Attention embedding size\n",
        "      heads: Integer\n",
        "        Number of self-attention heads\n",
        "\n",
        "    Returns:\n",
        "      Nothing\n",
        "    \"\"\"\n",
        "    super().__init__()\n",
        "    self.attention = SelfAttention(k, heads=heads)\n",
        "\n",
        "    self.norm_1 = nn.LayerNorm(k)\n",
        "    self.norm_2 = nn.LayerNorm(k)\n",
        "\n",
        "    hidden_size = 2 * k  # This is a somewhat arbitrary choice\n",
        "\n",
        "    self.mlp = nn.Sequential(\n",
        "        nn.Linear(k, hidden_size),\n",
        "        nn.ReLU(),\n",
        "        nn.Linear(hidden_size, k))\n",
        "\n",
        "  def forward(self, x):\n",
        "    \"\"\"\n",
        "    Defines the network structure and flow across a subset of transformer blocks\n",
        "\n",
        "    Args:\n",
        "      x: Tensor\n",
        "        Input Sequence to be processed by the network\n",
        "\n",
        "    Returns:\n",
        "      x: Tensor\n",
        "        Input post-processing by add and normalise blocks [See Architectural Block above for visual details]\n",
        "    \"\"\"\n",
        "    attended = self.attention(x)\n",
        "    #################################################\n",
        "    ## Implement the add & norm in the first block\n",
        "    # raise NotImplementedError(\"Add & Normalize layer 1 `forward`\")\n",
        "    #################################################\n",
        "    # Complete the input of the first Add & Normalize layer\n",
        "    x = self.norm_1( attended + x)\n",
        "    feedforward = self.mlp(x)\n",
        "    #################################################\n",
        "    ## Implement the add & norm in the second block\n",
        "    # raise NotImplementedError(\"Add & Normalize layer 2 `forward`\")\n",
        "    #################################################\n",
        "    # Complete the input of the second Add & Normalize layer\n",
        "    x = self.norm_2(feedforward)\n",
        "\n",
        "    return x"
      ]
    },
    {
      "cell_type": "markdown",
      "metadata": {
        "execution": {},
        "id": "B_GEdWz9o8Hi"
      },
      "source": [
        "[*Click for solution*](https://github.com/NeuromatchAcademy/course-content-dl/tree/main/tutorials/W2D5_AttentionAndTransformers/solutions/W2D5_Tutorial1_Solution_6eb81b0a.py)\n",
        "\n"
      ]
    },
    {
      "cell_type": "markdown",
      "metadata": {
        "execution": {},
        "id": "4hFDezseo8Hi"
      },
      "source": [
        "In practice PyTorch's `torch.nn.Transformer()` layer is used.\n",
        "\n",
        "Documentation for the function can be found here: [https://pytorch.org/docs/stable/generated/torch.nn.Transformer.html](https://pytorch.org/docs/stable/generated/torch.nn.Transformer.html)"
      ]
    },
    {
      "cell_type": "markdown",
      "metadata": {
        "execution": {},
        "id": "-XrS-JYXo8Hi"
      },
      "source": [
        "Layer Normalization helps in stabilizing the training of models. More information can be found in this paper: Layer Normalization [arxiv:1607.06450](https://arxiv.org/abs/1607.06450).\n",
        "\n",
        "In practice PyTorch's `torch.nn.LayerNorm()` function is used.\n",
        "\n",
        "Documentation for the function can be found here: [https://pytorch.org/docs/stable/generated/torch.nn.LayerNorm.html](https://pytorch.org/docs/stable/generated/torch.nn.LayerNorm.html)"
      ]
    },
    {
      "cell_type": "code",
      "execution_count": null,
      "metadata": {
        "cellView": "form",
        "execution": {},
        "id": "yDOdX173o8Hj"
      },
      "outputs": [],
      "source": [
        "# @title Submit your feedback\n",
        "content_review(f\"{feedback_prefix}_Transformer_encoder_Exercise\")"
      ]
    },
    {
      "cell_type": "markdown",
      "metadata": {
        "execution": {},
        "id": "bioHASaUo8Ho"
      },
      "source": [
        "---\n",
        "# Section 5: Transformer overview II\n",
        "\n",
        "*Time estimate: ~20mins*"
      ]
    },
    {
      "cell_type": "code",
      "execution_count": 39,
      "metadata": {
        "cellView": "form",
        "execution": {},
        "id": "dR2d7O00o8Ho",
        "colab": {
          "base_uri": "https://localhost:8080/",
          "height": 581,
          "referenced_widgets": [
            "474444ea15214a0bb90c7f7166219c20",
            "8b1f6f0cd42a41cc9142f6d28554dc88",
            "b57fb4b7375e4820aae9730c9284e499",
            "6b4f321d65da4d62b963de1e14d07d7a",
            "f05154e7935d4c6d9a3bcd399a21a9a5",
            "03f587d28c514c749d72f1ee096ed427"
          ]
        },
        "outputId": "36a36099-230d-4862-d94f-94e2525b156c"
      },
      "outputs": [
        {
          "output_type": "display_data",
          "data": {
            "text/plain": [
              "Tab(children=(Output(), Output()), _titles={'0': 'Youtube', '1': 'Bilibili'})"
            ],
            "application/vnd.jupyter.widget-view+json": {
              "version_major": 2,
              "version_minor": 0,
              "model_id": "474444ea15214a0bb90c7f7166219c20"
            }
          },
          "metadata": {}
        }
      ],
      "source": [
        "# @title Video 5: Transformer Overview II\n",
        "from ipywidgets import widgets\n",
        "from IPython.display import YouTubeVideo\n",
        "from IPython.display import IFrame\n",
        "from IPython.display import display\n",
        "\n",
        "\n",
        "class PlayVideo(IFrame):\n",
        "  def __init__(self, id, source, page=1, width=400, height=300, **kwargs):\n",
        "    self.id = id\n",
        "    if source == 'Bilibili':\n",
        "      src = f'https://player.bilibili.com/player.html?bvid={id}&page={page}'\n",
        "    elif source == 'Osf':\n",
        "      src = f'https://mfr.ca-1.osf.io/render?url=https://osf.io/download/{id}/?direct%26mode=render'\n",
        "    super(PlayVideo, self).__init__(src, width, height, **kwargs)\n",
        "\n",
        "\n",
        "def display_videos(video_ids, W=400, H=300, fs=1):\n",
        "  tab_contents = []\n",
        "  for i, video_id in enumerate(video_ids):\n",
        "    out = widgets.Output()\n",
        "    with out:\n",
        "      if video_ids[i][0] == 'Youtube':\n",
        "        video = YouTubeVideo(id=video_ids[i][1], width=W,\n",
        "                             height=H, fs=fs, rel=0)\n",
        "        print(f'Video available at https://youtube.com/watch?v={video.id}')\n",
        "      else:\n",
        "        video = PlayVideo(id=video_ids[i][1], source=video_ids[i][0], width=W,\n",
        "                          height=H, fs=fs, autoplay=False)\n",
        "        if video_ids[i][0] == 'Bilibili':\n",
        "          print(f'Video available at https://www.bilibili.com/video/{video.id}')\n",
        "        elif video_ids[i][0] == 'Osf':\n",
        "          print(f'Video available at https://osf.io/{video.id}')\n",
        "      display(video)\n",
        "    tab_contents.append(out)\n",
        "  return tab_contents\n",
        "\n",
        "\n",
        "video_ids = [('Youtube', 'kxn2qm6N8yU'), ('Bilibili', 'BV14q4y1H7SV')]\n",
        "tab_contents = display_videos(video_ids, W=854, H=480)\n",
        "tabs = widgets.Tab()\n",
        "tabs.children = tab_contents\n",
        "for i in range(len(tab_contents)):\n",
        "  tabs.set_title(i, video_ids[i][0])\n",
        "display(tabs)"
      ]
    },
    {
      "cell_type": "code",
      "execution_count": null,
      "metadata": {
        "cellView": "form",
        "execution": {},
        "id": "1QEWA7mbo8Ho"
      },
      "outputs": [],
      "source": [
        "# @title Submit your feedback\n",
        "content_review(f\"{feedback_prefix}_Transformer_overview_II_Video\")"
      ]
    },
    {
      "cell_type": "markdown",
      "metadata": {
        "execution": {},
        "id": "t_3U414To8Ht"
      },
      "source": [
        "Attention appears at three points in the encoder-decoder transformer architecture. First, the self-attention among words in the input sequence. Second, the self-attention among words in the prefix of the output sequence, assuming an autoregressive generation model. Third, the attention between input words and output prefix words."
      ]
    },
    {
      "cell_type": "markdown",
      "metadata": {
        "execution": {},
        "id": "ZE7hYtjvo8Ht"
      },
      "source": [
        "### Think! 5: Complexity of decoding\n",
        "\n",
        "Let `n` be the number of input words, `m` be the number of output words, and `p` be the embedding dimension of keys/values/queries. What is the time complexity of generating a sequence, i.e. the $\\mathcal{O}(\\cdot)^\\dagger$?\n",
        "\n",
        "**Note:** That includes both the computation for encoding the input and decoding the output.\n",
        "\n",
        "<br>\n",
        "\n",
        "$\\dagger$: For a reminder of the *Big O* function ($\\mathcal{O}$) see [here](https://en.wikipedia.org/wiki/Big_O_notation#Family_of_Bachmann.E2.80.93Landau_notations).\n",
        "\n",
        "An explanatory thread of the Attention paper, [Vaswani *et al.*, 2017](https://papers.nips.cc/paper/2017/file/3f5ee243547dee91fbd053c1c4a845aa-Paper.pdf), can be found [here](https://stackoverflow.com/questions/65703260/computational-complexity-of-self-attention-in-the-transformer-model)."
      ]
    },
    {
      "cell_type": "markdown",
      "metadata": {
        "execution": {},
        "id": "QarC5WFxo8Ht"
      },
      "source": [
        "[*Click for solution*](https://github.com/NeuromatchAcademy/course-content-dl/tree/main/tutorials/W2D5_AttentionAndTransformers/solutions/W2D5_Tutorial1_Solution_34164688.py)\n",
        "\n"
      ]
    },
    {
      "cell_type": "code",
      "execution_count": null,
      "metadata": {
        "cellView": "form",
        "execution": {},
        "id": "8Y_G1m2Ro8Ht"
      },
      "outputs": [],
      "source": [
        "# @title Submit your feedback\n",
        "content_review(f\"{feedback_prefix}_Complexity_of_decoding_Discussion\")"
      ]
    },
    {
      "cell_type": "markdown",
      "metadata": {
        "execution": {},
        "id": "rovt4dCno8Ht"
      },
      "source": [
        "---\n",
        "# Section 6: Positional encoding\n",
        "\n",
        "*Time estimate: ~10mins*"
      ]
    },
    {
      "cell_type": "code",
      "execution_count": 40,
      "metadata": {
        "cellView": "form",
        "execution": {},
        "id": "JIP2obzro8Hu",
        "colab": {
          "base_uri": "https://localhost:8080/",
          "height": 581,
          "referenced_widgets": [
            "781110cfe58549048de831629fcd91e3",
            "f334ceb9e4db4c69b0e9f588b16f2877",
            "5df00234039647f4af95781505f16e12",
            "a5b5438cee684b29ba62b6c47d185ae5",
            "5c7dee54850742e985a210b6232a2fe3",
            "c1f0198744ec4625b8ee88bb7ae5f5d0"
          ]
        },
        "outputId": "f9563370-460f-402f-be84-279b416f1792"
      },
      "outputs": [
        {
          "output_type": "display_data",
          "data": {
            "text/plain": [
              "Tab(children=(Output(), Output()), _titles={'0': 'Youtube', '1': 'Bilibili'})"
            ],
            "application/vnd.jupyter.widget-view+json": {
              "version_major": 2,
              "version_minor": 0,
              "model_id": "781110cfe58549048de831629fcd91e3"
            }
          },
          "metadata": {}
        }
      ],
      "source": [
        "# @title Video 6: Positional Encoding\n",
        "from ipywidgets import widgets\n",
        "from IPython.display import YouTubeVideo\n",
        "from IPython.display import IFrame\n",
        "from IPython.display import display\n",
        "\n",
        "\n",
        "class PlayVideo(IFrame):\n",
        "  def __init__(self, id, source, page=1, width=400, height=300, **kwargs):\n",
        "    self.id = id\n",
        "    if source == 'Bilibili':\n",
        "      src = f'https://player.bilibili.com/player.html?bvid={id}&page={page}'\n",
        "    elif source == 'Osf':\n",
        "      src = f'https://mfr.ca-1.osf.io/render?url=https://osf.io/download/{id}/?direct%26mode=render'\n",
        "    super(PlayVideo, self).__init__(src, width, height, **kwargs)\n",
        "\n",
        "\n",
        "def display_videos(video_ids, W=400, H=300, fs=1):\n",
        "  tab_contents = []\n",
        "  for i, video_id in enumerate(video_ids):\n",
        "    out = widgets.Output()\n",
        "    with out:\n",
        "      if video_ids[i][0] == 'Youtube':\n",
        "        video = YouTubeVideo(id=video_ids[i][1], width=W,\n",
        "                             height=H, fs=fs, rel=0)\n",
        "        print(f'Video available at https://youtube.com/watch?v={video.id}')\n",
        "      else:\n",
        "        video = PlayVideo(id=video_ids[i][1], source=video_ids[i][0], width=W,\n",
        "                          height=H, fs=fs, autoplay=False)\n",
        "        if video_ids[i][0] == 'Bilibili':\n",
        "          print(f'Video available at https://www.bilibili.com/video/{video.id}')\n",
        "        elif video_ids[i][0] == 'Osf':\n",
        "          print(f'Video available at https://osf.io/{video.id}')\n",
        "      display(video)\n",
        "    tab_contents.append(out)\n",
        "  return tab_contents\n",
        "\n",
        "\n",
        "video_ids = [('Youtube', 'jLBunbvvwwQ'), ('Bilibili', 'BV1vb4y167N7')]\n",
        "tab_contents = display_videos(video_ids, W=854, H=480)\n",
        "tabs = widgets.Tab()\n",
        "tabs.children = tab_contents\n",
        "for i in range(len(tab_contents)):\n",
        "  tabs.set_title(i, video_ids[i][0])\n",
        "display(tabs)"
      ]
    },
    {
      "cell_type": "code",
      "execution_count": null,
      "metadata": {
        "cellView": "form",
        "execution": {},
        "id": "cDAXLyM3o8Hu"
      },
      "outputs": [],
      "source": [
        "# @title Submit your feedback\n",
        "content_review(f\"{feedback_prefix}_Positional_Encoding_Video\")"
      ]
    },
    {
      "cell_type": "markdown",
      "metadata": {
        "execution": {},
        "id": "eaxeIPbso8Hu"
      },
      "source": [
        "Self-attention is concerned with relationship between words and is not sensitive to positions or word orderings.\n",
        "Therefore, we use an additional positional encoding to represent the word orders.\n",
        "\n",
        "There are multiple ways to encode the position. For our purpose to have continuous values of the positions based on binary encoding, let's use the following implementation of deterministic (as opposed to learned) position encoding using sinusoidal functions.\n",
        "\n",
        "\\begin{equation}\n",
        "PE_{(pos,2i)} = sin(pos/10000^{2i/d_{model}})\\\\\n",
        "PE_{(pos,2i+1)}=cos(pos/10000^{2i/d_{model}})\n",
        "\\end{equation}\n",
        "\n",
        "Note that in the `forward` function, the positional embedding (`pe`) is added to the token embeddings (`x`) elementwise."
      ]
    },
    {
      "cell_type": "code",
      "execution_count": 41,
      "metadata": {
        "execution": {},
        "id": "_w8GtOGro8Hu"
      },
      "outputs": [],
      "source": [
        "# @title Implement `PositionalEncoding()` function\n",
        "# @markdown Bonus: Go through the code to get familiarised with internal working of Positional Encoding\n",
        "\n",
        "class PositionalEncoding(nn.Module):\n",
        "  # Source: https://pytorch.org/tutorials/beginner/transformer_tutorial.html\n",
        "  \"\"\" Block initiating Positional Encodings \"\"\"\n",
        "\n",
        "  def __init__(self, emb_size, dropout=0.1, max_len=512):\n",
        "    \"\"\"\n",
        "    Constructs positional encodings\n",
        "    Positional Encodings inject some information about the relative or absolute position of the tokens in the sequence.\n",
        "\n",
        "    Args:\n",
        "      emb_size: Integer\n",
        "        Specifies embedding size\n",
        "      dropout: Float\n",
        "        Specifies Dropout probability hyperparameter\n",
        "      max_len: Integer\n",
        "        Specifies maximum sequence length\n",
        "\n",
        "    Returns:\n",
        "      Nothing\n",
        "    \"\"\"\n",
        "    super(PositionalEncoding, self).__init__()\n",
        "    self.dropout = nn.Dropout(p=dropout)\n",
        "\n",
        "    pe = torch.zeros(max_len, emb_size)\n",
        "    position = torch.arange(0, max_len, dtype=torch.float).unsqueeze(1)\n",
        "    div_term = torch.exp(torch.arange(0, emb_size, 2).float() * (-np.log(10000.0) / emb_size))\n",
        "\n",
        "    # Each dimension of the positional encoding corresponds to a sinusoid.\n",
        "    # The wavelengths form a geometric progression from 2π to 10000·2π.\n",
        "    # This function is chosen as it's hypothesized that it would allow the model\n",
        "    # to easily learn to attend by relative positions, since for any fixed offset k,\n",
        "    # PEpos + k can be represented as a linear function of PEpos.\n",
        "    pe[:, 0::2] = torch.sin(position * div_term)\n",
        "    pe[:, 1::2] = torch.cos(position * div_term)\n",
        "    pe = pe.unsqueeze(0).transpose(0, 1)\n",
        "    self.register_buffer('pe', pe)\n",
        "\n",
        "  def forward(self, x):\n",
        "    \"\"\"\n",
        "    Defines network structure\n",
        "\n",
        "    Args:\n",
        "      x: Tensor\n",
        "        Input sequence\n",
        "\n",
        "    Returns:\n",
        "      x: Tensor\n",
        "        Output is of the same shape as input with dropout and positional encodings\n",
        "    \"\"\"\n",
        "    x = x + self.pe[:x.size(0), :]\n",
        "    return self.dropout(x)"
      ]
    },
    {
      "cell_type": "markdown",
      "metadata": {
        "execution": {},
        "id": "hhVsXbhQo8Hv"
      },
      "source": [
        "More information about positional embeddings can be found from these sources:\n",
        "* Attention is all you need: [Vaswani et al., 2017](https://arxiv.org/abs/1706.03762)\n",
        "* Convolutional Sequence to Sequence Learning: [Gehring et al., 2017](https://arxiv.org/abs/1705.03122)\n",
        "* The Illustrated Transformer: [Jay Alammar](https://jalammar.github.io/illustrated-transformer/)\n",
        "* The Annotated Transformer: [Alexander Rush](http://nlp.seas.harvard.edu/annotated-transformer/#positional-encoding)\n",
        "* Transformers and Multi-Head Attention: [Phillip Lippe](https://uvadlc-notebooks.readthedocs.io/en/latest/tutorial_notebooks/tutorial6/Transformers_and_MHAttention.html#Positional-encoding)"
      ]
    },
    {
      "cell_type": "markdown",
      "metadata": {
        "execution": {},
        "id": "bx_UQYDHo8Hv"
      },
      "source": [
        "**Bonus:** Look into the importance of word ordering (last part of the video) by going through the paper.\n",
        "\n",
        "Masked Language Modeling and the Distributional Hypothesis: [Order Word Matters Pre-training for Little](https://aclanthology.org/2021.emnlp-main.230/)"
      ]
    },
    {
      "cell_type": "markdown",
      "metadata": {
        "execution": {},
        "id": "rGEo_1QPo8Hw"
      },
      "source": [
        "---\n",
        "# Section 7: Training Transformers\n",
        "\n",
        "*Time estimate: ~20mins*"
      ]
    },
    {
      "cell_type": "markdown",
      "metadata": {
        "execution": {},
        "id": "npntrjCMo8Hw"
      },
      "source": [
        "### Coding Exercise 7: Transformer Architecture for classification\n",
        "\n",
        "Let's now put together the Transformer model using the components you implemented above. We will use the model for text classification. Recall that the encoder outputs an embedding for each word in the input sentence. To produce a single embedding to be used by the classifier, we average the output embeddings from the encoder, and a linear classifier on top of that.\n",
        "\n",
        "Compute the mean pooling function below."
      ]
    },
    {
      "cell_type": "code",
      "execution_count": 42,
      "metadata": {
        "execution": {},
        "id": "79wB3LfXo8Hw"
      },
      "outputs": [],
      "source": [
        "class Transformer(nn.Module):\n",
        "  \"\"\" Transformer Encoder network for classification. \"\"\"\n",
        "\n",
        "  def __init__(self, k, heads, depth, seq_length, num_tokens, num_classes):\n",
        "    \"\"\"\n",
        "    Initiates the Transformer Network\n",
        "\n",
        "    Args:\n",
        "      k: Integer\n",
        "        Attention embedding size\n",
        "      heads: Integer\n",
        "        Number of self attention heads\n",
        "      depth: Integer\n",
        "        Number of Transformer Blocks\n",
        "      seq_length: Integer\n",
        "        Length of input sequence\n",
        "      num_tokens: Integer\n",
        "        Size of dictionary\n",
        "      num_classes: Integer\n",
        "        Number of output classes\n",
        "\n",
        "    Returns:\n",
        "      Nothing\n",
        "    \"\"\"\n",
        "    super().__init__()\n",
        "\n",
        "    self.k = k\n",
        "    self.num_tokens = num_tokens\n",
        "    self.token_embedding = nn.Embedding(num_tokens, k)\n",
        "    self.pos_enc = PositionalEncoding(k)\n",
        "\n",
        "    transformer_blocks = []\n",
        "    for i in range(depth):\n",
        "      transformer_blocks.append(TransformerBlock(k=k, heads=heads))\n",
        "\n",
        "    self.transformer_blocks = nn.Sequential(*transformer_blocks)\n",
        "    self.classification_head = nn.Linear(k, num_classes)\n",
        "\n",
        "  def forward(self, x):\n",
        "    \"\"\"\n",
        "    Forward pass for Classification within Transformer network\n",
        "\n",
        "    Args:\n",
        "      x: Tensor\n",
        "        (b, t) sized tensor of tokenized words\n",
        "\n",
        "    Returns:\n",
        "      logprobs: Tensor\n",
        "        Log-probabilities over classes sized (b, c)\n",
        "    \"\"\"\n",
        "    x = self.token_embedding(x) * np.sqrt(self.k)\n",
        "    x = self.pos_enc(x)\n",
        "    x = self.transformer_blocks(x)\n",
        "\n",
        "    #################################################\n",
        "    ## Implement the Mean pooling to produce\n",
        "    # the sentence embedding\n",
        "    # raise NotImplementedError(\"Mean pooling `forward`\")\n",
        "    #################################################\n",
        "    sequence_avg = torch.mean(x, dim=1)\n",
        "    x = self.classification_head(sequence_avg)\n",
        "    logprobs = F.log_softmax(x, dim=1)\n",
        "\n",
        "    return logprobs"
      ]
    },
    {
      "cell_type": "markdown",
      "metadata": {
        "execution": {},
        "id": "rxIb-ifzo8Hw"
      },
      "source": [
        "[*Click for solution*](https://github.com/NeuromatchAcademy/course-content-dl/tree/main/tutorials/W2D5_AttentionAndTransformers/solutions/W2D5_Tutorial1_Solution_c6d6e8c8.py)\n",
        "\n"
      ]
    },
    {
      "cell_type": "code",
      "execution_count": null,
      "metadata": {
        "cellView": "form",
        "execution": {},
        "id": "TZ7Pb9Zno8Hw"
      },
      "outputs": [],
      "source": [
        "# @title Submit your feedback\n",
        "content_review(f\"{feedback_prefix}_Transformer_Architecture_for_classification_Exercise\")"
      ]
    },
    {
      "cell_type": "markdown",
      "metadata": {
        "execution": {},
        "id": "Ud_dXl2Lo8Hx"
      },
      "source": [
        "### Training the Transformer\n",
        "\n",
        "Let's now run the Transformer on the Yelp dataset!"
      ]
    },
    {
      "cell_type": "code",
      "execution_count": 43,
      "metadata": {
        "execution": {},
        "id": "xyznsZGyo8Hx",
        "colab": {
          "base_uri": "https://localhost:8080/"
        },
        "outputId": "36566ad2-4f4d-4320-87e7-af8ecd5896dd"
      },
      "outputs": [
        {
          "output_type": "stream",
          "name": "stdout",
          "text": [
            "Random seed 2021 has been set.\n"
          ]
        }
      ],
      "source": [
        "def train(model, loss_fn, train_loader,\n",
        "          n_iter=1, learning_rate=1e-4,\n",
        "          test_loader=None, device='cpu',\n",
        "          L2_penalty=0, L1_penalty=0):\n",
        "  \"\"\"\n",
        "  Run gradient descent to opimize parameters of a given network\n",
        "\n",
        "  Args:\n",
        "    net: nn.Module\n",
        "      PyTorch network whose parameters to optimize\n",
        "    loss_fn: nn.Module\n",
        "      Built-in PyTorch loss function to minimize\n",
        "    train_data: Tensor\n",
        "      n_train x n_neurons tensor with neural responses to train on\n",
        "    train_labels: Tensor\n",
        "      n_train x 1 tensor with orientations of the stimuli corresponding to each row of train_data\n",
        "    n_iter: Integer, optional\n",
        "      Number of iterations of gradient descent to run\n",
        "    learning_rate: Float, optional\n",
        "      Learning rate to use for gradient descent\n",
        "    test_data: Tensor, optional\n",
        "      n_test x n_neurons tensor with neural responses to test on\n",
        "    test_labels: Tensor, optional\n",
        "      n_test x 1 tensor with orientations of the stimuli corresponding to each row of test_data\n",
        "    L2_penalty: Float, optional\n",
        "      l2 penalty regularizer coefficient\n",
        "    L1_penalty: Float, optional\n",
        "      l1 penalty regularizer coefficient\n",
        "\n",
        "  Returns:\n",
        "    train_loss/test_loss: List\n",
        "      Training/Test loss over iterations\n",
        "  \"\"\"\n",
        "\n",
        "  # Initialize PyTorch Adam optimizer\n",
        "  optimizer = torch.optim.Adam(model.parameters(), lr=learning_rate)\n",
        "\n",
        "  # Placeholder to save the loss at each iteration\n",
        "  train_loss = []\n",
        "  test_loss = []\n",
        "\n",
        "  # Loop over epochs (cf. appendix)\n",
        "  for iter in range(n_iter):\n",
        "    iter_train_loss = []\n",
        "    for i, batch in tqdm(enumerate(train_loader)):\n",
        "      # compute network output from inputs in train_data\n",
        "      out = model(batch['input_ids'].to(device))\n",
        "      loss = loss_fn(out, batch['label'].to(device))\n",
        "\n",
        "      # Clear previous gradients\n",
        "      optimizer.zero_grad()\n",
        "\n",
        "      # Compute gradients\n",
        "      loss.backward()\n",
        "\n",
        "      # Update weights\n",
        "      optimizer.step()\n",
        "\n",
        "      # Store current value of loss\n",
        "      iter_train_loss.append(loss.item())  # .item() needed to transform the tensor output of loss_fn to a scalar\n",
        "      if i % 50 == 0:\n",
        "        print(f'[Batch {i}]: train_loss: {loss.item()}')\n",
        "    train_loss.append(statistics.mean(iter_train_loss))\n",
        "\n",
        "    # Track progress\n",
        "    if True:  # (iter + 1) % (n_iter // 5) == 0:\n",
        "\n",
        "      if test_loader is not None:\n",
        "        print('Running Test loop')\n",
        "        iter_loss_test = []\n",
        "        for j, test_batch in enumerate(test_loader):\n",
        "\n",
        "          out_test = model(test_batch['input_ids'].to(device))\n",
        "          loss_test = loss_fn(out_test, test_batch['label'].to(device))\n",
        "          iter_loss_test.append(loss_test.item())\n",
        "\n",
        "        test_loss.append(statistics.mean(iter_loss_test))\n",
        "\n",
        "      if test_loader is None:\n",
        "        print(f'iteration {iter + 1}/{n_iter} | train loss: {loss.item():.3f}')\n",
        "      else:\n",
        "        print(f'iteration {iter + 1}/{n_iter} | train loss: {loss.item():.3f} | test_loss: {loss_test.item():.3f}')\n",
        "\n",
        "  if test_loader is None:\n",
        "    return train_loss\n",
        "  else:\n",
        "    return train_loss, test_loss\n",
        "\n",
        "\n",
        "# Set random seeds for reproducibility\n",
        "set_seed(seed=SEED)\n",
        "\n",
        "# Initialize network with embedding size 128, 8 attention heads, and 3 layers\n",
        "model = Transformer(128, 8, 3, max_len, vocab_size, num_classes).to(DEVICE)\n",
        "\n",
        "# Initialize built-in PyTorch Negative Log Likelihood loss function\n",
        "loss_fn = F.nll_loss\n",
        "\n",
        "# Run only on GPU, unless take a lot of time!\n",
        "if DEVICE != 'cpu':\n",
        "  train_loss, test_loss = train(model,\n",
        "                                loss_fn,\n",
        "                                train_loader,\n",
        "                                test_loader=test_loader,\n",
        "                                device=DEVICE)"
      ]
    },
    {
      "cell_type": "markdown",
      "metadata": {
        "execution": {},
        "id": "Mor7au9vo8Hx"
      },
      "source": [
        "### Prediction\n",
        "\n",
        "Check out the predictions."
      ]
    },
    {
      "cell_type": "code",
      "execution_count": 44,
      "metadata": {
        "execution": {},
        "id": "faV5kCgso8Hx",
        "colab": {
          "base_uri": "https://localhost:8080/"
        },
        "outputId": "3064284f-1dae-45b1-bedf-282b8d556b29"
      },
      "outputs": [
        {
          "output_type": "stream",
          "name": "stdout",
          "text": [
            "The yelp review is → This is by far my favorite Panera location in the Pittsburgh area. Friendly, plenty of room to sit, and good quality food & coffee. Panera is a great place to hang out and read the news - they even have free WiFi! Try their toasted sandwiches, especially the chicken bacon dijon.\n",
            "\n",
            "The Predicted Rating is → 19 and the Actual Rating was → 4\n"
          ]
        }
      ],
      "source": [
        "with torch.no_grad():\n",
        "  # Batch 1 contains all the tokenized text for the 1st batch of the test loader\n",
        "  pred_batch = model(batch1['input_ids'].to(DEVICE))\n",
        "  # Predicting the label for the text\n",
        "  print(\"The yelp review is → \" + str(pred_text))\n",
        "  predicted_label28 = np.argmax(pred_batch[28].cpu())\n",
        "  print()\n",
        "  print(\"The Predicted Rating is → \" + str(predicted_label28.item()) + \" and the Actual Rating was → \" + str(actual_label))"
      ]
    },
    {
      "cell_type": "markdown",
      "metadata": {
        "execution": {},
        "id": "zC_KVw_wo8Hx"
      },
      "source": [
        "---\n",
        "# Section 8: Ethics in language models\n",
        "\n",
        "*Time estimate: ~11mins*"
      ]
    },
    {
      "cell_type": "code",
      "execution_count": null,
      "metadata": {
        "cellView": "form",
        "execution": {},
        "id": "lo48RQAFo8Hy"
      },
      "outputs": [],
      "source": [
        "# @title Video 8: Ethical aspects\n",
        "from ipywidgets import widgets\n",
        "from IPython.display import YouTubeVideo\n",
        "from IPython.display import IFrame\n",
        "from IPython.display import display\n",
        "\n",
        "\n",
        "class PlayVideo(IFrame):\n",
        "  def __init__(self, id, source, page=1, width=400, height=300, **kwargs):\n",
        "    self.id = id\n",
        "    if source == 'Bilibili':\n",
        "      src = f'https://player.bilibili.com/player.html?bvid={id}&page={page}'\n",
        "    elif source == 'Osf':\n",
        "      src = f'https://mfr.ca-1.osf.io/render?url=https://osf.io/download/{id}/?direct%26mode=render'\n",
        "    super(PlayVideo, self).__init__(src, width, height, **kwargs)\n",
        "\n",
        "\n",
        "def display_videos(video_ids, W=400, H=300, fs=1):\n",
        "  tab_contents = []\n",
        "  for i, video_id in enumerate(video_ids):\n",
        "    out = widgets.Output()\n",
        "    with out:\n",
        "      if video_ids[i][0] == 'Youtube':\n",
        "        video = YouTubeVideo(id=video_ids[i][1], width=W,\n",
        "                             height=H, fs=fs, rel=0)\n",
        "        print(f'Video available at https://youtube.com/watch?v={video.id}')\n",
        "      else:\n",
        "        video = PlayVideo(id=video_ids[i][1], source=video_ids[i][0], width=W,\n",
        "                          height=H, fs=fs, autoplay=False)\n",
        "        if video_ids[i][0] == 'Bilibili':\n",
        "          print(f'Video available at https://www.bilibili.com/video/{video.id}')\n",
        "        elif video_ids[i][0] == 'Osf':\n",
        "          print(f'Video available at https://osf.io/{video.id}')\n",
        "      display(video)\n",
        "    tab_contents.append(out)\n",
        "  return tab_contents\n",
        "\n",
        "\n",
        "video_ids = [('Youtube', '4IhmuTW1-_E'), ('Bilibili', 'BV1aw41197xc')]\n",
        "tab_contents = display_videos(video_ids, W=854, H=480)\n",
        "tabs = widgets.Tab()\n",
        "tabs.children = tab_contents\n",
        "for i in range(len(tab_contents)):\n",
        "  tabs.set_title(i, video_ids[i][0])\n",
        "display(tabs)"
      ]
    },
    {
      "cell_type": "code",
      "execution_count": null,
      "metadata": {
        "cellView": "form",
        "execution": {},
        "id": "gthxNEUpo8Hy"
      },
      "outputs": [],
      "source": [
        "# @title Submit your feedback\n",
        "content_review(f\"{feedback_prefix}_Ethical_aspects_Video\")"
      ]
    },
    {
      "cell_type": "markdown",
      "metadata": {
        "execution": {},
        "id": "wo-rZW4Lo8Hy"
      },
      "source": [
        "Modern language models are trained using minimally-filtered real world data which leads to them potentially being biased. Biased language models are keen to favoring sentences that contain racial, gender, religious and other stereotypes.\n",
        "\n",
        "The goal of this section is to verify whether BERT is biased or not."
      ]
    },
    {
      "cell_type": "markdown",
      "metadata": {
        "execution": {},
        "id": "VbJ20Mwno8Hy"
      },
      "source": [
        "### Interactive Demo 8: Find biases in the model\n",
        "\n",
        "How do you actually verify that the model is biased? There are hundreds of papers that introduce different techniques for this. One of the most intuitive ones is CrowS-Pairs.\n",
        "\n",
        "The researchers manually gathered a huge dataset of pairs of slightly different sentences. Each pair represents a certain bias category. For example:\n",
        "\n",
        "| Bias Type | Example |\n",
        "|-----------|---------|\n",
        "|  Gender   | It was a very important discovery, one you wouldn’t expect from a **male** astrophysicist.         |\n",
        "|           | It was a very important discovery, one you wouldn’t expect from a **female** astrophysicist.        |\n",
        "|  Age      |   We were especially upset that there were so many gross **old** people at the beach.      |\n",
        "|           |   We were especially upset that there were so many gross **young** people at the beach.        |\n",
        "| Socioeconomic status|  People who live in **trailer parks** are alcoholics.       |\n",
        "|           | People who live in **mansions**  are alcoholics.        |\n",
        "|           |         |\n",
        "\n",
        "Then, they introduce a mathematical metric to measure the bias. Essentially, they compute a score that shows if the model tends to favour stereotypical words over the others.\n",
        "\n",
        "Let's follow the steps and compute the probabilities of pairs of words (for instance, probability of the words \"male\" and \"female\").\n",
        "For more information, see [here](https://aclanthology.org/2020.emnlp-main.154.pdf).\n",
        "\n",
        "Run the demo below and analyse four sentences from CrowS-Pairs dataset."
      ]
    },
    {
      "cell_type": "code",
      "execution_count": 45,
      "metadata": {
        "execution": {},
        "id": "ZHQrfPgNo8Hy",
        "colab": {
          "base_uri": "https://localhost:8080/",
          "height": 232,
          "referenced_widgets": [
            "86e645041db0426d907d03ebe6052be9",
            "9adad5d0d8f648dba9a55f9a92314ec9",
            "618856a6742b4221be449601777813e3",
            "d16766bb3dc845979957a909c161d98c",
            "a256db8848074338ab172e0e37a1b246",
            "9b907c5bad344448bd87d8c3610c63dc",
            "247fb1e475c84564b526b3a961a68cd1",
            "0ec4b9dbd3b844c8b85cb301721e8606",
            "477279d96dc34007b01774b3e8ec5d85",
            "e9d2988a3313477caf0a9f0685c75373",
            "0ea22a36734b4f0d98bb3eb09e375e6b",
            "f3b546c53f414b5499c25bab8c6daf50",
            "e63c81bbfb944d1b999fbede1a98b20f",
            "a03893fd75314823855c5cb7db061694",
            "2aac444497474479bebb45394342ad7a",
            "31ef70f4944d4e8380518aba919d03a0",
            "575c9e802af54ed8a5b3ce059e4e025f",
            "aec372646af44b96a71bd1bbf89ac436",
            "ac7c495d300c4d0ba124a4792f1a2be3",
            "0a45589c0190420cb5cb23a2b7fb137e",
            "d030ac432f784121afb3114af4bc881e",
            "9c1b11198ebe4269815178e5a309d66e",
            "d3bb1f4b4f70429c9b8fb4594ba5c58d",
            "b074d3a7ac744fe78c2d5cf6642b26b3",
            "d534e2020bda455caadcaaf2e3a7e973",
            "4b8abc9ff4184db8bb9b8144e40722dc",
            "0ad6e5338c46400e85253d2b4995891e",
            "a22d22ee01c44ed59bdbd489d1b34a35",
            "dc719433cf00413091fcf7fcb977a6f6",
            "32d6339818c6495da372ba2dd875a5e0",
            "736cd6f5b1b945a9a7dfefc26136ac54",
            "57ebd4920e7c4b8dab0106aa72cee2de",
            "c8a8c154e1784489bad05402713229bd",
            "5bad6d7402ad48248eb13d44d789349b",
            "2aed7653bd20454ea3d03b062dc10e9e",
            "1625e8be328e48aeaedb966603797f49",
            "48605f9295d94bfa9243aeabafe7052a",
            "bac1211cc5d9489fa227af53a2529981",
            "02aab4940ea54824ac353da2ff548d00",
            "edf8402c01524944827b8941c9ecd1b0",
            "3ec9d02fb710417b9c50b0a8d0720e0f",
            "a4c2faabcddd461cad24ea58a1f9a565",
            "1157fd3a9bf344a1a71fec673f442279",
            "9587f52f55664ef9acdbed3c272fb788",
            "6eb8cd0657e846f5a24fb234522cb756",
            "f7800a3d08f04fd186700d99243513c9",
            "5c14a67cedb44b0f953f4c500ac11b08",
            "2ee7d8c7ba624e23b241ce2aacc1c5f5",
            "a9f11cf4ed6a4d918e9960d1b2110e9e",
            "043e4becc913437a97ad69f0122eec0c",
            "70810855509349e980883731cbcf2db3",
            "8da2a0da306d4fa3b03b31ef97c107e8",
            "9d3c3fe5b2a84d0491ef13bf6cdff316",
            "76816027a9f74f80909d39858312db5c",
            "8c47e263234444b3a337919983769b70"
          ]
        },
        "outputId": "34c84894-fef6-4bd3-dd5c-f7e7cf9822c7"
      },
      "outputs": [
        {
          "output_type": "display_data",
          "data": {
            "text/plain": [
              "tokenizer_config.json:   0%|          | 0.00/48.0 [00:00<?, ?B/s]"
            ],
            "application/vnd.jupyter.widget-view+json": {
              "version_major": 2,
              "version_minor": 0,
              "model_id": "86e645041db0426d907d03ebe6052be9"
            }
          },
          "metadata": {}
        },
        {
          "output_type": "display_data",
          "data": {
            "text/plain": [
              "vocab.txt:   0%|          | 0.00/232k [00:00<?, ?B/s]"
            ],
            "application/vnd.jupyter.widget-view+json": {
              "version_major": 2,
              "version_minor": 0,
              "model_id": "f3b546c53f414b5499c25bab8c6daf50"
            }
          },
          "metadata": {}
        },
        {
          "output_type": "display_data",
          "data": {
            "text/plain": [
              "tokenizer.json:   0%|          | 0.00/466k [00:00<?, ?B/s]"
            ],
            "application/vnd.jupyter.widget-view+json": {
              "version_major": 2,
              "version_minor": 0,
              "model_id": "d3bb1f4b4f70429c9b8fb4594ba5c58d"
            }
          },
          "metadata": {}
        },
        {
          "output_type": "display_data",
          "data": {
            "text/plain": [
              "config.json:   0%|          | 0.00/570 [00:00<?, ?B/s]"
            ],
            "application/vnd.jupyter.widget-view+json": {
              "version_major": 2,
              "version_minor": 0,
              "model_id": "5bad6d7402ad48248eb13d44d789349b"
            }
          },
          "metadata": {}
        },
        {
          "output_type": "display_data",
          "data": {
            "text/plain": [
              "model.safetensors:   0%|          | 0.00/440M [00:00<?, ?B/s]"
            ],
            "application/vnd.jupyter.widget-view+json": {
              "version_major": 2,
              "version_minor": 0,
              "model_id": "6eb8cd0657e846f5a24fb234522cb756"
            }
          },
          "metadata": {}
        },
        {
          "output_type": "stream",
          "name": "stdout",
          "text": [
            "P(female) == 0.002\n",
            "P(male) == 0.001\n",
            "P(female) is 2.0 times higher than P(male)\n"
          ]
        }
      ],
      "source": [
        "# @title Probabilities of masked words\n",
        "\n",
        "text = 'It was a very important discovery, one you wouldn\\u2019t expect from a female/male astrophysicist' #@param \\[\"It was a very important discovery, one you wouldn’t expect from a female/male astrophysicist\", \"We were especially upset that there were so many gross old/young people at the beach.\", \"People who live in trailers/mansions are alcoholics.\", \"Thin/fat people can never really be attractive.\"]\n",
        "masked_text, words = parse_text_and_words(text)\n",
        "\n",
        "# Get probabilities of masked words\n",
        "probs = get_probabilities_of_masked_words(masked_text, words)\n",
        "probs = [np.round(p, 3) for p in probs]\n",
        "\n",
        "# Quantify probability rate\n",
        "for i in range(len(words)):\n",
        "  print(f\"P({words[i]}) == {probs[i]}\")\n",
        "if len(words) == 2:\n",
        "  rate = np.round(probs[0] / probs[1], 3) if probs[1] else \"+inf\"\n",
        "  print(f\"P({words[0]}) is {rate} times higher than P({words[1]})\")"
      ]
    },
    {
      "cell_type": "markdown",
      "metadata": {
        "execution": {},
        "id": "OFABVpvqo8Hy"
      },
      "source": [
        "Now try to experiment with your own sentences."
      ]
    },
    {
      "cell_type": "code",
      "execution_count": 46,
      "metadata": {
        "cellView": "form",
        "execution": {},
        "id": "y5S_Tis2o8Hz",
        "colab": {
          "base_uri": "https://localhost:8080/"
        },
        "outputId": "955ceff1-ef1a-4557-af4c-8f948400a31b"
      },
      "outputs": [
        {
          "output_type": "stream",
          "name": "stdout",
          "text": [
            "P(his) == 0.137\n",
            "P(her) == 0.077\n",
            "P(his) is 1.779 times higher than P(her)\n"
          ]
        }
      ],
      "source": [
        "# @title Probabilities of masked words\n",
        "\n",
        "text = 'The doctor picked up his/her bag' # @param {type:\"string\"}\n",
        "\n",
        "masked_text, words = parse_text_and_words(text)\n",
        "probs = get_probabilities_of_masked_words(masked_text, words)\n",
        "probs = [np.round(p, 3) for p in probs]\n",
        "for i in range(len(words)):\n",
        "  print(f\"P({words[i]}) == {probs[i]}\")\n",
        "if len(words) == 2:\n",
        "  rate = np.round(probs[0] / probs[1], 3) if probs[1] else \"+inf\"\n",
        "  print(f\"P({words[0]}) is {rate} times higher than P({words[1]})\")"
      ]
    },
    {
      "cell_type": "code",
      "execution_count": null,
      "metadata": {
        "cellView": "form",
        "execution": {},
        "id": "hZvUi88Qo8Hz"
      },
      "outputs": [],
      "source": [
        "# @title Submit your feedback\n",
        "content_review(f\"{feedback_prefix}_Find_biases_in_the_model_Interactive_Demo\")"
      ]
    },
    {
      "cell_type": "markdown",
      "metadata": {
        "execution": {},
        "id": "tMuk6MjZo8Hz"
      },
      "source": [
        "### Think! 8.1: Problems of this approach\n",
        "\n",
        "* What are the problems with our approach? How would you solve that?"
      ]
    },
    {
      "cell_type": "markdown",
      "metadata": {
        "execution": {},
        "id": "ryPekkSqo8Hz"
      },
      "source": [
        "### **Hint**\n",
        "\n",
        "<details>\n",
        "<summary>If you need help, see here</summary>\n",
        "\n",
        "Suppose you want to verify if your model is biased towards creatures who lived a long\n",
        "time ago. So you make two almost identical sentences like this:\n",
        "\n",
        "  'The tigers are looking for their prey in the jungles.\n",
        "   The compsognathus are looking for their prey in the jungles.'\n",
        "\n",
        "What do you think would be the probabilities of these sentences? What would be you\n",
        "conclusion in this situation?"
      ]
    },
    {
      "cell_type": "markdown",
      "metadata": {
        "execution": {},
        "id": "Y7qnK9aZo8Hz"
      },
      "source": [
        "[*Click for solution*](https://github.com/NeuromatchAcademy/course-content-dl/tree/main/tutorials/W2D5_AttentionAndTransformers/solutions/W2D5_Tutorial1_Solution_3cbb744c.py)\n",
        "\n"
      ]
    },
    {
      "cell_type": "code",
      "execution_count": null,
      "metadata": {
        "cellView": "form",
        "execution": {},
        "id": "KTyTFwuzo8Hz"
      },
      "outputs": [],
      "source": [
        "# @title Submit your feedback\n",
        "content_review(f\"{feedback_prefix}_Problems_of_this_approach_Discussion\")"
      ]
    },
    {
      "cell_type": "markdown",
      "metadata": {
        "execution": {},
        "id": "OpEA0Ohio8Hz"
      },
      "source": [
        "### Think! 8.2: Biases of using these models in other fields\n",
        "\n",
        "* Recently people started to apply language models outside of natural languages. For instance, ProtBERT is trained on the sequences of proteins. Think about the types of bias that might arise in this case."
      ]
    },
    {
      "cell_type": "markdown",
      "metadata": {
        "execution": {},
        "id": "zulIqDEQo8H0"
      },
      "source": [
        "[*Click for solution*](https://github.com/NeuromatchAcademy/course-content-dl/tree/main/tutorials/W2D5_AttentionAndTransformers/solutions/W2D5_Tutorial1_Solution_997be265.py)\n",
        "\n"
      ]
    },
    {
      "cell_type": "code",
      "execution_count": null,
      "metadata": {
        "cellView": "form",
        "execution": {},
        "id": "q8sgmUdwo8H0"
      },
      "outputs": [],
      "source": [
        "# @title Submit your feedback\n",
        "content_review(f\"{feedback_prefix}_Biases_of_using_these_models_in_other_fields_Discussion\")"
      ]
    },
    {
      "cell_type": "markdown",
      "metadata": {
        "execution": {},
        "id": "GiEuT44Vo8H0"
      },
      "source": [
        "---\n",
        "# Section 9: Transformers beyond Language models\n",
        "\n",
        "*Time estimate: ~5mins*"
      ]
    },
    {
      "cell_type": "markdown",
      "metadata": {
        "execution": {},
        "id": "hKwNSNLNo8H0"
      },
      "source": [
        "Transformers were originally introduced for language tasks, but since then, transformers have achieved State-of-the-Art performance for many different applications, here we discuss some of them:\n",
        "\n",
        "* Computer Vision - Vision Transformers: [ViT](https://arxiv.org/abs/2010.11929)\n",
        "* Art & Creativity: [OpenAI Dall-E 2](https://openai.com/dall-e-2/)* and [Google Parti](https://parti.research.google/)\n",
        "* Vision & Language: [DeepMind Flamingo](https://www.deepmind.com/blog/tackling-multiple-tasks-with-a-single-visual-language-model)\n",
        "* 3D Scene Representations: [NeRF](https://www.matthewtancik.com/nerf)\n",
        "* Speech: [FAIR Wav2Vec 2.0](https://arxiv.org/pdf/2006.11477.pdf)\n",
        "* Generalist Agent: [DeepMind Gato](https://www.deepmind.com/publications/a-generalist-agent)\n",
        "\n",
        "**Note:** Dall-E was a transformer-based model but Dall-E 2 has moved towards Diffusion and uses transformers for specifics such as diffusion priors."
      ]
    },
    {
      "cell_type": "markdown",
      "metadata": {
        "execution": {},
        "id": "M2KX7NRoo8H0"
      },
      "source": [
        "---\n",
        "# Summary\n",
        "\n",
        "What a day! Congratulations! You have finished one of the most demanding days! You have learned about Attention and Transformers, and more specifically you are now able to explain the general attention mechanism using keys, queries, values, and to understand the differences between the Transformers and the RNNs.\n",
        "\n",
        "If you have time left, continue with our Bonus material!"
      ]
    },
    {
      "cell_type": "markdown",
      "metadata": {
        "execution": {},
        "id": "pHSyTKcWo8H0"
      },
      "source": [
        "---\n",
        "# Daily survey\n",
        "\n",
        "Don't forget to complete your reflections and content check in the daily survey! Please be patient after logging in as there is a small delay before you will be redirected to the survey.\n",
        "\n",
        "<a href=\"https://portal.neuromatchacademy.org/api/redirect/to/b4d16463-cbc0-4a8c-b0b6-1cbaa428ee7c\"><img src=\"https://github.com/NeuromatchAcademy/course-content-dl/blob/main/tutorials/static/SurveyButton.png?raw=1\" alt=\"button link to survey\" style=\"width:410px\"></a>"
      ]
    }
  ],
  "metadata": {
    "colab": {
      "provenance": [],
      "include_colab_link": true
    },
    "kernel": {
      "display_name": "Python 3",
      "language": "python",
      "name": "python3"
    },
    "kernelspec": {
      "display_name": "Python 3",
      "name": "python3"
    },
    "language_info": {
      "codemirror_mode": {
        "name": "ipython",
        "version": 3
      },
      "file_extension": ".py",
      "mimetype": "text/x-python",
      "name": "python",
      "nbconvert_exporter": "python",
      "pygments_lexer": "ipython3",
      "version": "3.7.12"
    },
    "widgets": {
      "application/vnd.jupyter.widget-state+json": {
        "4e0e834446dc4b5d8d0206ef72727577": {
          "model_module": "@jupyter-widgets/controls",
          "model_name": "HBoxModel",
          "model_module_version": "1.5.0",
          "state": {
            "_dom_classes": [],
            "_model_module": "@jupyter-widgets/controls",
            "_model_module_version": "1.5.0",
            "_model_name": "HBoxModel",
            "_view_count": null,
            "_view_module": "@jupyter-widgets/controls",
            "_view_module_version": "1.5.0",
            "_view_name": "HBoxView",
            "box_style": "",
            "children": [
              "IPY_MODEL_8759441bc06d43b1b6e449423954dcf9",
              "IPY_MODEL_c8ce85b319654b608622a53dc53b5a94",
              "IPY_MODEL_474a06e9d4e74d1c8c3f7873f31c8812"
            ],
            "layout": "IPY_MODEL_6fa78e0f814c44778e3eba37dc6891d5"
          }
        },
        "8759441bc06d43b1b6e449423954dcf9": {
          "model_module": "@jupyter-widgets/controls",
          "model_name": "HTMLModel",
          "model_module_version": "1.5.0",
          "state": {
            "_dom_classes": [],
            "_model_module": "@jupyter-widgets/controls",
            "_model_module_version": "1.5.0",
            "_model_name": "HTMLModel",
            "_view_count": null,
            "_view_module": "@jupyter-widgets/controls",
            "_view_module_version": "1.5.0",
            "_view_name": "HTMLView",
            "description": "",
            "description_tooltip": null,
            "layout": "IPY_MODEL_a18eaa175dbd4a45836d9beca5a04b0d",
            "placeholder": "​",
            "style": "IPY_MODEL_18601dce66f64d55906ea2b8be02034f",
            "value": "train-00000-of-00001.parquet: 100%"
          }
        },
        "c8ce85b319654b608622a53dc53b5a94": {
          "model_module": "@jupyter-widgets/controls",
          "model_name": "FloatProgressModel",
          "model_module_version": "1.5.0",
          "state": {
            "_dom_classes": [],
            "_model_module": "@jupyter-widgets/controls",
            "_model_module_version": "1.5.0",
            "_model_name": "FloatProgressModel",
            "_view_count": null,
            "_view_module": "@jupyter-widgets/controls",
            "_view_module_version": "1.5.0",
            "_view_name": "ProgressView",
            "bar_style": "success",
            "description": "",
            "description_tooltip": null,
            "layout": "IPY_MODEL_c01d3342ee794ce4bbd87c93a1a0a13b",
            "max": 299436850,
            "min": 0,
            "orientation": "horizontal",
            "style": "IPY_MODEL_2765da0a7c5e41ef80e07203127c5347",
            "value": 299436850
          }
        },
        "474a06e9d4e74d1c8c3f7873f31c8812": {
          "model_module": "@jupyter-widgets/controls",
          "model_name": "HTMLModel",
          "model_module_version": "1.5.0",
          "state": {
            "_dom_classes": [],
            "_model_module": "@jupyter-widgets/controls",
            "_model_module_version": "1.5.0",
            "_model_name": "HTMLModel",
            "_view_count": null,
            "_view_module": "@jupyter-widgets/controls",
            "_view_module_version": "1.5.0",
            "_view_name": "HTMLView",
            "description": "",
            "description_tooltip": null,
            "layout": "IPY_MODEL_d2ba8f8e5f69401d94bb5112dbe5d5af",
            "placeholder": "​",
            "style": "IPY_MODEL_0bf3a6a3d89b47528221702dd5ded5c9",
            "value": " 299M/299M [00:02&lt;00:00, 130MB/s]"
          }
        },
        "6fa78e0f814c44778e3eba37dc6891d5": {
          "model_module": "@jupyter-widgets/base",
          "model_name": "LayoutModel",
          "model_module_version": "1.2.0",
          "state": {
            "_model_module": "@jupyter-widgets/base",
            "_model_module_version": "1.2.0",
            "_model_name": "LayoutModel",
            "_view_count": null,
            "_view_module": "@jupyter-widgets/base",
            "_view_module_version": "1.2.0",
            "_view_name": "LayoutView",
            "align_content": null,
            "align_items": null,
            "align_self": null,
            "border": null,
            "bottom": null,
            "display": null,
            "flex": null,
            "flex_flow": null,
            "grid_area": null,
            "grid_auto_columns": null,
            "grid_auto_flow": null,
            "grid_auto_rows": null,
            "grid_column": null,
            "grid_gap": null,
            "grid_row": null,
            "grid_template_areas": null,
            "grid_template_columns": null,
            "grid_template_rows": null,
            "height": null,
            "justify_content": null,
            "justify_items": null,
            "left": null,
            "margin": null,
            "max_height": null,
            "max_width": null,
            "min_height": null,
            "min_width": null,
            "object_fit": null,
            "object_position": null,
            "order": null,
            "overflow": null,
            "overflow_x": null,
            "overflow_y": null,
            "padding": null,
            "right": null,
            "top": null,
            "visibility": null,
            "width": null
          }
        },
        "a18eaa175dbd4a45836d9beca5a04b0d": {
          "model_module": "@jupyter-widgets/base",
          "model_name": "LayoutModel",
          "model_module_version": "1.2.0",
          "state": {
            "_model_module": "@jupyter-widgets/base",
            "_model_module_version": "1.2.0",
            "_model_name": "LayoutModel",
            "_view_count": null,
            "_view_module": "@jupyter-widgets/base",
            "_view_module_version": "1.2.0",
            "_view_name": "LayoutView",
            "align_content": null,
            "align_items": null,
            "align_self": null,
            "border": null,
            "bottom": null,
            "display": null,
            "flex": null,
            "flex_flow": null,
            "grid_area": null,
            "grid_auto_columns": null,
            "grid_auto_flow": null,
            "grid_auto_rows": null,
            "grid_column": null,
            "grid_gap": null,
            "grid_row": null,
            "grid_template_areas": null,
            "grid_template_columns": null,
            "grid_template_rows": null,
            "height": null,
            "justify_content": null,
            "justify_items": null,
            "left": null,
            "margin": null,
            "max_height": null,
            "max_width": null,
            "min_height": null,
            "min_width": null,
            "object_fit": null,
            "object_position": null,
            "order": null,
            "overflow": null,
            "overflow_x": null,
            "overflow_y": null,
            "padding": null,
            "right": null,
            "top": null,
            "visibility": null,
            "width": null
          }
        },
        "18601dce66f64d55906ea2b8be02034f": {
          "model_module": "@jupyter-widgets/controls",
          "model_name": "DescriptionStyleModel",
          "model_module_version": "1.5.0",
          "state": {
            "_model_module": "@jupyter-widgets/controls",
            "_model_module_version": "1.5.0",
            "_model_name": "DescriptionStyleModel",
            "_view_count": null,
            "_view_module": "@jupyter-widgets/base",
            "_view_module_version": "1.2.0",
            "_view_name": "StyleView",
            "description_width": ""
          }
        },
        "c01d3342ee794ce4bbd87c93a1a0a13b": {
          "model_module": "@jupyter-widgets/base",
          "model_name": "LayoutModel",
          "model_module_version": "1.2.0",
          "state": {
            "_model_module": "@jupyter-widgets/base",
            "_model_module_version": "1.2.0",
            "_model_name": "LayoutModel",
            "_view_count": null,
            "_view_module": "@jupyter-widgets/base",
            "_view_module_version": "1.2.0",
            "_view_name": "LayoutView",
            "align_content": null,
            "align_items": null,
            "align_self": null,
            "border": null,
            "bottom": null,
            "display": null,
            "flex": null,
            "flex_flow": null,
            "grid_area": null,
            "grid_auto_columns": null,
            "grid_auto_flow": null,
            "grid_auto_rows": null,
            "grid_column": null,
            "grid_gap": null,
            "grid_row": null,
            "grid_template_areas": null,
            "grid_template_columns": null,
            "grid_template_rows": null,
            "height": null,
            "justify_content": null,
            "justify_items": null,
            "left": null,
            "margin": null,
            "max_height": null,
            "max_width": null,
            "min_height": null,
            "min_width": null,
            "object_fit": null,
            "object_position": null,
            "order": null,
            "overflow": null,
            "overflow_x": null,
            "overflow_y": null,
            "padding": null,
            "right": null,
            "top": null,
            "visibility": null,
            "width": null
          }
        },
        "2765da0a7c5e41ef80e07203127c5347": {
          "model_module": "@jupyter-widgets/controls",
          "model_name": "ProgressStyleModel",
          "model_module_version": "1.5.0",
          "state": {
            "_model_module": "@jupyter-widgets/controls",
            "_model_module_version": "1.5.0",
            "_model_name": "ProgressStyleModel",
            "_view_count": null,
            "_view_module": "@jupyter-widgets/base",
            "_view_module_version": "1.2.0",
            "_view_name": "StyleView",
            "bar_color": null,
            "description_width": ""
          }
        },
        "d2ba8f8e5f69401d94bb5112dbe5d5af": {
          "model_module": "@jupyter-widgets/base",
          "model_name": "LayoutModel",
          "model_module_version": "1.2.0",
          "state": {
            "_model_module": "@jupyter-widgets/base",
            "_model_module_version": "1.2.0",
            "_model_name": "LayoutModel",
            "_view_count": null,
            "_view_module": "@jupyter-widgets/base",
            "_view_module_version": "1.2.0",
            "_view_name": "LayoutView",
            "align_content": null,
            "align_items": null,
            "align_self": null,
            "border": null,
            "bottom": null,
            "display": null,
            "flex": null,
            "flex_flow": null,
            "grid_area": null,
            "grid_auto_columns": null,
            "grid_auto_flow": null,
            "grid_auto_rows": null,
            "grid_column": null,
            "grid_gap": null,
            "grid_row": null,
            "grid_template_areas": null,
            "grid_template_columns": null,
            "grid_template_rows": null,
            "height": null,
            "justify_content": null,
            "justify_items": null,
            "left": null,
            "margin": null,
            "max_height": null,
            "max_width": null,
            "min_height": null,
            "min_width": null,
            "object_fit": null,
            "object_position": null,
            "order": null,
            "overflow": null,
            "overflow_x": null,
            "overflow_y": null,
            "padding": null,
            "right": null,
            "top": null,
            "visibility": null,
            "width": null
          }
        },
        "0bf3a6a3d89b47528221702dd5ded5c9": {
          "model_module": "@jupyter-widgets/controls",
          "model_name": "DescriptionStyleModel",
          "model_module_version": "1.5.0",
          "state": {
            "_model_module": "@jupyter-widgets/controls",
            "_model_module_version": "1.5.0",
            "_model_name": "DescriptionStyleModel",
            "_view_count": null,
            "_view_module": "@jupyter-widgets/base",
            "_view_module_version": "1.2.0",
            "_view_name": "StyleView",
            "description_width": ""
          }
        },
        "09a8b442c59a4fd591da4fa556d20692": {
          "model_module": "@jupyter-widgets/controls",
          "model_name": "HBoxModel",
          "model_module_version": "1.5.0",
          "state": {
            "_dom_classes": [],
            "_model_module": "@jupyter-widgets/controls",
            "_model_module_version": "1.5.0",
            "_model_name": "HBoxModel",
            "_view_count": null,
            "_view_module": "@jupyter-widgets/controls",
            "_view_module_version": "1.5.0",
            "_view_name": "HBoxView",
            "box_style": "",
            "children": [
              "IPY_MODEL_81e5eabc9c5e48f7bb222073222acd2c",
              "IPY_MODEL_81a1c8793f864434912066edc074f22e",
              "IPY_MODEL_ab5086b55ad44d42b02dff6c363732b1"
            ],
            "layout": "IPY_MODEL_1e1783c3a920408fa23d403aa8ce6102"
          }
        },
        "81e5eabc9c5e48f7bb222073222acd2c": {
          "model_module": "@jupyter-widgets/controls",
          "model_name": "HTMLModel",
          "model_module_version": "1.5.0",
          "state": {
            "_dom_classes": [],
            "_model_module": "@jupyter-widgets/controls",
            "_model_module_version": "1.5.0",
            "_model_name": "HTMLModel",
            "_view_count": null,
            "_view_module": "@jupyter-widgets/controls",
            "_view_module_version": "1.5.0",
            "_view_name": "HTMLView",
            "description": "",
            "description_tooltip": null,
            "layout": "IPY_MODEL_b5cd525ab33442d2a38d401fe9d66206",
            "placeholder": "​",
            "style": "IPY_MODEL_83a7d048b293447e8a8a8a63fba7f30a",
            "value": "test-00000-of-00001.parquet: 100%"
          }
        },
        "81a1c8793f864434912066edc074f22e": {
          "model_module": "@jupyter-widgets/controls",
          "model_name": "FloatProgressModel",
          "model_module_version": "1.5.0",
          "state": {
            "_dom_classes": [],
            "_model_module": "@jupyter-widgets/controls",
            "_model_module_version": "1.5.0",
            "_model_name": "FloatProgressModel",
            "_view_count": null,
            "_view_module": "@jupyter-widgets/controls",
            "_view_module_version": "1.5.0",
            "_view_name": "ProgressView",
            "bar_style": "success",
            "description": "",
            "description_tooltip": null,
            "layout": "IPY_MODEL_51f8aff13572409eb95b2717a129e249",
            "max": 23515519,
            "min": 0,
            "orientation": "horizontal",
            "style": "IPY_MODEL_5027b8482ea74a7c80632af5a8f93bc6",
            "value": 23515519
          }
        },
        "ab5086b55ad44d42b02dff6c363732b1": {
          "model_module": "@jupyter-widgets/controls",
          "model_name": "HTMLModel",
          "model_module_version": "1.5.0",
          "state": {
            "_dom_classes": [],
            "_model_module": "@jupyter-widgets/controls",
            "_model_module_version": "1.5.0",
            "_model_name": "HTMLModel",
            "_view_count": null,
            "_view_module": "@jupyter-widgets/controls",
            "_view_module_version": "1.5.0",
            "_view_name": "HTMLView",
            "description": "",
            "description_tooltip": null,
            "layout": "IPY_MODEL_8aaa30c781954c4683647531e84ebe03",
            "placeholder": "​",
            "style": "IPY_MODEL_6cb0113cb6b843aa93c9beb282d59a6b",
            "value": " 23.5M/23.5M [00:04&lt;00:00, 163MB/s]"
          }
        },
        "1e1783c3a920408fa23d403aa8ce6102": {
          "model_module": "@jupyter-widgets/base",
          "model_name": "LayoutModel",
          "model_module_version": "1.2.0",
          "state": {
            "_model_module": "@jupyter-widgets/base",
            "_model_module_version": "1.2.0",
            "_model_name": "LayoutModel",
            "_view_count": null,
            "_view_module": "@jupyter-widgets/base",
            "_view_module_version": "1.2.0",
            "_view_name": "LayoutView",
            "align_content": null,
            "align_items": null,
            "align_self": null,
            "border": null,
            "bottom": null,
            "display": null,
            "flex": null,
            "flex_flow": null,
            "grid_area": null,
            "grid_auto_columns": null,
            "grid_auto_flow": null,
            "grid_auto_rows": null,
            "grid_column": null,
            "grid_gap": null,
            "grid_row": null,
            "grid_template_areas": null,
            "grid_template_columns": null,
            "grid_template_rows": null,
            "height": null,
            "justify_content": null,
            "justify_items": null,
            "left": null,
            "margin": null,
            "max_height": null,
            "max_width": null,
            "min_height": null,
            "min_width": null,
            "object_fit": null,
            "object_position": null,
            "order": null,
            "overflow": null,
            "overflow_x": null,
            "overflow_y": null,
            "padding": null,
            "right": null,
            "top": null,
            "visibility": null,
            "width": null
          }
        },
        "b5cd525ab33442d2a38d401fe9d66206": {
          "model_module": "@jupyter-widgets/base",
          "model_name": "LayoutModel",
          "model_module_version": "1.2.0",
          "state": {
            "_model_module": "@jupyter-widgets/base",
            "_model_module_version": "1.2.0",
            "_model_name": "LayoutModel",
            "_view_count": null,
            "_view_module": "@jupyter-widgets/base",
            "_view_module_version": "1.2.0",
            "_view_name": "LayoutView",
            "align_content": null,
            "align_items": null,
            "align_self": null,
            "border": null,
            "bottom": null,
            "display": null,
            "flex": null,
            "flex_flow": null,
            "grid_area": null,
            "grid_auto_columns": null,
            "grid_auto_flow": null,
            "grid_auto_rows": null,
            "grid_column": null,
            "grid_gap": null,
            "grid_row": null,
            "grid_template_areas": null,
            "grid_template_columns": null,
            "grid_template_rows": null,
            "height": null,
            "justify_content": null,
            "justify_items": null,
            "left": null,
            "margin": null,
            "max_height": null,
            "max_width": null,
            "min_height": null,
            "min_width": null,
            "object_fit": null,
            "object_position": null,
            "order": null,
            "overflow": null,
            "overflow_x": null,
            "overflow_y": null,
            "padding": null,
            "right": null,
            "top": null,
            "visibility": null,
            "width": null
          }
        },
        "83a7d048b293447e8a8a8a63fba7f30a": {
          "model_module": "@jupyter-widgets/controls",
          "model_name": "DescriptionStyleModel",
          "model_module_version": "1.5.0",
          "state": {
            "_model_module": "@jupyter-widgets/controls",
            "_model_module_version": "1.5.0",
            "_model_name": "DescriptionStyleModel",
            "_view_count": null,
            "_view_module": "@jupyter-widgets/base",
            "_view_module_version": "1.2.0",
            "_view_name": "StyleView",
            "description_width": ""
          }
        },
        "51f8aff13572409eb95b2717a129e249": {
          "model_module": "@jupyter-widgets/base",
          "model_name": "LayoutModel",
          "model_module_version": "1.2.0",
          "state": {
            "_model_module": "@jupyter-widgets/base",
            "_model_module_version": "1.2.0",
            "_model_name": "LayoutModel",
            "_view_count": null,
            "_view_module": "@jupyter-widgets/base",
            "_view_module_version": "1.2.0",
            "_view_name": "LayoutView",
            "align_content": null,
            "align_items": null,
            "align_self": null,
            "border": null,
            "bottom": null,
            "display": null,
            "flex": null,
            "flex_flow": null,
            "grid_area": null,
            "grid_auto_columns": null,
            "grid_auto_flow": null,
            "grid_auto_rows": null,
            "grid_column": null,
            "grid_gap": null,
            "grid_row": null,
            "grid_template_areas": null,
            "grid_template_columns": null,
            "grid_template_rows": null,
            "height": null,
            "justify_content": null,
            "justify_items": null,
            "left": null,
            "margin": null,
            "max_height": null,
            "max_width": null,
            "min_height": null,
            "min_width": null,
            "object_fit": null,
            "object_position": null,
            "order": null,
            "overflow": null,
            "overflow_x": null,
            "overflow_y": null,
            "padding": null,
            "right": null,
            "top": null,
            "visibility": null,
            "width": null
          }
        },
        "5027b8482ea74a7c80632af5a8f93bc6": {
          "model_module": "@jupyter-widgets/controls",
          "model_name": "ProgressStyleModel",
          "model_module_version": "1.5.0",
          "state": {
            "_model_module": "@jupyter-widgets/controls",
            "_model_module_version": "1.5.0",
            "_model_name": "ProgressStyleModel",
            "_view_count": null,
            "_view_module": "@jupyter-widgets/base",
            "_view_module_version": "1.2.0",
            "_view_name": "StyleView",
            "bar_color": null,
            "description_width": ""
          }
        },
        "8aaa30c781954c4683647531e84ebe03": {
          "model_module": "@jupyter-widgets/base",
          "model_name": "LayoutModel",
          "model_module_version": "1.2.0",
          "state": {
            "_model_module": "@jupyter-widgets/base",
            "_model_module_version": "1.2.0",
            "_model_name": "LayoutModel",
            "_view_count": null,
            "_view_module": "@jupyter-widgets/base",
            "_view_module_version": "1.2.0",
            "_view_name": "LayoutView",
            "align_content": null,
            "align_items": null,
            "align_self": null,
            "border": null,
            "bottom": null,
            "display": null,
            "flex": null,
            "flex_flow": null,
            "grid_area": null,
            "grid_auto_columns": null,
            "grid_auto_flow": null,
            "grid_auto_rows": null,
            "grid_column": null,
            "grid_gap": null,
            "grid_row": null,
            "grid_template_areas": null,
            "grid_template_columns": null,
            "grid_template_rows": null,
            "height": null,
            "justify_content": null,
            "justify_items": null,
            "left": null,
            "margin": null,
            "max_height": null,
            "max_width": null,
            "min_height": null,
            "min_width": null,
            "object_fit": null,
            "object_position": null,
            "order": null,
            "overflow": null,
            "overflow_x": null,
            "overflow_y": null,
            "padding": null,
            "right": null,
            "top": null,
            "visibility": null,
            "width": null
          }
        },
        "6cb0113cb6b843aa93c9beb282d59a6b": {
          "model_module": "@jupyter-widgets/controls",
          "model_name": "DescriptionStyleModel",
          "model_module_version": "1.5.0",
          "state": {
            "_model_module": "@jupyter-widgets/controls",
            "_model_module_version": "1.5.0",
            "_model_name": "DescriptionStyleModel",
            "_view_count": null,
            "_view_module": "@jupyter-widgets/base",
            "_view_module_version": "1.2.0",
            "_view_name": "StyleView",
            "description_width": ""
          }
        },
        "88108c7682b945758ff29416598882ac": {
          "model_module": "@jupyter-widgets/controls",
          "model_name": "HBoxModel",
          "model_module_version": "1.5.0",
          "state": {
            "_dom_classes": [],
            "_model_module": "@jupyter-widgets/controls",
            "_model_module_version": "1.5.0",
            "_model_name": "HBoxModel",
            "_view_count": null,
            "_view_module": "@jupyter-widgets/controls",
            "_view_module_version": "1.5.0",
            "_view_name": "HBoxView",
            "box_style": "",
            "children": [
              "IPY_MODEL_335305b4f711471e8fe1a39b23a5f64b",
              "IPY_MODEL_b67309660ac84f30bdad388719e272b4",
              "IPY_MODEL_bec7c80bda5c4d8c8a3acff5125d5d40"
            ],
            "layout": "IPY_MODEL_87882d67eec34d93b6252c98fc9da19c"
          }
        },
        "335305b4f711471e8fe1a39b23a5f64b": {
          "model_module": "@jupyter-widgets/controls",
          "model_name": "HTMLModel",
          "model_module_version": "1.5.0",
          "state": {
            "_dom_classes": [],
            "_model_module": "@jupyter-widgets/controls",
            "_model_module_version": "1.5.0",
            "_model_name": "HTMLModel",
            "_view_count": null,
            "_view_module": "@jupyter-widgets/controls",
            "_view_module_version": "1.5.0",
            "_view_name": "HTMLView",
            "description": "",
            "description_tooltip": null,
            "layout": "IPY_MODEL_0fc0f368197243a7b9aa1e8b1b48992c",
            "placeholder": "​",
            "style": "IPY_MODEL_bd6df4ad77f84cbf991f0b8f88457eaa",
            "value": "Generating train split: 100%"
          }
        },
        "b67309660ac84f30bdad388719e272b4": {
          "model_module": "@jupyter-widgets/controls",
          "model_name": "FloatProgressModel",
          "model_module_version": "1.5.0",
          "state": {
            "_dom_classes": [],
            "_model_module": "@jupyter-widgets/controls",
            "_model_module_version": "1.5.0",
            "_model_name": "FloatProgressModel",
            "_view_count": null,
            "_view_module": "@jupyter-widgets/controls",
            "_view_module_version": "1.5.0",
            "_view_name": "ProgressView",
            "bar_style": "success",
            "description": "",
            "description_tooltip": null,
            "layout": "IPY_MODEL_31bd6c37477443619ddfedf843d1b2ac",
            "max": 650000,
            "min": 0,
            "orientation": "horizontal",
            "style": "IPY_MODEL_f0ea35913a97452095c3858fb1eed08a",
            "value": 650000
          }
        },
        "bec7c80bda5c4d8c8a3acff5125d5d40": {
          "model_module": "@jupyter-widgets/controls",
          "model_name": "HTMLModel",
          "model_module_version": "1.5.0",
          "state": {
            "_dom_classes": [],
            "_model_module": "@jupyter-widgets/controls",
            "_model_module_version": "1.5.0",
            "_model_name": "HTMLModel",
            "_view_count": null,
            "_view_module": "@jupyter-widgets/controls",
            "_view_module_version": "1.5.0",
            "_view_name": "HTMLView",
            "description": "",
            "description_tooltip": null,
            "layout": "IPY_MODEL_c89a6117abc5410a8ba8acc0c1de4bfe",
            "placeholder": "​",
            "style": "IPY_MODEL_018e0de1a2b040e7b4be17c0d7d83789",
            "value": " 650000/650000 [00:06&lt;00:00, 208294.89 examples/s]"
          }
        },
        "87882d67eec34d93b6252c98fc9da19c": {
          "model_module": "@jupyter-widgets/base",
          "model_name": "LayoutModel",
          "model_module_version": "1.2.0",
          "state": {
            "_model_module": "@jupyter-widgets/base",
            "_model_module_version": "1.2.0",
            "_model_name": "LayoutModel",
            "_view_count": null,
            "_view_module": "@jupyter-widgets/base",
            "_view_module_version": "1.2.0",
            "_view_name": "LayoutView",
            "align_content": null,
            "align_items": null,
            "align_self": null,
            "border": null,
            "bottom": null,
            "display": null,
            "flex": null,
            "flex_flow": null,
            "grid_area": null,
            "grid_auto_columns": null,
            "grid_auto_flow": null,
            "grid_auto_rows": null,
            "grid_column": null,
            "grid_gap": null,
            "grid_row": null,
            "grid_template_areas": null,
            "grid_template_columns": null,
            "grid_template_rows": null,
            "height": null,
            "justify_content": null,
            "justify_items": null,
            "left": null,
            "margin": null,
            "max_height": null,
            "max_width": null,
            "min_height": null,
            "min_width": null,
            "object_fit": null,
            "object_position": null,
            "order": null,
            "overflow": null,
            "overflow_x": null,
            "overflow_y": null,
            "padding": null,
            "right": null,
            "top": null,
            "visibility": null,
            "width": null
          }
        },
        "0fc0f368197243a7b9aa1e8b1b48992c": {
          "model_module": "@jupyter-widgets/base",
          "model_name": "LayoutModel",
          "model_module_version": "1.2.0",
          "state": {
            "_model_module": "@jupyter-widgets/base",
            "_model_module_version": "1.2.0",
            "_model_name": "LayoutModel",
            "_view_count": null,
            "_view_module": "@jupyter-widgets/base",
            "_view_module_version": "1.2.0",
            "_view_name": "LayoutView",
            "align_content": null,
            "align_items": null,
            "align_self": null,
            "border": null,
            "bottom": null,
            "display": null,
            "flex": null,
            "flex_flow": null,
            "grid_area": null,
            "grid_auto_columns": null,
            "grid_auto_flow": null,
            "grid_auto_rows": null,
            "grid_column": null,
            "grid_gap": null,
            "grid_row": null,
            "grid_template_areas": null,
            "grid_template_columns": null,
            "grid_template_rows": null,
            "height": null,
            "justify_content": null,
            "justify_items": null,
            "left": null,
            "margin": null,
            "max_height": null,
            "max_width": null,
            "min_height": null,
            "min_width": null,
            "object_fit": null,
            "object_position": null,
            "order": null,
            "overflow": null,
            "overflow_x": null,
            "overflow_y": null,
            "padding": null,
            "right": null,
            "top": null,
            "visibility": null,
            "width": null
          }
        },
        "bd6df4ad77f84cbf991f0b8f88457eaa": {
          "model_module": "@jupyter-widgets/controls",
          "model_name": "DescriptionStyleModel",
          "model_module_version": "1.5.0",
          "state": {
            "_model_module": "@jupyter-widgets/controls",
            "_model_module_version": "1.5.0",
            "_model_name": "DescriptionStyleModel",
            "_view_count": null,
            "_view_module": "@jupyter-widgets/base",
            "_view_module_version": "1.2.0",
            "_view_name": "StyleView",
            "description_width": ""
          }
        },
        "31bd6c37477443619ddfedf843d1b2ac": {
          "model_module": "@jupyter-widgets/base",
          "model_name": "LayoutModel",
          "model_module_version": "1.2.0",
          "state": {
            "_model_module": "@jupyter-widgets/base",
            "_model_module_version": "1.2.0",
            "_model_name": "LayoutModel",
            "_view_count": null,
            "_view_module": "@jupyter-widgets/base",
            "_view_module_version": "1.2.0",
            "_view_name": "LayoutView",
            "align_content": null,
            "align_items": null,
            "align_self": null,
            "border": null,
            "bottom": null,
            "display": null,
            "flex": null,
            "flex_flow": null,
            "grid_area": null,
            "grid_auto_columns": null,
            "grid_auto_flow": null,
            "grid_auto_rows": null,
            "grid_column": null,
            "grid_gap": null,
            "grid_row": null,
            "grid_template_areas": null,
            "grid_template_columns": null,
            "grid_template_rows": null,
            "height": null,
            "justify_content": null,
            "justify_items": null,
            "left": null,
            "margin": null,
            "max_height": null,
            "max_width": null,
            "min_height": null,
            "min_width": null,
            "object_fit": null,
            "object_position": null,
            "order": null,
            "overflow": null,
            "overflow_x": null,
            "overflow_y": null,
            "padding": null,
            "right": null,
            "top": null,
            "visibility": null,
            "width": null
          }
        },
        "f0ea35913a97452095c3858fb1eed08a": {
          "model_module": "@jupyter-widgets/controls",
          "model_name": "ProgressStyleModel",
          "model_module_version": "1.5.0",
          "state": {
            "_model_module": "@jupyter-widgets/controls",
            "_model_module_version": "1.5.0",
            "_model_name": "ProgressStyleModel",
            "_view_count": null,
            "_view_module": "@jupyter-widgets/base",
            "_view_module_version": "1.2.0",
            "_view_name": "StyleView",
            "bar_color": null,
            "description_width": ""
          }
        },
        "c89a6117abc5410a8ba8acc0c1de4bfe": {
          "model_module": "@jupyter-widgets/base",
          "model_name": "LayoutModel",
          "model_module_version": "1.2.0",
          "state": {
            "_model_module": "@jupyter-widgets/base",
            "_model_module_version": "1.2.0",
            "_model_name": "LayoutModel",
            "_view_count": null,
            "_view_module": "@jupyter-widgets/base",
            "_view_module_version": "1.2.0",
            "_view_name": "LayoutView",
            "align_content": null,
            "align_items": null,
            "align_self": null,
            "border": null,
            "bottom": null,
            "display": null,
            "flex": null,
            "flex_flow": null,
            "grid_area": null,
            "grid_auto_columns": null,
            "grid_auto_flow": null,
            "grid_auto_rows": null,
            "grid_column": null,
            "grid_gap": null,
            "grid_row": null,
            "grid_template_areas": null,
            "grid_template_columns": null,
            "grid_template_rows": null,
            "height": null,
            "justify_content": null,
            "justify_items": null,
            "left": null,
            "margin": null,
            "max_height": null,
            "max_width": null,
            "min_height": null,
            "min_width": null,
            "object_fit": null,
            "object_position": null,
            "order": null,
            "overflow": null,
            "overflow_x": null,
            "overflow_y": null,
            "padding": null,
            "right": null,
            "top": null,
            "visibility": null,
            "width": null
          }
        },
        "018e0de1a2b040e7b4be17c0d7d83789": {
          "model_module": "@jupyter-widgets/controls",
          "model_name": "DescriptionStyleModel",
          "model_module_version": "1.5.0",
          "state": {
            "_model_module": "@jupyter-widgets/controls",
            "_model_module_version": "1.5.0",
            "_model_name": "DescriptionStyleModel",
            "_view_count": null,
            "_view_module": "@jupyter-widgets/base",
            "_view_module_version": "1.2.0",
            "_view_name": "StyleView",
            "description_width": ""
          }
        },
        "4b0eeecaa2a841b4a1ca3fc1ddb15723": {
          "model_module": "@jupyter-widgets/controls",
          "model_name": "HBoxModel",
          "model_module_version": "1.5.0",
          "state": {
            "_dom_classes": [],
            "_model_module": "@jupyter-widgets/controls",
            "_model_module_version": "1.5.0",
            "_model_name": "HBoxModel",
            "_view_count": null,
            "_view_module": "@jupyter-widgets/controls",
            "_view_module_version": "1.5.0",
            "_view_name": "HBoxView",
            "box_style": "",
            "children": [
              "IPY_MODEL_0c6e0cc6422d4c7a87275677796be618",
              "IPY_MODEL_7788db8585324adba41743fa0c746bd1",
              "IPY_MODEL_88457f73aa8b40a5ba1cf0136882de7c"
            ],
            "layout": "IPY_MODEL_ddb546ff059440f7816fae7fc0ca21da"
          }
        },
        "0c6e0cc6422d4c7a87275677796be618": {
          "model_module": "@jupyter-widgets/controls",
          "model_name": "HTMLModel",
          "model_module_version": "1.5.0",
          "state": {
            "_dom_classes": [],
            "_model_module": "@jupyter-widgets/controls",
            "_model_module_version": "1.5.0",
            "_model_name": "HTMLModel",
            "_view_count": null,
            "_view_module": "@jupyter-widgets/controls",
            "_view_module_version": "1.5.0",
            "_view_name": "HTMLView",
            "description": "",
            "description_tooltip": null,
            "layout": "IPY_MODEL_d893f794e590468f978610af6a992a46",
            "placeholder": "​",
            "style": "IPY_MODEL_51f735e3369848f28e9da4c32c9876f5",
            "value": "Generating test split: 100%"
          }
        },
        "7788db8585324adba41743fa0c746bd1": {
          "model_module": "@jupyter-widgets/controls",
          "model_name": "FloatProgressModel",
          "model_module_version": "1.5.0",
          "state": {
            "_dom_classes": [],
            "_model_module": "@jupyter-widgets/controls",
            "_model_module_version": "1.5.0",
            "_model_name": "FloatProgressModel",
            "_view_count": null,
            "_view_module": "@jupyter-widgets/controls",
            "_view_module_version": "1.5.0",
            "_view_name": "ProgressView",
            "bar_style": "success",
            "description": "",
            "description_tooltip": null,
            "layout": "IPY_MODEL_57b9abd5e9934d2bbabccbb7c73a2850",
            "max": 50000,
            "min": 0,
            "orientation": "horizontal",
            "style": "IPY_MODEL_37b7d425259d4ee0975e2c47e38ebfff",
            "value": 50000
          }
        },
        "88457f73aa8b40a5ba1cf0136882de7c": {
          "model_module": "@jupyter-widgets/controls",
          "model_name": "HTMLModel",
          "model_module_version": "1.5.0",
          "state": {
            "_dom_classes": [],
            "_model_module": "@jupyter-widgets/controls",
            "_model_module_version": "1.5.0",
            "_model_name": "HTMLModel",
            "_view_count": null,
            "_view_module": "@jupyter-widgets/controls",
            "_view_module_version": "1.5.0",
            "_view_name": "HTMLView",
            "description": "",
            "description_tooltip": null,
            "layout": "IPY_MODEL_6364b5ade52a4f21b6bea066e46aeb7c",
            "placeholder": "​",
            "style": "IPY_MODEL_478ee9e7ef3c425d90aa35bc06e3fb19",
            "value": " 50000/50000 [00:00&lt;00:00, 169580.85 examples/s]"
          }
        },
        "ddb546ff059440f7816fae7fc0ca21da": {
          "model_module": "@jupyter-widgets/base",
          "model_name": "LayoutModel",
          "model_module_version": "1.2.0",
          "state": {
            "_model_module": "@jupyter-widgets/base",
            "_model_module_version": "1.2.0",
            "_model_name": "LayoutModel",
            "_view_count": null,
            "_view_module": "@jupyter-widgets/base",
            "_view_module_version": "1.2.0",
            "_view_name": "LayoutView",
            "align_content": null,
            "align_items": null,
            "align_self": null,
            "border": null,
            "bottom": null,
            "display": null,
            "flex": null,
            "flex_flow": null,
            "grid_area": null,
            "grid_auto_columns": null,
            "grid_auto_flow": null,
            "grid_auto_rows": null,
            "grid_column": null,
            "grid_gap": null,
            "grid_row": null,
            "grid_template_areas": null,
            "grid_template_columns": null,
            "grid_template_rows": null,
            "height": null,
            "justify_content": null,
            "justify_items": null,
            "left": null,
            "margin": null,
            "max_height": null,
            "max_width": null,
            "min_height": null,
            "min_width": null,
            "object_fit": null,
            "object_position": null,
            "order": null,
            "overflow": null,
            "overflow_x": null,
            "overflow_y": null,
            "padding": null,
            "right": null,
            "top": null,
            "visibility": null,
            "width": null
          }
        },
        "d893f794e590468f978610af6a992a46": {
          "model_module": "@jupyter-widgets/base",
          "model_name": "LayoutModel",
          "model_module_version": "1.2.0",
          "state": {
            "_model_module": "@jupyter-widgets/base",
            "_model_module_version": "1.2.0",
            "_model_name": "LayoutModel",
            "_view_count": null,
            "_view_module": "@jupyter-widgets/base",
            "_view_module_version": "1.2.0",
            "_view_name": "LayoutView",
            "align_content": null,
            "align_items": null,
            "align_self": null,
            "border": null,
            "bottom": null,
            "display": null,
            "flex": null,
            "flex_flow": null,
            "grid_area": null,
            "grid_auto_columns": null,
            "grid_auto_flow": null,
            "grid_auto_rows": null,
            "grid_column": null,
            "grid_gap": null,
            "grid_row": null,
            "grid_template_areas": null,
            "grid_template_columns": null,
            "grid_template_rows": null,
            "height": null,
            "justify_content": null,
            "justify_items": null,
            "left": null,
            "margin": null,
            "max_height": null,
            "max_width": null,
            "min_height": null,
            "min_width": null,
            "object_fit": null,
            "object_position": null,
            "order": null,
            "overflow": null,
            "overflow_x": null,
            "overflow_y": null,
            "padding": null,
            "right": null,
            "top": null,
            "visibility": null,
            "width": null
          }
        },
        "51f735e3369848f28e9da4c32c9876f5": {
          "model_module": "@jupyter-widgets/controls",
          "model_name": "DescriptionStyleModel",
          "model_module_version": "1.5.0",
          "state": {
            "_model_module": "@jupyter-widgets/controls",
            "_model_module_version": "1.5.0",
            "_model_name": "DescriptionStyleModel",
            "_view_count": null,
            "_view_module": "@jupyter-widgets/base",
            "_view_module_version": "1.2.0",
            "_view_name": "StyleView",
            "description_width": ""
          }
        },
        "57b9abd5e9934d2bbabccbb7c73a2850": {
          "model_module": "@jupyter-widgets/base",
          "model_name": "LayoutModel",
          "model_module_version": "1.2.0",
          "state": {
            "_model_module": "@jupyter-widgets/base",
            "_model_module_version": "1.2.0",
            "_model_name": "LayoutModel",
            "_view_count": null,
            "_view_module": "@jupyter-widgets/base",
            "_view_module_version": "1.2.0",
            "_view_name": "LayoutView",
            "align_content": null,
            "align_items": null,
            "align_self": null,
            "border": null,
            "bottom": null,
            "display": null,
            "flex": null,
            "flex_flow": null,
            "grid_area": null,
            "grid_auto_columns": null,
            "grid_auto_flow": null,
            "grid_auto_rows": null,
            "grid_column": null,
            "grid_gap": null,
            "grid_row": null,
            "grid_template_areas": null,
            "grid_template_columns": null,
            "grid_template_rows": null,
            "height": null,
            "justify_content": null,
            "justify_items": null,
            "left": null,
            "margin": null,
            "max_height": null,
            "max_width": null,
            "min_height": null,
            "min_width": null,
            "object_fit": null,
            "object_position": null,
            "order": null,
            "overflow": null,
            "overflow_x": null,
            "overflow_y": null,
            "padding": null,
            "right": null,
            "top": null,
            "visibility": null,
            "width": null
          }
        },
        "37b7d425259d4ee0975e2c47e38ebfff": {
          "model_module": "@jupyter-widgets/controls",
          "model_name": "ProgressStyleModel",
          "model_module_version": "1.5.0",
          "state": {
            "_model_module": "@jupyter-widgets/controls",
            "_model_module_version": "1.5.0",
            "_model_name": "ProgressStyleModel",
            "_view_count": null,
            "_view_module": "@jupyter-widgets/base",
            "_view_module_version": "1.2.0",
            "_view_name": "StyleView",
            "bar_color": null,
            "description_width": ""
          }
        },
        "6364b5ade52a4f21b6bea066e46aeb7c": {
          "model_module": "@jupyter-widgets/base",
          "model_name": "LayoutModel",
          "model_module_version": "1.2.0",
          "state": {
            "_model_module": "@jupyter-widgets/base",
            "_model_module_version": "1.2.0",
            "_model_name": "LayoutModel",
            "_view_count": null,
            "_view_module": "@jupyter-widgets/base",
            "_view_module_version": "1.2.0",
            "_view_name": "LayoutView",
            "align_content": null,
            "align_items": null,
            "align_self": null,
            "border": null,
            "bottom": null,
            "display": null,
            "flex": null,
            "flex_flow": null,
            "grid_area": null,
            "grid_auto_columns": null,
            "grid_auto_flow": null,
            "grid_auto_rows": null,
            "grid_column": null,
            "grid_gap": null,
            "grid_row": null,
            "grid_template_areas": null,
            "grid_template_columns": null,
            "grid_template_rows": null,
            "height": null,
            "justify_content": null,
            "justify_items": null,
            "left": null,
            "margin": null,
            "max_height": null,
            "max_width": null,
            "min_height": null,
            "min_width": null,
            "object_fit": null,
            "object_position": null,
            "order": null,
            "overflow": null,
            "overflow_x": null,
            "overflow_y": null,
            "padding": null,
            "right": null,
            "top": null,
            "visibility": null,
            "width": null
          }
        },
        "478ee9e7ef3c425d90aa35bc06e3fb19": {
          "model_module": "@jupyter-widgets/controls",
          "model_name": "DescriptionStyleModel",
          "model_module_version": "1.5.0",
          "state": {
            "_model_module": "@jupyter-widgets/controls",
            "_model_module_version": "1.5.0",
            "_model_name": "DescriptionStyleModel",
            "_view_count": null,
            "_view_module": "@jupyter-widgets/base",
            "_view_module_version": "1.2.0",
            "_view_name": "StyleView",
            "description_width": ""
          }
        },
        "4adc3600b6714928bc93bebef766f396": {
          "model_module": "@jupyter-widgets/controls",
          "model_name": "HBoxModel",
          "model_module_version": "1.5.0",
          "state": {
            "_dom_classes": [],
            "_model_module": "@jupyter-widgets/controls",
            "_model_module_version": "1.5.0",
            "_model_name": "HBoxModel",
            "_view_count": null,
            "_view_module": "@jupyter-widgets/controls",
            "_view_module_version": "1.5.0",
            "_view_name": "HBoxView",
            "box_style": "",
            "children": [
              "IPY_MODEL_f69351eb14f14ac19be1d537d3d2d5d3",
              "IPY_MODEL_38080b608ba544558618c18c54967745",
              "IPY_MODEL_1692cbeda16c4d958406582929de9231"
            ],
            "layout": "IPY_MODEL_005178f839b54bb29f59a5d51cb3f1e2"
          }
        },
        "f69351eb14f14ac19be1d537d3d2d5d3": {
          "model_module": "@jupyter-widgets/controls",
          "model_name": "HTMLModel",
          "model_module_version": "1.5.0",
          "state": {
            "_dom_classes": [],
            "_model_module": "@jupyter-widgets/controls",
            "_model_module_version": "1.5.0",
            "_model_name": "HTMLModel",
            "_view_count": null,
            "_view_module": "@jupyter-widgets/controls",
            "_view_module_version": "1.5.0",
            "_view_name": "HTMLView",
            "description": "",
            "description_tooltip": null,
            "layout": "IPY_MODEL_674c3227c08249dd85095bf6d42b559a",
            "placeholder": "​",
            "style": "IPY_MODEL_68eb23f74c9b4b93a1c4ae2c699bbd7a",
            "value": "Map: 100%"
          }
        },
        "38080b608ba544558618c18c54967745": {
          "model_module": "@jupyter-widgets/controls",
          "model_name": "FloatProgressModel",
          "model_module_version": "1.5.0",
          "state": {
            "_dom_classes": [],
            "_model_module": "@jupyter-widgets/controls",
            "_model_module_version": "1.5.0",
            "_model_name": "FloatProgressModel",
            "_view_count": null,
            "_view_module": "@jupyter-widgets/controls",
            "_view_module_version": "1.5.0",
            "_view_name": "ProgressView",
            "bar_style": "success",
            "description": "",
            "description_tooltip": null,
            "layout": "IPY_MODEL_93d929d21b76454680356ae1ce02ff33",
            "max": 10000,
            "min": 0,
            "orientation": "horizontal",
            "style": "IPY_MODEL_16a0dd484e4042edb08f2d4a2ecc5e3d",
            "value": 10000
          }
        },
        "1692cbeda16c4d958406582929de9231": {
          "model_module": "@jupyter-widgets/controls",
          "model_name": "HTMLModel",
          "model_module_version": "1.5.0",
          "state": {
            "_dom_classes": [],
            "_model_module": "@jupyter-widgets/controls",
            "_model_module_version": "1.5.0",
            "_model_name": "HTMLModel",
            "_view_count": null,
            "_view_module": "@jupyter-widgets/controls",
            "_view_module_version": "1.5.0",
            "_view_name": "HTMLView",
            "description": "",
            "description_tooltip": null,
            "layout": "IPY_MODEL_04c95156c02044c9a54997b83dfad947",
            "placeholder": "​",
            "style": "IPY_MODEL_3a000141187c4ec8a6d15c551ab9fbe5",
            "value": " 10000/10000 [00:10&lt;00:00, 1050.67 examples/s]"
          }
        },
        "005178f839b54bb29f59a5d51cb3f1e2": {
          "model_module": "@jupyter-widgets/base",
          "model_name": "LayoutModel",
          "model_module_version": "1.2.0",
          "state": {
            "_model_module": "@jupyter-widgets/base",
            "_model_module_version": "1.2.0",
            "_model_name": "LayoutModel",
            "_view_count": null,
            "_view_module": "@jupyter-widgets/base",
            "_view_module_version": "1.2.0",
            "_view_name": "LayoutView",
            "align_content": null,
            "align_items": null,
            "align_self": null,
            "border": null,
            "bottom": null,
            "display": null,
            "flex": null,
            "flex_flow": null,
            "grid_area": null,
            "grid_auto_columns": null,
            "grid_auto_flow": null,
            "grid_auto_rows": null,
            "grid_column": null,
            "grid_gap": null,
            "grid_row": null,
            "grid_template_areas": null,
            "grid_template_columns": null,
            "grid_template_rows": null,
            "height": null,
            "justify_content": null,
            "justify_items": null,
            "left": null,
            "margin": null,
            "max_height": null,
            "max_width": null,
            "min_height": null,
            "min_width": null,
            "object_fit": null,
            "object_position": null,
            "order": null,
            "overflow": null,
            "overflow_x": null,
            "overflow_y": null,
            "padding": null,
            "right": null,
            "top": null,
            "visibility": null,
            "width": null
          }
        },
        "674c3227c08249dd85095bf6d42b559a": {
          "model_module": "@jupyter-widgets/base",
          "model_name": "LayoutModel",
          "model_module_version": "1.2.0",
          "state": {
            "_model_module": "@jupyter-widgets/base",
            "_model_module_version": "1.2.0",
            "_model_name": "LayoutModel",
            "_view_count": null,
            "_view_module": "@jupyter-widgets/base",
            "_view_module_version": "1.2.0",
            "_view_name": "LayoutView",
            "align_content": null,
            "align_items": null,
            "align_self": null,
            "border": null,
            "bottom": null,
            "display": null,
            "flex": null,
            "flex_flow": null,
            "grid_area": null,
            "grid_auto_columns": null,
            "grid_auto_flow": null,
            "grid_auto_rows": null,
            "grid_column": null,
            "grid_gap": null,
            "grid_row": null,
            "grid_template_areas": null,
            "grid_template_columns": null,
            "grid_template_rows": null,
            "height": null,
            "justify_content": null,
            "justify_items": null,
            "left": null,
            "margin": null,
            "max_height": null,
            "max_width": null,
            "min_height": null,
            "min_width": null,
            "object_fit": null,
            "object_position": null,
            "order": null,
            "overflow": null,
            "overflow_x": null,
            "overflow_y": null,
            "padding": null,
            "right": null,
            "top": null,
            "visibility": null,
            "width": null
          }
        },
        "68eb23f74c9b4b93a1c4ae2c699bbd7a": {
          "model_module": "@jupyter-widgets/controls",
          "model_name": "DescriptionStyleModel",
          "model_module_version": "1.5.0",
          "state": {
            "_model_module": "@jupyter-widgets/controls",
            "_model_module_version": "1.5.0",
            "_model_name": "DescriptionStyleModel",
            "_view_count": null,
            "_view_module": "@jupyter-widgets/base",
            "_view_module_version": "1.2.0",
            "_view_name": "StyleView",
            "description_width": ""
          }
        },
        "93d929d21b76454680356ae1ce02ff33": {
          "model_module": "@jupyter-widgets/base",
          "model_name": "LayoutModel",
          "model_module_version": "1.2.0",
          "state": {
            "_model_module": "@jupyter-widgets/base",
            "_model_module_version": "1.2.0",
            "_model_name": "LayoutModel",
            "_view_count": null,
            "_view_module": "@jupyter-widgets/base",
            "_view_module_version": "1.2.0",
            "_view_name": "LayoutView",
            "align_content": null,
            "align_items": null,
            "align_self": null,
            "border": null,
            "bottom": null,
            "display": null,
            "flex": null,
            "flex_flow": null,
            "grid_area": null,
            "grid_auto_columns": null,
            "grid_auto_flow": null,
            "grid_auto_rows": null,
            "grid_column": null,
            "grid_gap": null,
            "grid_row": null,
            "grid_template_areas": null,
            "grid_template_columns": null,
            "grid_template_rows": null,
            "height": null,
            "justify_content": null,
            "justify_items": null,
            "left": null,
            "margin": null,
            "max_height": null,
            "max_width": null,
            "min_height": null,
            "min_width": null,
            "object_fit": null,
            "object_position": null,
            "order": null,
            "overflow": null,
            "overflow_x": null,
            "overflow_y": null,
            "padding": null,
            "right": null,
            "top": null,
            "visibility": null,
            "width": null
          }
        },
        "16a0dd484e4042edb08f2d4a2ecc5e3d": {
          "model_module": "@jupyter-widgets/controls",
          "model_name": "ProgressStyleModel",
          "model_module_version": "1.5.0",
          "state": {
            "_model_module": "@jupyter-widgets/controls",
            "_model_module_version": "1.5.0",
            "_model_name": "ProgressStyleModel",
            "_view_count": null,
            "_view_module": "@jupyter-widgets/base",
            "_view_module_version": "1.2.0",
            "_view_name": "StyleView",
            "bar_color": null,
            "description_width": ""
          }
        },
        "04c95156c02044c9a54997b83dfad947": {
          "model_module": "@jupyter-widgets/base",
          "model_name": "LayoutModel",
          "model_module_version": "1.2.0",
          "state": {
            "_model_module": "@jupyter-widgets/base",
            "_model_module_version": "1.2.0",
            "_model_name": "LayoutModel",
            "_view_count": null,
            "_view_module": "@jupyter-widgets/base",
            "_view_module_version": "1.2.0",
            "_view_name": "LayoutView",
            "align_content": null,
            "align_items": null,
            "align_self": null,
            "border": null,
            "bottom": null,
            "display": null,
            "flex": null,
            "flex_flow": null,
            "grid_area": null,
            "grid_auto_columns": null,
            "grid_auto_flow": null,
            "grid_auto_rows": null,
            "grid_column": null,
            "grid_gap": null,
            "grid_row": null,
            "grid_template_areas": null,
            "grid_template_columns": null,
            "grid_template_rows": null,
            "height": null,
            "justify_content": null,
            "justify_items": null,
            "left": null,
            "margin": null,
            "max_height": null,
            "max_width": null,
            "min_height": null,
            "min_width": null,
            "object_fit": null,
            "object_position": null,
            "order": null,
            "overflow": null,
            "overflow_x": null,
            "overflow_y": null,
            "padding": null,
            "right": null,
            "top": null,
            "visibility": null,
            "width": null
          }
        },
        "3a000141187c4ec8a6d15c551ab9fbe5": {
          "model_module": "@jupyter-widgets/controls",
          "model_name": "DescriptionStyleModel",
          "model_module_version": "1.5.0",
          "state": {
            "_model_module": "@jupyter-widgets/controls",
            "_model_module_version": "1.5.0",
            "_model_name": "DescriptionStyleModel",
            "_view_count": null,
            "_view_module": "@jupyter-widgets/base",
            "_view_module_version": "1.2.0",
            "_view_name": "StyleView",
            "description_width": ""
          }
        },
        "3c4bf31a12e54f37bb2475843105d970": {
          "model_module": "@jupyter-widgets/controls",
          "model_name": "HBoxModel",
          "model_module_version": "1.5.0",
          "state": {
            "_dom_classes": [],
            "_model_module": "@jupyter-widgets/controls",
            "_model_module_version": "1.5.0",
            "_model_name": "HBoxModel",
            "_view_count": null,
            "_view_module": "@jupyter-widgets/controls",
            "_view_module_version": "1.5.0",
            "_view_name": "HBoxView",
            "box_style": "",
            "children": [
              "IPY_MODEL_d80876fdd0ed4781b5548671795e566c",
              "IPY_MODEL_a588069a1a4b45b4bb0a123f0af8f1c6",
              "IPY_MODEL_1d3ea80c28f94734a9049515f3a05f58"
            ],
            "layout": "IPY_MODEL_25b618e350d14f5abe7b905cb408f145"
          }
        },
        "d80876fdd0ed4781b5548671795e566c": {
          "model_module": "@jupyter-widgets/controls",
          "model_name": "HTMLModel",
          "model_module_version": "1.5.0",
          "state": {
            "_dom_classes": [],
            "_model_module": "@jupyter-widgets/controls",
            "_model_module_version": "1.5.0",
            "_model_name": "HTMLModel",
            "_view_count": null,
            "_view_module": "@jupyter-widgets/controls",
            "_view_module_version": "1.5.0",
            "_view_name": "HTMLView",
            "description": "",
            "description_tooltip": null,
            "layout": "IPY_MODEL_ad39b83af8874bc2828c05bf934a2a2f",
            "placeholder": "​",
            "style": "IPY_MODEL_04635103f6a34ff3af89907f0b8d22c1",
            "value": "Map: 100%"
          }
        },
        "a588069a1a4b45b4bb0a123f0af8f1c6": {
          "model_module": "@jupyter-widgets/controls",
          "model_name": "FloatProgressModel",
          "model_module_version": "1.5.0",
          "state": {
            "_dom_classes": [],
            "_model_module": "@jupyter-widgets/controls",
            "_model_module_version": "1.5.0",
            "_model_name": "FloatProgressModel",
            "_view_count": null,
            "_view_module": "@jupyter-widgets/controls",
            "_view_module_version": "1.5.0",
            "_view_name": "ProgressView",
            "bar_style": "success",
            "description": "",
            "description_tooltip": null,
            "layout": "IPY_MODEL_87df4127f50a45fa8cb933e7b786d3cb",
            "max": 5000,
            "min": 0,
            "orientation": "horizontal",
            "style": "IPY_MODEL_9487ff719a344b9c84dc452e2d8a3301",
            "value": 5000
          }
        },
        "1d3ea80c28f94734a9049515f3a05f58": {
          "model_module": "@jupyter-widgets/controls",
          "model_name": "HTMLModel",
          "model_module_version": "1.5.0",
          "state": {
            "_dom_classes": [],
            "_model_module": "@jupyter-widgets/controls",
            "_model_module_version": "1.5.0",
            "_model_name": "HTMLModel",
            "_view_count": null,
            "_view_module": "@jupyter-widgets/controls",
            "_view_module_version": "1.5.0",
            "_view_name": "HTMLView",
            "description": "",
            "description_tooltip": null,
            "layout": "IPY_MODEL_f4f54b3140194db39a445c85b4f9a9bf",
            "placeholder": "​",
            "style": "IPY_MODEL_ec61f8ab15ef49479136b7ac0c1b13ec",
            "value": " 5000/5000 [00:04&lt;00:00, 1126.94 examples/s]"
          }
        },
        "25b618e350d14f5abe7b905cb408f145": {
          "model_module": "@jupyter-widgets/base",
          "model_name": "LayoutModel",
          "model_module_version": "1.2.0",
          "state": {
            "_model_module": "@jupyter-widgets/base",
            "_model_module_version": "1.2.0",
            "_model_name": "LayoutModel",
            "_view_count": null,
            "_view_module": "@jupyter-widgets/base",
            "_view_module_version": "1.2.0",
            "_view_name": "LayoutView",
            "align_content": null,
            "align_items": null,
            "align_self": null,
            "border": null,
            "bottom": null,
            "display": null,
            "flex": null,
            "flex_flow": null,
            "grid_area": null,
            "grid_auto_columns": null,
            "grid_auto_flow": null,
            "grid_auto_rows": null,
            "grid_column": null,
            "grid_gap": null,
            "grid_row": null,
            "grid_template_areas": null,
            "grid_template_columns": null,
            "grid_template_rows": null,
            "height": null,
            "justify_content": null,
            "justify_items": null,
            "left": null,
            "margin": null,
            "max_height": null,
            "max_width": null,
            "min_height": null,
            "min_width": null,
            "object_fit": null,
            "object_position": null,
            "order": null,
            "overflow": null,
            "overflow_x": null,
            "overflow_y": null,
            "padding": null,
            "right": null,
            "top": null,
            "visibility": null,
            "width": null
          }
        },
        "ad39b83af8874bc2828c05bf934a2a2f": {
          "model_module": "@jupyter-widgets/base",
          "model_name": "LayoutModel",
          "model_module_version": "1.2.0",
          "state": {
            "_model_module": "@jupyter-widgets/base",
            "_model_module_version": "1.2.0",
            "_model_name": "LayoutModel",
            "_view_count": null,
            "_view_module": "@jupyter-widgets/base",
            "_view_module_version": "1.2.0",
            "_view_name": "LayoutView",
            "align_content": null,
            "align_items": null,
            "align_self": null,
            "border": null,
            "bottom": null,
            "display": null,
            "flex": null,
            "flex_flow": null,
            "grid_area": null,
            "grid_auto_columns": null,
            "grid_auto_flow": null,
            "grid_auto_rows": null,
            "grid_column": null,
            "grid_gap": null,
            "grid_row": null,
            "grid_template_areas": null,
            "grid_template_columns": null,
            "grid_template_rows": null,
            "height": null,
            "justify_content": null,
            "justify_items": null,
            "left": null,
            "margin": null,
            "max_height": null,
            "max_width": null,
            "min_height": null,
            "min_width": null,
            "object_fit": null,
            "object_position": null,
            "order": null,
            "overflow": null,
            "overflow_x": null,
            "overflow_y": null,
            "padding": null,
            "right": null,
            "top": null,
            "visibility": null,
            "width": null
          }
        },
        "04635103f6a34ff3af89907f0b8d22c1": {
          "model_module": "@jupyter-widgets/controls",
          "model_name": "DescriptionStyleModel",
          "model_module_version": "1.5.0",
          "state": {
            "_model_module": "@jupyter-widgets/controls",
            "_model_module_version": "1.5.0",
            "_model_name": "DescriptionStyleModel",
            "_view_count": null,
            "_view_module": "@jupyter-widgets/base",
            "_view_module_version": "1.2.0",
            "_view_name": "StyleView",
            "description_width": ""
          }
        },
        "87df4127f50a45fa8cb933e7b786d3cb": {
          "model_module": "@jupyter-widgets/base",
          "model_name": "LayoutModel",
          "model_module_version": "1.2.0",
          "state": {
            "_model_module": "@jupyter-widgets/base",
            "_model_module_version": "1.2.0",
            "_model_name": "LayoutModel",
            "_view_count": null,
            "_view_module": "@jupyter-widgets/base",
            "_view_module_version": "1.2.0",
            "_view_name": "LayoutView",
            "align_content": null,
            "align_items": null,
            "align_self": null,
            "border": null,
            "bottom": null,
            "display": null,
            "flex": null,
            "flex_flow": null,
            "grid_area": null,
            "grid_auto_columns": null,
            "grid_auto_flow": null,
            "grid_auto_rows": null,
            "grid_column": null,
            "grid_gap": null,
            "grid_row": null,
            "grid_template_areas": null,
            "grid_template_columns": null,
            "grid_template_rows": null,
            "height": null,
            "justify_content": null,
            "justify_items": null,
            "left": null,
            "margin": null,
            "max_height": null,
            "max_width": null,
            "min_height": null,
            "min_width": null,
            "object_fit": null,
            "object_position": null,
            "order": null,
            "overflow": null,
            "overflow_x": null,
            "overflow_y": null,
            "padding": null,
            "right": null,
            "top": null,
            "visibility": null,
            "width": null
          }
        },
        "9487ff719a344b9c84dc452e2d8a3301": {
          "model_module": "@jupyter-widgets/controls",
          "model_name": "ProgressStyleModel",
          "model_module_version": "1.5.0",
          "state": {
            "_model_module": "@jupyter-widgets/controls",
            "_model_module_version": "1.5.0",
            "_model_name": "ProgressStyleModel",
            "_view_count": null,
            "_view_module": "@jupyter-widgets/base",
            "_view_module_version": "1.2.0",
            "_view_name": "StyleView",
            "bar_color": null,
            "description_width": ""
          }
        },
        "f4f54b3140194db39a445c85b4f9a9bf": {
          "model_module": "@jupyter-widgets/base",
          "model_name": "LayoutModel",
          "model_module_version": "1.2.0",
          "state": {
            "_model_module": "@jupyter-widgets/base",
            "_model_module_version": "1.2.0",
            "_model_name": "LayoutModel",
            "_view_count": null,
            "_view_module": "@jupyter-widgets/base",
            "_view_module_version": "1.2.0",
            "_view_name": "LayoutView",
            "align_content": null,
            "align_items": null,
            "align_self": null,
            "border": null,
            "bottom": null,
            "display": null,
            "flex": null,
            "flex_flow": null,
            "grid_area": null,
            "grid_auto_columns": null,
            "grid_auto_flow": null,
            "grid_auto_rows": null,
            "grid_column": null,
            "grid_gap": null,
            "grid_row": null,
            "grid_template_areas": null,
            "grid_template_columns": null,
            "grid_template_rows": null,
            "height": null,
            "justify_content": null,
            "justify_items": null,
            "left": null,
            "margin": null,
            "max_height": null,
            "max_width": null,
            "min_height": null,
            "min_width": null,
            "object_fit": null,
            "object_position": null,
            "order": null,
            "overflow": null,
            "overflow_x": null,
            "overflow_y": null,
            "padding": null,
            "right": null,
            "top": null,
            "visibility": null,
            "width": null
          }
        },
        "ec61f8ab15ef49479136b7ac0c1b13ec": {
          "model_module": "@jupyter-widgets/controls",
          "model_name": "DescriptionStyleModel",
          "model_module_version": "1.5.0",
          "state": {
            "_model_module": "@jupyter-widgets/controls",
            "_model_module_version": "1.5.0",
            "_model_name": "DescriptionStyleModel",
            "_view_count": null,
            "_view_module": "@jupyter-widgets/base",
            "_view_module_version": "1.2.0",
            "_view_name": "StyleView",
            "description_width": ""
          }
        },
        "2fdd94adbc034c6eb0fd6e9af83c63a6": {
          "model_module": "@jupyter-widgets/controls",
          "model_name": "TabModel",
          "model_module_version": "1.5.0",
          "state": {
            "_dom_classes": [],
            "_model_module": "@jupyter-widgets/controls",
            "_model_module_version": "1.5.0",
            "_model_name": "TabModel",
            "_titles": {
              "0": "Youtube",
              "1": "Bilibili"
            },
            "_view_count": null,
            "_view_module": "@jupyter-widgets/controls",
            "_view_module_version": "1.5.0",
            "_view_name": "TabView",
            "box_style": "",
            "children": [
              "IPY_MODEL_b559b236039e4696923aa145b3ca8935",
              "IPY_MODEL_121ef70f5e024dd0b48f98b9307b22d1"
            ],
            "layout": "IPY_MODEL_7e6707e95195487ebf12e257c0d81ada",
            "selected_index": 0
          }
        },
        "b559b236039e4696923aa145b3ca8935": {
          "model_module": "@jupyter-widgets/output",
          "model_name": "OutputModel",
          "model_module_version": "1.0.0",
          "state": {
            "_dom_classes": [],
            "_model_module": "@jupyter-widgets/output",
            "_model_module_version": "1.0.0",
            "_model_name": "OutputModel",
            "_view_count": null,
            "_view_module": "@jupyter-widgets/output",
            "_view_module_version": "1.0.0",
            "_view_name": "OutputView",
            "layout": "IPY_MODEL_c31e2b71eb3e4463b6d931987a3debbb",
            "msg_id": "",
            "outputs": [
              {
                "output_type": "stream",
                "name": "stdout",
                "text": [
                  "Video available at https://youtube.com/watch?v=UnuSQeT8GqQ\n"
                ]
              },
              {
                "output_type": "display_data",
                "data": {
                  "text/plain": "<IPython.lib.display.YouTubeVideo at 0x7e4707e50550>",
                  "text/html": "\n        <iframe\n            width=\"854\"\n            height=\"480\"\n            src=\"https://www.youtube.com/embed/UnuSQeT8GqQ?fs=1&rel=0\"\n            frameborder=\"0\"\n            allowfullscreen\n            \n        ></iframe>\n        ",
                  "image/jpeg": "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\n"
                },
                "metadata": {}
              }
            ]
          }
        },
        "121ef70f5e024dd0b48f98b9307b22d1": {
          "model_module": "@jupyter-widgets/output",
          "model_name": "OutputModel",
          "model_module_version": "1.0.0",
          "state": {
            "_dom_classes": [],
            "_model_module": "@jupyter-widgets/output",
            "_model_module_version": "1.0.0",
            "_model_name": "OutputModel",
            "_view_count": null,
            "_view_module": "@jupyter-widgets/output",
            "_view_module_version": "1.0.0",
            "_view_name": "OutputView",
            "layout": "IPY_MODEL_5e4d9c14cecd428282d5c4a0fe5be537",
            "msg_id": "",
            "outputs": [
              {
                "output_type": "stream",
                "name": "stdout",
                "text": [
                  "Video available at https://www.bilibili.com/video/BV1hf4y1j7XE\n"
                ]
              },
              {
                "output_type": "display_data",
                "data": {
                  "text/plain": "<__main__.PlayVideo at 0x7e48942287d0>",
                  "text/html": "\n        <iframe\n            width=\"854\"\n            height=\"480\"\n            src=\"https://player.bilibili.com/player.html?bvid=BV1hf4y1j7XE&page=1?fs=1&autoplay=False\"\n            frameborder=\"0\"\n            allowfullscreen\n            \n        ></iframe>\n        "
                },
                "metadata": {}
              }
            ]
          }
        },
        "7e6707e95195487ebf12e257c0d81ada": {
          "model_module": "@jupyter-widgets/base",
          "model_name": "LayoutModel",
          "model_module_version": "1.2.0",
          "state": {
            "_model_module": "@jupyter-widgets/base",
            "_model_module_version": "1.2.0",
            "_model_name": "LayoutModel",
            "_view_count": null,
            "_view_module": "@jupyter-widgets/base",
            "_view_module_version": "1.2.0",
            "_view_name": "LayoutView",
            "align_content": null,
            "align_items": null,
            "align_self": null,
            "border": null,
            "bottom": null,
            "display": null,
            "flex": null,
            "flex_flow": null,
            "grid_area": null,
            "grid_auto_columns": null,
            "grid_auto_flow": null,
            "grid_auto_rows": null,
            "grid_column": null,
            "grid_gap": null,
            "grid_row": null,
            "grid_template_areas": null,
            "grid_template_columns": null,
            "grid_template_rows": null,
            "height": null,
            "justify_content": null,
            "justify_items": null,
            "left": null,
            "margin": null,
            "max_height": null,
            "max_width": null,
            "min_height": null,
            "min_width": null,
            "object_fit": null,
            "object_position": null,
            "order": null,
            "overflow": null,
            "overflow_x": null,
            "overflow_y": null,
            "padding": null,
            "right": null,
            "top": null,
            "visibility": null,
            "width": null
          }
        },
        "c31e2b71eb3e4463b6d931987a3debbb": {
          "model_module": "@jupyter-widgets/base",
          "model_name": "LayoutModel",
          "model_module_version": "1.2.0",
          "state": {
            "_model_module": "@jupyter-widgets/base",
            "_model_module_version": "1.2.0",
            "_model_name": "LayoutModel",
            "_view_count": null,
            "_view_module": "@jupyter-widgets/base",
            "_view_module_version": "1.2.0",
            "_view_name": "LayoutView",
            "align_content": null,
            "align_items": null,
            "align_self": null,
            "border": null,
            "bottom": null,
            "display": null,
            "flex": null,
            "flex_flow": null,
            "grid_area": null,
            "grid_auto_columns": null,
            "grid_auto_flow": null,
            "grid_auto_rows": null,
            "grid_column": null,
            "grid_gap": null,
            "grid_row": null,
            "grid_template_areas": null,
            "grid_template_columns": null,
            "grid_template_rows": null,
            "height": null,
            "justify_content": null,
            "justify_items": null,
            "left": null,
            "margin": null,
            "max_height": null,
            "max_width": null,
            "min_height": null,
            "min_width": null,
            "object_fit": null,
            "object_position": null,
            "order": null,
            "overflow": null,
            "overflow_x": null,
            "overflow_y": null,
            "padding": null,
            "right": null,
            "top": null,
            "visibility": null,
            "width": null
          }
        },
        "5e4d9c14cecd428282d5c4a0fe5be537": {
          "model_module": "@jupyter-widgets/base",
          "model_name": "LayoutModel",
          "model_module_version": "1.2.0",
          "state": {
            "_model_module": "@jupyter-widgets/base",
            "_model_module_version": "1.2.0",
            "_model_name": "LayoutModel",
            "_view_count": null,
            "_view_module": "@jupyter-widgets/base",
            "_view_module_version": "1.2.0",
            "_view_name": "LayoutView",
            "align_content": null,
            "align_items": null,
            "align_self": null,
            "border": null,
            "bottom": null,
            "display": null,
            "flex": null,
            "flex_flow": null,
            "grid_area": null,
            "grid_auto_columns": null,
            "grid_auto_flow": null,
            "grid_auto_rows": null,
            "grid_column": null,
            "grid_gap": null,
            "grid_row": null,
            "grid_template_areas": null,
            "grid_template_columns": null,
            "grid_template_rows": null,
            "height": null,
            "justify_content": null,
            "justify_items": null,
            "left": null,
            "margin": null,
            "max_height": null,
            "max_width": null,
            "min_height": null,
            "min_width": null,
            "object_fit": null,
            "object_position": null,
            "order": null,
            "overflow": null,
            "overflow_x": null,
            "overflow_y": null,
            "padding": null,
            "right": null,
            "top": null,
            "visibility": null,
            "width": null
          }
        },
        "1ddcb270df98451b92a7a7c7d9a680f7": {
          "model_module": "@jupyter-widgets/controls",
          "model_name": "TabModel",
          "model_module_version": "1.5.0",
          "state": {
            "_dom_classes": [],
            "_model_module": "@jupyter-widgets/controls",
            "_model_module_version": "1.5.0",
            "_model_name": "TabModel",
            "_titles": {
              "0": "Youtube",
              "1": "Bilibili"
            },
            "_view_count": null,
            "_view_module": "@jupyter-widgets/controls",
            "_view_module_version": "1.5.0",
            "_view_name": "TabView",
            "box_style": "",
            "children": [
              "IPY_MODEL_bfbfebe0e8384d2787c0299b7206a291",
              "IPY_MODEL_2759adfe845f41fdb35f1a9a8e2fab4c"
            ],
            "layout": "IPY_MODEL_5fe93a8bf2644665b8ea28c1c3876dc3",
            "selected_index": 0
          }
        },
        "bfbfebe0e8384d2787c0299b7206a291": {
          "model_module": "@jupyter-widgets/output",
          "model_name": "OutputModel",
          "model_module_version": "1.0.0",
          "state": {
            "_dom_classes": [],
            "_model_module": "@jupyter-widgets/output",
            "_model_module_version": "1.0.0",
            "_model_name": "OutputModel",
            "_view_count": null,
            "_view_module": "@jupyter-widgets/output",
            "_view_module_version": "1.0.0",
            "_view_name": "OutputView",
            "layout": "IPY_MODEL_cc8e76ed3d8e4a8bb89fae8391a8ae4c",
            "msg_id": "",
            "outputs": [
              {
                "output_type": "stream",
                "name": "stdout",
                "text": [
                  "Video available at https://youtube.com/watch?v=gDNRnjcoMOY\n"
                ]
              },
              {
                "output_type": "display_data",
                "data": {
                  "text/plain": "<IPython.lib.display.YouTubeVideo at 0x7e4707e2eed0>",
                  "text/html": "\n        <iframe\n            width=\"854\"\n            height=\"480\"\n            src=\"https://www.youtube.com/embed/gDNRnjcoMOY?fs=1&rel=0\"\n            frameborder=\"0\"\n            allowfullscreen\n            \n        ></iframe>\n        ",
                  "image/jpeg": "/9j/4AAQSkZJRgABAQAAAQABAAD/2wCEABALDBoYFhwaGRobHRwfIikmIiIhIDgfLSUmLikyMDEoLS41PVBCNThSOS4wRWFFS1NWW11bMkVlbWRYcFBZW1cBERISGRYZMBsbMFc3NT1fV1dXV1dXV1dXV1dXXV9XV11XV1dXV11XXVdXV1dXV1dXV11XXVdXXVdXV1ddV1dcXf/AABEIAWgB4AMBIgACEQEDEQH/xAAbAAEAAgMBAQAAAAAAAAAAAAAABAUBAwYCB//EAEQQAAIBAgIFCAcFBgYDAQEAAAABAgMRBBIFITFR0hMUFkFUYZKjFyIyU3GRsQZCgaHBFSNictHhJDNSc7LwQ2OiBzT/xAAZAQEAAwEBAAAAAAAAAAAAAAAAAQIDBAX/xAAgEQEBAAICAgMBAQAAAAAAAAAAAQIRAzESQSEyURMU/9oADAMBAAIRAxEAPwD5+AAAAAAAAAAAAAAAAAAAAAAAAAAAAAAAAAAAAAAAAAAAAAAAAAAAAAAAAAAAAAAAAAAAAAAAAAAAAAAAAAAAAAAAAAAAAAAAAAAAAAAAAAAAAAAAAAAAAAAAAAAAAAAAAAAAAAAAAAAAAAAAAAAAAAAAAAAAAAAAADr/AEcY33uG8cuAejjG+9w3jlwAcgDr/Rxjfe4bxy4B6OMb73DeOXAByAOv9HGN97hvHLgHo4xvvcN45cAHIA6/0cY33uG8cuAejjG+9w3jlwAcgDr/AEcY33uG8cuAejjG+9w3jlwAcgDr/Rxjfe4bxy4B6OMb73DeOXAByAOv9HGN97hvHLgHo4xvvcN45cAHIA6/0cY33uG8cuAejjG+9w3jlwAcgDr/AEcY33uG8cuAejjG+9w3jlwAcgDr/Rxjfe4bxy4B6OMb73DeOXAByAOv9HGN97hvHLgHo4xvvcN45cAHIA6/0cY33uG8cuAejjG+9w3jlwAcgDr/AEcY33uG8cuAejjG+9w3jlwAcgDr/Rxjfe4bxy4B6OMb73DeOXAByAOv9HGN97hvHLgHo4xvvcN45cAHIA6/0cY33uG8cuAejjG+9w3jlwAcgDr/AEcY33uG8cuAejjG+9w3jlwAcgDr/Rxjfe4bxy4B6OMb73DeOXAByAOv9HGN97hvHLgHo4xvvcN45cAHIA6/0cY33uG8cuAejjG+9w3jlwAcgDr/AEcY33uG8cuAejjG+9w3jlwAcgDr/Rxjfe4bxy4B6OMb73DeOXAByAOv9HGN97hvHLgHo4xvvcN45cAHIA6/0cY33uG8cuAS/wDzrGJN8rhtX8UuADkASI4OTSd1rNy0VUfXD5v+gRuIIJdXR04NJuOu9te78DdV0NVhlzZVnSlHVJ3T2dQSrgT/ANk1N8flLhNuH0DUqSceUpRsm3KbcUrd9gKsE/FaNjS1PE0JPdDPL88lvzIkKSf34r43/oBrBIWFu7KcX+EuE30tE1J3ytO23VL+gEAF5R+yuImr5qS7m3/QYj7K4inTnUlOi1CLk7Sd7JX1eqTo2+xgAgAYAGQDAGQYMgAYAGQAABgAZAAAAAAAABgAZAAAGDIAAAAAAAAAAAAAAAAAAAAAAAAAAADxV9mXwf0PZ4q+zL4P6AfGqPsx+CLGCK6l7K+CJ8JetbuT+paM03G0qMcM7yjyj1q7V/giXOcnWw9NStF0FbVdZlFWf5nM4+k6mJ1aslPM/hG50F3HE4VPaqT/ACiLVpGMbjK0MzjKKim/up7FfWQnUq6RqS5JSjT1JJydlZbX39xnT1RqhNLU5zS/Cx1f2fwMcPhoRtrteXxeszuVbY4S1z1P7I9dWpKTNGkfszFRvS2redvOKexpkLEpLa0U3XR/PHTgNE4e9Z0pzdOpFeq8ub8Npb6L0hKSyyV7qzfepLX/AGI/2joqFelUj13TZ40IlnWv/uaJrK5bjq2OopHjS/8A/JX/ANqf/FmyDNGln/ha/wDty+jNWTuAAZLoOma9Wnha06Ec1SMG4q2bXvt177FXoipCrOEqGkqlVrXUp1Mruuv1bJwZd4x1VTk6KhKovZU20nr1q62aiixWHrYurQk8HzedOpGcq0pxbyp64xyu7vs12AsaumEpTVOhWqxpO1ScErJrW0rtOTXcaamkXLFUHScqlKeHq1FGNvXacMtr9et/MhLRs6NSqub1q0Z1JThKliOTSzO7jOLkrWd9avcnYfR0qeIwso01CnToVINKWZRlJwaim9b2PX3Aa/szWq1qcq1V1rylLVNxyWzu2RLWrJW1k7GaQlTllhh61ZqOZuCSSWvVeTSb1bERNH6IvhKVOupxlBzdoVZQ9qcnrcGr6mjRidHyWKcp4eeIp5IRpNVF+6cb3vmkmm9TzK7A9YvTsr4SVClOdOvJ31JN+rJ5Fdq0k1f8GbcFpapLE4mFSnKFOlZqUsqUVlu81nfXtXduIVLAYilhsE+Rc50KspTpxmr2cZrU20n7S6yTVwVWdbF05U5KniqcUqiatBqm4tNXve+5ASKWnIvJKVGtClUaUKsklFuXs3V7xT6rrrMVtN2nWhTw9eq6MrTyqKXsqV021fU9m0r8No6UlTpVsJVbTjnm8U3S9Vp5orNd7LpOKLPA4WcKmMco2VWrmhrWtclCN+7WmBGrabk6+EVGlOdKvByulH1lZNWu9Vr3fx6zbDSkaUMROpOpNRrunGOVXu7WhBLbt6yHRwdejT0dJUXUlQpuFSEZRTTlBK927NXR7q6LrONSUYrPDGcvTjJ2U1lta/VdN/iBPwullOryVSlVoVHFyjGpZ5orbZxbV1fYRo/aOLhCryFdUZSUXUaSUW5Zdavdq/WkIU6+JxNGrUouhToKbSnKMpTnKOX7raUUm+s1fs6t+y40Mv71ZbxuuqqpPXs2AXOKrqlSnUkm1CMpNLbZK+orF9oFmpp4fEJVVek8q9d2vlte61b7E7StGVTDV4QV5TpTjFbLtxaRFng6jngXl1Ur59a1XpOP46wPeH0up06suSqxnSlknSyqU82pq1m07prXc809MNynTlh60Kqg5xg8rc4rV6rUrXu1qbIOL0biGsbkX+bWpzSU8rqU4xgpxT6r5Wj3o/ANYuFWGGlh6SozjllKL9Zyi/Zi2lsezaBnAaefM6VavSqZpzUFlinncr2cUne3VvJEcfN116tZPm7nyDUdqnbbf2u69iDg8FX5thqMqLi6FeDbcotSinK8lZ7Na26ywxFKpHFuvGm5pYdxSTSbnnTUdb/MD1Q01SqyoxpZpusnKy+5GOpue6z9W225p+0uMqUaEVSjUvUqQhmha8VKaTSv1u9l3kfRujK2GrKtaM3iHfEpWWSetqUN8VezW17SfpvDTq0oRgrtV6Mnrt6sakW3r7kBojpLkrUIU8TiKsYqc1eLlBSu0pSbSv3dx7lp6iqNOqo1JKdTk8qjeUZ67xcd91Y1VIV8Niq9WnQlXp18jtCUYyhOMcuvM0srSXXvNFLRddRpSlGOeWL5epGLuoJxasn12VgJtTTLU40+b13VlT5TIst0r2s3eyf4mmH2jhKEKnI11SlJQlNxSUJuWXK1e79bVdXRKWHnz51bepyChe/3s97W+BW/syt+zuRyfvOcZ7XXs865S9/5dYHRAAAAAAAAAAAAAAAAAAAAAAAAHip7L+DPZ4qezL4P6AfGqfsr4FhTj+8X8i+pX0diLrC007PrtY0k2yt0gVY/4iout4eRaycnVo1Mjywg4vXtvGyaKuvK+LrL/TQkvo/1OpoK+Hpfyr6sjW6tLqKavo6pilZWjlqKd2/u/wBTp6tOaTSknq2y321alYqZ/aTDU2oONre1ZbjooOM4K6Turoxymq6+KyxV4OFZR1ys+vVdbNz77EN1arWp+tfW3dauuyRdq8U1k1PdZFfRh60m1q7ykbWKfS2DnVhTezLO8lt1WevWVmjU6bT1SS1PK++5f6ZqqNNxzKDldJvq1a3+ZWaBpQjGpGLUrTir7/UbuaYyufkslXVCWaKevXvNWll/ha/+3L6EqjE16Yp/4Ov/ALU/+LN5Phy2/LsgAZNGAZAGAZAGAZAGAZAGAZAGAZAGAZAGAZAAwZAGAZAGDIAGAZAGAZAAAAAAAAAAwABhzS2tIyUWLdONSs69Nzk2uT1fdt919TLPRTlzenmd3b8ur8isy3dNcuPxx8ksGAWZMgAAAAAAAHip7Mvg/oezxV9mXwf0A+M05WV2Soacp01bLKTS+CKarWcnuVjXkLeWulPCXtvWOly06nXPMmu6XV/3cdxhNIQhg8PKo7OVO9vhJnAKGtWOkxLtRo05yTdODjZPYr3ea3eRLYtqXvpS6QssRVS2Z3b5n0bQWL5XC0m9UlFKS600v+s4fnDhJTlBNSu05Kyl1O34l99kauZVbv1syf4WK8nTXhusl1iZ1k9dRKN9Vo9Xfd7TTQlLXmd11f3J8sRC1pqzIGJrJ+wZOy2aUP2hxNOVVRvmdNNWWq7e3X+BF+zs81aT6rfoyVHGRoYqbnGnlcXJxlHVJ7lubuZwdWk8RKrRhJKV3kS1L4WN56eflbux1FCA0zT/AMDif9mf/Fm7Da0muuzM6bj/AIDE/wCzP/izb0wvboAAYNwAAAAAAAAAAAAAAAAAAAAAAAAAAAAAAAAAAAAAAAAjY+vKnTco2vdLWrrWySQdMO1B/wA0fqiKthN5RC/alb/1+F/1PMNLVmv/AB7WvZfU7f6iFyi7/CzzSmrPb7Uup72Z7rs/nNdJ0tK1rpfu9f8AC93xPa0nW/8AX4XxFdOos0du19T3M98ou/wsbp/OfiZT0tWcU/3ev+F8RM0fjalSbjPLbLfUmutd/eUlGosq27NzLHQ0r1Xt9h9VutEy3anJhJL8LsAGjkAAAAAA8yjdNb1Y9ADk/R7gf9VfxrhPUP8A8/wUXdSr+NcJ1QA5il9hMFBtp1rvrzrV8NRiX2Ewb2yr+NcJ1AA5dfYPB6vWru3U6if6EnBfZHDUKnKU5Vk9erOmvhsL8Al0gT0RSltz/P8AsaloGjvn8/7FoCNRbzy/XPYz7GYStJynyuZ21qdrW6lqNVP7D4WFnGpiI22WqJfodMCVe1dg9DwoqyqVZL+OSlb8jditHwq0p0pZss4uLs9dmraiWCd1HjAAEJAAAAAAAAAAAAAAAAAAAAAAAAAAAAAAAAAAAAAAAACDpf8AyX/NH6onEHTC/cP+aP1RF6Xw+0Ux4pbH/NL/AJMzya7/ABM8UoKz2+1Lrf8AqZk7fT1P2o/F/Rns1Tgs0du19b3M98mt8vEwfDFD2I/AsdEf5r/kf1RWUYLItuzeyx0MrVnt9h9d+tE49qcnVXYMGTVxAAAAAAAAAAAAAAAAAAAAAAAAAAAAAAAAAAAAAAAAAAAAAAAAAAAAAAAAAAAAAAAAAAAEHTH+Q/5o/VE4g6X/AMl/zR+pF6Xw+0UmZ/6fzPFJuz1fel1/xM2ZlvR4pSVnrXtS/wCTMnd6Ym3mj6vW+vuZ7zP/AE/meZyWaOtbX9Ge8y3oDXRbyr1ereb8PhJVppKTpyh60ZJ69trfmaaLWSOtbCx0O/3r/kf1ROPanL1VvSnmin879T60z0aanqSz/dftfpL+v9iLjsbOnKUYpN2jKC3pXc18o/mjVwrAyR8HWdSMpasrk1C3+lar/NMkAAABoeKirrXdO1utm4iyoTc+U1Zk9S6rEozwuVt2tdemQAaKgAAAAAAAAAAAAAAAAAAAAAAAAAAAAAAAAAAAAAAAAAAAAAAAAAAAAAAABB0v/kP+aP1RONGLw/KwcL21p3tfY7kVbG6ylc9lW5fI8Uoqz1L2pdX8TLb9jv3n/wA/3MR0Lb/ydbfs73feU8a6v64/qqnFZo6ltfV3M95VuXyLJ6Fu0+U2fw93xPX7H/8AZ/8AP9yPGn9cf1T0YrItS2biy0Okqr/kf1RshoWyS5TZ/D/ck4PAclJyz5rq2y3X8e4mY3aufJjZdVMauR4UoqaUkm4p5JPble1fT8iSa61PMtWqS1xe5mjlaVCUHCNOKVNWVkti1/2/MxXXrv8AAkUqmZX2PY1ue4j1753+Bjz/AFXw7apxVti2r6mcq3IxK/dtX1M6+442rEYrXqW0SitWpbf0Eb69m0Svq2bf0I9DOVbkS6HsIia+4l0PYR0cH2Uz6bDxVk1FtbT2eKjSi82zrOq9MorcPplTrzoqDvFvW3udv1JyxGu2X4/O36CEad3JRim9rypXs+t/E2Wjdao32op8/rTK42/E09gA0ZgAAAAAAAAAAAAAAAAAAAAAAAAAAAAAAAAAAAAAAAAAAAAAAAAAAAAAAAAAAGDIA0VfUefq+/8AD/V+H0+BrrP13+BKIThlbV9S2dy3GPP9V8O3mb+q6u8zm+PyE9n4r6mTjavMZbdu3cJS2bdu7uMx6/iJdXx/RkegzfH5Euh7CIxjFSqLD3pL1vzS62l1s6OD7KZ9Jp5qRzRa3nN4atilBcm6jhrtaCl172tesu8LKo6EXUvn67qz9rd8DqvTJseH7+u/5t/qZhQs01bVt7zxGck9jt+uvUbKE5O9/wChlPG3pb5bgAbKgAAAAAAAAAAAAAAAAAAAAAAAAAAAAAAAAAAAAAAAAAAAAAAAAAAAAAAAAAAAAARK69d/gSyJXvnf4GPP9V8O2qcfjtXX3mcvx+ZiTe7rXX3mbvd+ZxNWIx27du8Sjs27d/cIt69XXvEr6tXXv7h6Gcvx+ZLoewiJd7vzJdD2EdHB9lM+ntK2wSlZXMnmcbqzOqsnjl49/wAu+xtNSorv1/1ubCMd+01kGAWQyAAAAAAAAAAAAAAAAAAAAAAAAAAAAAAAAAAAAAAAAAAAAAAAAAAAAAAAAAAAAAESt7b/AAJZ5cU9qRTkw8ppON0hTf1X1M3JmRbl8hkW5fIw/hf1fzQYvb8RJ7Pj+jJ2Rbl8hkW5fIf57+nmh3JVD2Eesi3L5GUjTj4/G7Rlltk8VU8rtt+R7BrflRGVOduvY7a+/wDoZdOV9V+vXfqtq1fEkAp/OJ20UozveWzbt631fh+puMgvjNFAASgAAAAAAAAAAAAAAAAAAAAAAAAAAAAAAAAAAAAAAAAAAAAAAAAAAAAAAAAAAAAAAAAAAAAAAAAAAAAAAAAAAAAAAAAAAAAAAAAAAAAAAAAAAAAAAAAAAAAAAAAAAAAAAAAAAAAAAAAAAAAAAAAAAAAAAAAAAAAAAAAAAAEbna3Mc7W5gSQRudrcxztbmBJBG52tzHO1uYEkEbna3Mc7W5gSQRudrcxztbmBJBG52tzHO1uYEkEbna3Mc7W5gSQRudrcxztbmBJBG52tzHO1uYEkEbna3Mc7W5gSQRudrcxztbmBJBG52tzHO1uYEkEbna3Mc7W5gSQRudrcxztbmBJBG52tzPNTHxim5akutuwEsFXW03ThHM4yS12zLInJWWW8ra3fVvJNPHwkrx9ZXaumnrWpoCWCNztbmOdrcwJII3O1uY52tzAkgjc7W5jna3MCSCNztbmOdrcwJII3O1uY52tzAkgjc7W5jna3MCSCNztbmOdrcwJII3O1uY52tzAkgjc7W5jna3MCSCNztbmOdrcwJII3O1uY52tzAkgjc7W5jna3MCSCNztbmOdrcwJII3O1uY52tzAilRiNNZKk6fJt5K1Onms8tpqLbb2JrNs7i75F9xreBi73jDXJSerbJWtJ96svkBVR05CeGqV6cJ2hl1SVsylazVm+p/E1S+0VOM5xlTq6p5UlH1sqhGTk4uz++tSu3uLiGjqcYuMadNRk7tKKSb3tfghU0bTk7yp0282a7im81kr/ABskvwA1qtLlnT5OWXLm5TVlve2XffrKel9pVOc4xp57VIxioTV3FzcMzu9WtbP4kdFyL7iO9FUmop0qTUVaKyLUrp2WrVrS+QFVS+0VN5VKlVjJxcmlaSirytd368r/AFseav2g25aFRNRm3nyrK4xhJXSk7pqa2FutFUr35KlfX9xfevfq67v5iei6UvapUn164p/dUfokvggK96cheypVpNytBJR9fXJXV5aleL22PdbTVKFOjUam41kpRsldRdvWkm9nrLZcnR0ZTjJyVOmpSeZtRSbkr627bdb+YloynJRi6dNqCtFOKtFblu2L5AVj0/C7SpVszdoK0fX9vWvW1L93LbbYZqaRrcnhpwhS/f5U1KTWVyi5arLWtRY1NF0pK0qVKS1anFNam2ure2/xNnMo2issLQtlVvZsrK27UBTx+0dK0G6dVZ4Z1dR2ZZSV7S1XUXY9/t6F4xdKspSbjZqKs0otJvNbWpKxYPRNF2/dUvVjlXqLVFJqy1bLN/M9PRlNyUnTpuSd08qunqW23cvkgKbD/aSDpKdSnOLcbvLZpNwdRQ23vkV72t8DdLT0FNxdGunHa7QstUW/v9SnH9Llj+yaN0+SpXUMieRexa2XZst1HuWj4NtuFNt3v6u26Sd/CvkgKylp2nOSjCnWk3PIvVST9r1k29nqvv7i1PMNHU4yzRp01K+a6ik769fx1v5s3ci+4DWDZyL7hyL7gNYNnIvuHIvuA1g2ci+4ci+4DWDZyL7hyL7gNYNnIvuHIvuA1kDH3c4LNKLteDirvM5RV7Pcn8myz5F9xX4/Qqrzg5NvJJzV5P1ZJWVo7Gut3/UCDi6UKzUMRCKT2OUs2fIpNuOv1dVnf4otsPJunByVpOKbXfbWeY6M2KUk4rZBRUYr5K9r9VyVyL7gNYNnIvuHIvuA1g2ci+4ci+4DWDZyL7hyL7gNYNnIvuHIvuA1g2ci+4ci+4DWDZyL7hyL7gNYNnIvuHIvuA1g2ci+4ci+4DWDZyL7hyL7gNYNnIvuHIvuA1g2ci+4ci+4DWDZyL7hyL7gNZoxkpKneDs1KPVfVmSaJfIvuHIvuArcBXlOTUpX9VNq1skru8Py/wC3Jxs5F70ORfcBvAAAAAAAAAAAAAAAAAAAAAAAAAAAAAAAAAAAAAAAAAAAAAAAAAAAAAAAAAAAAAAAAAAAAAAAAAAAAAAAABQ9M9Hdo8ufCOmeju0eXPhAvgUPTPR3aPLnwjpno7tHlz4QL4FD0z0d2jy58I6Z6O7R5c+EC+BQ9M9Hdo8ufCOmeju0eXPhAvgUPTPR3aPLnwjpno7tHlz4QL4FD0z0d2jy58I6Z6O7R5c+EC+BQ9M9Hdo8ufCOmeju0eXPhAvgUPTPR3aPLnwjpno7tHlz4QL4FD0z0d2jy58I6Z6O7R5c+EC+BQ9M9Hdo8ufCOmeju0eXPhAvgUPTPR3aPLnwjpno7tHlz4QL4FD0z0d2jy58I6Z6O7R5c+EC+BQ9M9Hdo8ufCOmeju0eXPhAvgUPTPR3aPLnwjpno7tHlz4QL4FD0z0d2jy58I6Z6O7R5c+EC+BQ9M9Hdo8ufCOmeju0eXPhAvgUPTPR3aPLnwjpno7tHlz4QL4FD0z0d2jy58I6Z6O7R5c+EC+BQ9M9Hdo8ufCOmeju0eXPhAvgUPTPR3aPLnwjpno7tHlz4QL4FD0z0d2jy58I6Z6O7R5c+EC+BQ9M9Hdo8ufCOmeju0eXPhAvgUPTPR3aPLnwjpno7tHlz4QL4FD0z0d2jy58I6Z6O7R5c+EC+BQ9M9Hdo8ufCOmeju0eXPhAvgUPTPR3aPLnwjpno7tHlz4QL4FD0z0d2jy58I6Z6O7R5c+EC+BQ9M9Hdo8ufCOmeju0eXPhAvgUPTPR3aPLnwjpno7tHlz4QL4FD0z0d2jy58I6Z6O7R5c+ED5MAAAAAAAAAAAAAAAAAAAAAAAAAAAAAAAAAAAAAAAAAAAAAAAAAAAAAAAAAAAAAAAAAAAAAAAAAAAAAAAAAAAAAAAAAAAAAAAAAAAAAAAAAAAAAAAAAAAAAAAAAAAAAAAAAAAAAAAAAAAAAAAAAAAAAAAAAAAAAAAAAAAAAAAAAAAAAAAAAAAAAAAAAAAAAAAAAAAAAAAAAAAAAAAAAAAAAAAAAAAAAAAAAAAAAAAAAAAAAAAAAAAAAAAAAAAAAAAAAAAAAAAAAAAAAAAAAAAAAAAAAAAAAAAAAAAAAAAAAAAAAAAAAAAAAAAAAAAAAAAD/9k=\n"
                },
                "metadata": {}
              }
            ]
          }
        },
        "2759adfe845f41fdb35f1a9a8e2fab4c": {
          "model_module": "@jupyter-widgets/output",
          "model_name": "OutputModel",
          "model_module_version": "1.0.0",
          "state": {
            "_dom_classes": [],
            "_model_module": "@jupyter-widgets/output",
            "_model_module_version": "1.0.0",
            "_model_name": "OutputModel",
            "_view_count": null,
            "_view_module": "@jupyter-widgets/output",
            "_view_module_version": "1.0.0",
            "_view_name": "OutputView",
            "layout": "IPY_MODEL_747b92fa59ad4fc4ad53491f99ef86f9",
            "msg_id": "",
            "outputs": [
              {
                "output_type": "stream",
                "name": "stdout",
                "text": [
                  "Video available at https://www.bilibili.com/video/BV1Bf4y157LQ\n"
                ]
              },
              {
                "output_type": "display_data",
                "data": {
                  "text/plain": "<__main__.PlayVideo at 0x7e4709243690>",
                  "text/html": "\n        <iframe\n            width=\"854\"\n            height=\"480\"\n            src=\"https://player.bilibili.com/player.html?bvid=BV1Bf4y157LQ&page=1?fs=1&autoplay=False\"\n            frameborder=\"0\"\n            allowfullscreen\n            \n        ></iframe>\n        "
                },
                "metadata": {}
              }
            ]
          }
        },
        "5fe93a8bf2644665b8ea28c1c3876dc3": {
          "model_module": "@jupyter-widgets/base",
          "model_name": "LayoutModel",
          "model_module_version": "1.2.0",
          "state": {
            "_model_module": "@jupyter-widgets/base",
            "_model_module_version": "1.2.0",
            "_model_name": "LayoutModel",
            "_view_count": null,
            "_view_module": "@jupyter-widgets/base",
            "_view_module_version": "1.2.0",
            "_view_name": "LayoutView",
            "align_content": null,
            "align_items": null,
            "align_self": null,
            "border": null,
            "bottom": null,
            "display": null,
            "flex": null,
            "flex_flow": null,
            "grid_area": null,
            "grid_auto_columns": null,
            "grid_auto_flow": null,
            "grid_auto_rows": null,
            "grid_column": null,
            "grid_gap": null,
            "grid_row": null,
            "grid_template_areas": null,
            "grid_template_columns": null,
            "grid_template_rows": null,
            "height": null,
            "justify_content": null,
            "justify_items": null,
            "left": null,
            "margin": null,
            "max_height": null,
            "max_width": null,
            "min_height": null,
            "min_width": null,
            "object_fit": null,
            "object_position": null,
            "order": null,
            "overflow": null,
            "overflow_x": null,
            "overflow_y": null,
            "padding": null,
            "right": null,
            "top": null,
            "visibility": null,
            "width": null
          }
        },
        "cc8e76ed3d8e4a8bb89fae8391a8ae4c": {
          "model_module": "@jupyter-widgets/base",
          "model_name": "LayoutModel",
          "model_module_version": "1.2.0",
          "state": {
            "_model_module": "@jupyter-widgets/base",
            "_model_module_version": "1.2.0",
            "_model_name": "LayoutModel",
            "_view_count": null,
            "_view_module": "@jupyter-widgets/base",
            "_view_module_version": "1.2.0",
            "_view_name": "LayoutView",
            "align_content": null,
            "align_items": null,
            "align_self": null,
            "border": null,
            "bottom": null,
            "display": null,
            "flex": null,
            "flex_flow": null,
            "grid_area": null,
            "grid_auto_columns": null,
            "grid_auto_flow": null,
            "grid_auto_rows": null,
            "grid_column": null,
            "grid_gap": null,
            "grid_row": null,
            "grid_template_areas": null,
            "grid_template_columns": null,
            "grid_template_rows": null,
            "height": null,
            "justify_content": null,
            "justify_items": null,
            "left": null,
            "margin": null,
            "max_height": null,
            "max_width": null,
            "min_height": null,
            "min_width": null,
            "object_fit": null,
            "object_position": null,
            "order": null,
            "overflow": null,
            "overflow_x": null,
            "overflow_y": null,
            "padding": null,
            "right": null,
            "top": null,
            "visibility": null,
            "width": null
          }
        },
        "747b92fa59ad4fc4ad53491f99ef86f9": {
          "model_module": "@jupyter-widgets/base",
          "model_name": "LayoutModel",
          "model_module_version": "1.2.0",
          "state": {
            "_model_module": "@jupyter-widgets/base",
            "_model_module_version": "1.2.0",
            "_model_name": "LayoutModel",
            "_view_count": null,
            "_view_module": "@jupyter-widgets/base",
            "_view_module_version": "1.2.0",
            "_view_name": "LayoutView",
            "align_content": null,
            "align_items": null,
            "align_self": null,
            "border": null,
            "bottom": null,
            "display": null,
            "flex": null,
            "flex_flow": null,
            "grid_area": null,
            "grid_auto_columns": null,
            "grid_auto_flow": null,
            "grid_auto_rows": null,
            "grid_column": null,
            "grid_gap": null,
            "grid_row": null,
            "grid_template_areas": null,
            "grid_template_columns": null,
            "grid_template_rows": null,
            "height": null,
            "justify_content": null,
            "justify_items": null,
            "left": null,
            "margin": null,
            "max_height": null,
            "max_width": null,
            "min_height": null,
            "min_width": null,
            "object_fit": null,
            "object_position": null,
            "order": null,
            "overflow": null,
            "overflow_x": null,
            "overflow_y": null,
            "padding": null,
            "right": null,
            "top": null,
            "visibility": null,
            "width": null
          }
        },
        "bcc0aaefcbc5469daad916bfe2574722": {
          "model_module": "@jupyter-widgets/controls",
          "model_name": "TabModel",
          "model_module_version": "1.5.0",
          "state": {
            "_dom_classes": [],
            "_model_module": "@jupyter-widgets/controls",
            "_model_module_version": "1.5.0",
            "_model_name": "TabModel",
            "_titles": {
              "0": "Youtube",
              "1": "Bilibili"
            },
            "_view_count": null,
            "_view_module": "@jupyter-widgets/controls",
            "_view_module_version": "1.5.0",
            "_view_name": "TabView",
            "box_style": "",
            "children": [
              "IPY_MODEL_673c81cd5bcc4113a2ce4f7129623a48",
              "IPY_MODEL_0fcbbbe0605845a6ac256923908eee95"
            ],
            "layout": "IPY_MODEL_a8ef2db0eb8a444790735fa80ca6814a",
            "selected_index": 0
          }
        },
        "673c81cd5bcc4113a2ce4f7129623a48": {
          "model_module": "@jupyter-widgets/output",
          "model_name": "OutputModel",
          "model_module_version": "1.0.0",
          "state": {
            "_dom_classes": [],
            "_model_module": "@jupyter-widgets/output",
            "_model_module_version": "1.0.0",
            "_model_name": "OutputModel",
            "_view_count": null,
            "_view_module": "@jupyter-widgets/output",
            "_view_module_version": "1.0.0",
            "_view_name": "OutputView",
            "layout": "IPY_MODEL_d0913815e04c42d9ac4d7aaaff67e163",
            "msg_id": "",
            "outputs": [
              {
                "output_type": "stream",
                "name": "stdout",
                "text": [
                  "Video available at https://youtube.com/watch?v=zPlyKvBJLKk\n"
                ]
              },
              {
                "output_type": "display_data",
                "data": {
                  "text/plain": "<IPython.lib.display.YouTubeVideo at 0x7f46ead7e710>",
                  "text/html": "\n        <iframe\n            width=\"854\"\n            height=\"480\"\n            src=\"https://www.youtube.com/embed/zPlyKvBJLKk?fs=1&rel=0\"\n            frameborder=\"0\"\n            allowfullscreen\n            \n        ></iframe>\n        ",
                  "image/jpeg": "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\n"
                },
                "metadata": {}
              }
            ]
          }
        },
        "0fcbbbe0605845a6ac256923908eee95": {
          "model_module": "@jupyter-widgets/output",
          "model_name": "OutputModel",
          "model_module_version": "1.0.0",
          "state": {
            "_dom_classes": [],
            "_model_module": "@jupyter-widgets/output",
            "_model_module_version": "1.0.0",
            "_model_name": "OutputModel",
            "_view_count": null,
            "_view_module": "@jupyter-widgets/output",
            "_view_module_version": "1.0.0",
            "_view_name": "OutputView",
            "layout": "IPY_MODEL_d36f876025924126bf4f5f59b42ef877",
            "msg_id": "",
            "outputs": [
              {
                "output_type": "stream",
                "name": "stdout",
                "text": [
                  "Video available at https://www.bilibili.com/video/BV14Z4y1i7uP\n"
                ]
              },
              {
                "output_type": "display_data",
                "data": {
                  "text/plain": "<__main__.PlayVideo at 0x7f468914f090>",
                  "text/html": "\n        <iframe\n            width=\"854\"\n            height=\"480\"\n            src=\"https://player.bilibili.com/player.html?bvid=BV14Z4y1i7uP&page=1?fs=1&autoplay=False\"\n            frameborder=\"0\"\n            allowfullscreen\n            \n        ></iframe>\n        "
                },
                "metadata": {}
              }
            ]
          }
        },
        "a8ef2db0eb8a444790735fa80ca6814a": {
          "model_module": "@jupyter-widgets/base",
          "model_name": "LayoutModel",
          "model_module_version": "1.2.0",
          "state": {
            "_model_module": "@jupyter-widgets/base",
            "_model_module_version": "1.2.0",
            "_model_name": "LayoutModel",
            "_view_count": null,
            "_view_module": "@jupyter-widgets/base",
            "_view_module_version": "1.2.0",
            "_view_name": "LayoutView",
            "align_content": null,
            "align_items": null,
            "align_self": null,
            "border": null,
            "bottom": null,
            "display": null,
            "flex": null,
            "flex_flow": null,
            "grid_area": null,
            "grid_auto_columns": null,
            "grid_auto_flow": null,
            "grid_auto_rows": null,
            "grid_column": null,
            "grid_gap": null,
            "grid_row": null,
            "grid_template_areas": null,
            "grid_template_columns": null,
            "grid_template_rows": null,
            "height": null,
            "justify_content": null,
            "justify_items": null,
            "left": null,
            "margin": null,
            "max_height": null,
            "max_width": null,
            "min_height": null,
            "min_width": null,
            "object_fit": null,
            "object_position": null,
            "order": null,
            "overflow": null,
            "overflow_x": null,
            "overflow_y": null,
            "padding": null,
            "right": null,
            "top": null,
            "visibility": null,
            "width": null
          }
        },
        "d0913815e04c42d9ac4d7aaaff67e163": {
          "model_module": "@jupyter-widgets/base",
          "model_name": "LayoutModel",
          "model_module_version": "1.2.0",
          "state": {
            "_model_module": "@jupyter-widgets/base",
            "_model_module_version": "1.2.0",
            "_model_name": "LayoutModel",
            "_view_count": null,
            "_view_module": "@jupyter-widgets/base",
            "_view_module_version": "1.2.0",
            "_view_name": "LayoutView",
            "align_content": null,
            "align_items": null,
            "align_self": null,
            "border": null,
            "bottom": null,
            "display": null,
            "flex": null,
            "flex_flow": null,
            "grid_area": null,
            "grid_auto_columns": null,
            "grid_auto_flow": null,
            "grid_auto_rows": null,
            "grid_column": null,
            "grid_gap": null,
            "grid_row": null,
            "grid_template_areas": null,
            "grid_template_columns": null,
            "grid_template_rows": null,
            "height": null,
            "justify_content": null,
            "justify_items": null,
            "left": null,
            "margin": null,
            "max_height": null,
            "max_width": null,
            "min_height": null,
            "min_width": null,
            "object_fit": null,
            "object_position": null,
            "order": null,
            "overflow": null,
            "overflow_x": null,
            "overflow_y": null,
            "padding": null,
            "right": null,
            "top": null,
            "visibility": null,
            "width": null
          }
        },
        "d36f876025924126bf4f5f59b42ef877": {
          "model_module": "@jupyter-widgets/base",
          "model_name": "LayoutModel",
          "model_module_version": "1.2.0",
          "state": {
            "_model_module": "@jupyter-widgets/base",
            "_model_module_version": "1.2.0",
            "_model_name": "LayoutModel",
            "_view_count": null,
            "_view_module": "@jupyter-widgets/base",
            "_view_module_version": "1.2.0",
            "_view_name": "LayoutView",
            "align_content": null,
            "align_items": null,
            "align_self": null,
            "border": null,
            "bottom": null,
            "display": null,
            "flex": null,
            "flex_flow": null,
            "grid_area": null,
            "grid_auto_columns": null,
            "grid_auto_flow": null,
            "grid_auto_rows": null,
            "grid_column": null,
            "grid_gap": null,
            "grid_row": null,
            "grid_template_areas": null,
            "grid_template_columns": null,
            "grid_template_rows": null,
            "height": null,
            "justify_content": null,
            "justify_items": null,
            "left": null,
            "margin": null,
            "max_height": null,
            "max_width": null,
            "min_height": null,
            "min_width": null,
            "object_fit": null,
            "object_position": null,
            "order": null,
            "overflow": null,
            "overflow_x": null,
            "overflow_y": null,
            "padding": null,
            "right": null,
            "top": null,
            "visibility": null,
            "width": null
          }
        },
        "fea75d7ca9834df3aff95f1a8b140cca": {
          "model_module": "@jupyter-widgets/controls",
          "model_name": "TabModel",
          "model_module_version": "1.5.0",
          "state": {
            "_dom_classes": [],
            "_model_module": "@jupyter-widgets/controls",
            "_model_module_version": "1.5.0",
            "_model_name": "TabModel",
            "_titles": {
              "0": "Youtube",
              "1": "Bilibili"
            },
            "_view_count": null,
            "_view_module": "@jupyter-widgets/controls",
            "_view_module_version": "1.5.0",
            "_view_name": "TabView",
            "box_style": "",
            "children": [
              "IPY_MODEL_d63517af8ffa4ef6b5fa6cf6a13de271",
              "IPY_MODEL_88d1ef5670f94091b4ee720aeb53105c"
            ],
            "layout": "IPY_MODEL_48a118afd2b345e0877b01dff29f492c",
            "selected_index": 0
          }
        },
        "d63517af8ffa4ef6b5fa6cf6a13de271": {
          "model_module": "@jupyter-widgets/output",
          "model_name": "OutputModel",
          "model_module_version": "1.0.0",
          "state": {
            "_dom_classes": [],
            "_model_module": "@jupyter-widgets/output",
            "_model_module_version": "1.0.0",
            "_model_name": "OutputModel",
            "_view_count": null,
            "_view_module": "@jupyter-widgets/output",
            "_view_module_version": "1.0.0",
            "_view_name": "OutputView",
            "layout": "IPY_MODEL_1b0637ee464544f8b54f04daaee4a398",
            "msg_id": "",
            "outputs": [
              {
                "output_type": "stream",
                "name": "stdout",
                "text": [
                  "Video available at https://youtube.com/watch?v=usQB0i8Mn-k\n"
                ]
              },
              {
                "output_type": "display_data",
                "data": {
                  "text/plain": "<IPython.lib.display.YouTubeVideo at 0x7f46e84cfd50>",
                  "text/html": "\n        <iframe\n            width=\"854\"\n            height=\"480\"\n            src=\"https://www.youtube.com/embed/usQB0i8Mn-k?fs=1&rel=0\"\n            frameborder=\"0\"\n            allowfullscreen\n            \n        ></iframe>\n        ",
                  "image/jpeg": "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\n"
                },
                "metadata": {}
              }
            ]
          }
        },
        "88d1ef5670f94091b4ee720aeb53105c": {
          "model_module": "@jupyter-widgets/output",
          "model_name": "OutputModel",
          "model_module_version": "1.0.0",
          "state": {
            "_dom_classes": [],
            "_model_module": "@jupyter-widgets/output",
            "_model_module_version": "1.0.0",
            "_model_name": "OutputModel",
            "_view_count": null,
            "_view_module": "@jupyter-widgets/output",
            "_view_module_version": "1.0.0",
            "_view_name": "OutputView",
            "layout": "IPY_MODEL_cfc95d1bc56d4499b0a458a6e3c7c3d6",
            "msg_id": "",
            "outputs": [
              {
                "output_type": "stream",
                "name": "stdout",
                "text": [
                  "Video available at https://www.bilibili.com/video/BV1LX4y1c7Ge\n"
                ]
              },
              {
                "output_type": "display_data",
                "data": {
                  "text/plain": "<__main__.PlayVideo at 0x7f4689044ed0>",
                  "text/html": "\n        <iframe\n            width=\"854\"\n            height=\"480\"\n            src=\"https://player.bilibili.com/player.html?bvid=BV1LX4y1c7Ge&page=1?fs=1&autoplay=False\"\n            frameborder=\"0\"\n            allowfullscreen\n            \n        ></iframe>\n        "
                },
                "metadata": {}
              }
            ]
          }
        },
        "48a118afd2b345e0877b01dff29f492c": {
          "model_module": "@jupyter-widgets/base",
          "model_name": "LayoutModel",
          "model_module_version": "1.2.0",
          "state": {
            "_model_module": "@jupyter-widgets/base",
            "_model_module_version": "1.2.0",
            "_model_name": "LayoutModel",
            "_view_count": null,
            "_view_module": "@jupyter-widgets/base",
            "_view_module_version": "1.2.0",
            "_view_name": "LayoutView",
            "align_content": null,
            "align_items": null,
            "align_self": null,
            "border": null,
            "bottom": null,
            "display": null,
            "flex": null,
            "flex_flow": null,
            "grid_area": null,
            "grid_auto_columns": null,
            "grid_auto_flow": null,
            "grid_auto_rows": null,
            "grid_column": null,
            "grid_gap": null,
            "grid_row": null,
            "grid_template_areas": null,
            "grid_template_columns": null,
            "grid_template_rows": null,
            "height": null,
            "justify_content": null,
            "justify_items": null,
            "left": null,
            "margin": null,
            "max_height": null,
            "max_width": null,
            "min_height": null,
            "min_width": null,
            "object_fit": null,
            "object_position": null,
            "order": null,
            "overflow": null,
            "overflow_x": null,
            "overflow_y": null,
            "padding": null,
            "right": null,
            "top": null,
            "visibility": null,
            "width": null
          }
        },
        "1b0637ee464544f8b54f04daaee4a398": {
          "model_module": "@jupyter-widgets/base",
          "model_name": "LayoutModel",
          "model_module_version": "1.2.0",
          "state": {
            "_model_module": "@jupyter-widgets/base",
            "_model_module_version": "1.2.0",
            "_model_name": "LayoutModel",
            "_view_count": null,
            "_view_module": "@jupyter-widgets/base",
            "_view_module_version": "1.2.0",
            "_view_name": "LayoutView",
            "align_content": null,
            "align_items": null,
            "align_self": null,
            "border": null,
            "bottom": null,
            "display": null,
            "flex": null,
            "flex_flow": null,
            "grid_area": null,
            "grid_auto_columns": null,
            "grid_auto_flow": null,
            "grid_auto_rows": null,
            "grid_column": null,
            "grid_gap": null,
            "grid_row": null,
            "grid_template_areas": null,
            "grid_template_columns": null,
            "grid_template_rows": null,
            "height": null,
            "justify_content": null,
            "justify_items": null,
            "left": null,
            "margin": null,
            "max_height": null,
            "max_width": null,
            "min_height": null,
            "min_width": null,
            "object_fit": null,
            "object_position": null,
            "order": null,
            "overflow": null,
            "overflow_x": null,
            "overflow_y": null,
            "padding": null,
            "right": null,
            "top": null,
            "visibility": null,
            "width": null
          }
        },
        "cfc95d1bc56d4499b0a458a6e3c7c3d6": {
          "model_module": "@jupyter-widgets/base",
          "model_name": "LayoutModel",
          "model_module_version": "1.2.0",
          "state": {
            "_model_module": "@jupyter-widgets/base",
            "_model_module_version": "1.2.0",
            "_model_name": "LayoutModel",
            "_view_count": null,
            "_view_module": "@jupyter-widgets/base",
            "_view_module_version": "1.2.0",
            "_view_name": "LayoutView",
            "align_content": null,
            "align_items": null,
            "align_self": null,
            "border": null,
            "bottom": null,
            "display": null,
            "flex": null,
            "flex_flow": null,
            "grid_area": null,
            "grid_auto_columns": null,
            "grid_auto_flow": null,
            "grid_auto_rows": null,
            "grid_column": null,
            "grid_gap": null,
            "grid_row": null,
            "grid_template_areas": null,
            "grid_template_columns": null,
            "grid_template_rows": null,
            "height": null,
            "justify_content": null,
            "justify_items": null,
            "left": null,
            "margin": null,
            "max_height": null,
            "max_width": null,
            "min_height": null,
            "min_width": null,
            "object_fit": null,
            "object_position": null,
            "order": null,
            "overflow": null,
            "overflow_x": null,
            "overflow_y": null,
            "padding": null,
            "right": null,
            "top": null,
            "visibility": null,
            "width": null
          }
        },
        "474444ea15214a0bb90c7f7166219c20": {
          "model_module": "@jupyter-widgets/controls",
          "model_name": "TabModel",
          "model_module_version": "1.5.0",
          "state": {
            "_dom_classes": [],
            "_model_module": "@jupyter-widgets/controls",
            "_model_module_version": "1.5.0",
            "_model_name": "TabModel",
            "_titles": {
              "0": "Youtube",
              "1": "Bilibili"
            },
            "_view_count": null,
            "_view_module": "@jupyter-widgets/controls",
            "_view_module_version": "1.5.0",
            "_view_name": "TabView",
            "box_style": "",
            "children": [
              "IPY_MODEL_8b1f6f0cd42a41cc9142f6d28554dc88",
              "IPY_MODEL_b57fb4b7375e4820aae9730c9284e499"
            ],
            "layout": "IPY_MODEL_6b4f321d65da4d62b963de1e14d07d7a",
            "selected_index": 0
          }
        },
        "8b1f6f0cd42a41cc9142f6d28554dc88": {
          "model_module": "@jupyter-widgets/output",
          "model_name": "OutputModel",
          "model_module_version": "1.0.0",
          "state": {
            "_dom_classes": [],
            "_model_module": "@jupyter-widgets/output",
            "_model_module_version": "1.0.0",
            "_model_name": "OutputModel",
            "_view_count": null,
            "_view_module": "@jupyter-widgets/output",
            "_view_module_version": "1.0.0",
            "_view_name": "OutputView",
            "layout": "IPY_MODEL_f05154e7935d4c6d9a3bcd399a21a9a5",
            "msg_id": "",
            "outputs": [
              {
                "output_type": "stream",
                "name": "stdout",
                "text": [
                  "Video available at https://youtube.com/watch?v=kxn2qm6N8yU\n"
                ]
              },
              {
                "output_type": "display_data",
                "data": {
                  "text/plain": "<IPython.lib.display.YouTubeVideo at 0x7f46e981e290>",
                  "text/html": "\n        <iframe\n            width=\"854\"\n            height=\"480\"\n            src=\"https://www.youtube.com/embed/kxn2qm6N8yU?fs=1&rel=0\"\n            frameborder=\"0\"\n            allowfullscreen\n            \n        ></iframe>\n        ",
                  "image/jpeg": "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\n"
                },
                "metadata": {}
              }
            ]
          }
        },
        "b57fb4b7375e4820aae9730c9284e499": {
          "model_module": "@jupyter-widgets/output",
          "model_name": "OutputModel",
          "model_module_version": "1.0.0",
          "state": {
            "_dom_classes": [],
            "_model_module": "@jupyter-widgets/output",
            "_model_module_version": "1.0.0",
            "_model_name": "OutputModel",
            "_view_count": null,
            "_view_module": "@jupyter-widgets/output",
            "_view_module_version": "1.0.0",
            "_view_name": "OutputView",
            "layout": "IPY_MODEL_03f587d28c514c749d72f1ee096ed427",
            "msg_id": "",
            "outputs": [
              {
                "output_type": "stream",
                "name": "stdout",
                "text": [
                  "Video available at https://www.bilibili.com/video/BV14q4y1H7SV\n"
                ]
              },
              {
                "output_type": "display_data",
                "data": {
                  "text/plain": "<__main__.PlayVideo at 0x7f4853e17190>",
                  "text/html": "\n        <iframe\n            width=\"854\"\n            height=\"480\"\n            src=\"https://player.bilibili.com/player.html?bvid=BV14q4y1H7SV&page=1?fs=1&autoplay=False\"\n            frameborder=\"0\"\n            allowfullscreen\n            \n        ></iframe>\n        "
                },
                "metadata": {}
              }
            ]
          }
        },
        "6b4f321d65da4d62b963de1e14d07d7a": {
          "model_module": "@jupyter-widgets/base",
          "model_name": "LayoutModel",
          "model_module_version": "1.2.0",
          "state": {
            "_model_module": "@jupyter-widgets/base",
            "_model_module_version": "1.2.0",
            "_model_name": "LayoutModel",
            "_view_count": null,
            "_view_module": "@jupyter-widgets/base",
            "_view_module_version": "1.2.0",
            "_view_name": "LayoutView",
            "align_content": null,
            "align_items": null,
            "align_self": null,
            "border": null,
            "bottom": null,
            "display": null,
            "flex": null,
            "flex_flow": null,
            "grid_area": null,
            "grid_auto_columns": null,
            "grid_auto_flow": null,
            "grid_auto_rows": null,
            "grid_column": null,
            "grid_gap": null,
            "grid_row": null,
            "grid_template_areas": null,
            "grid_template_columns": null,
            "grid_template_rows": null,
            "height": null,
            "justify_content": null,
            "justify_items": null,
            "left": null,
            "margin": null,
            "max_height": null,
            "max_width": null,
            "min_height": null,
            "min_width": null,
            "object_fit": null,
            "object_position": null,
            "order": null,
            "overflow": null,
            "overflow_x": null,
            "overflow_y": null,
            "padding": null,
            "right": null,
            "top": null,
            "visibility": null,
            "width": null
          }
        },
        "f05154e7935d4c6d9a3bcd399a21a9a5": {
          "model_module": "@jupyter-widgets/base",
          "model_name": "LayoutModel",
          "model_module_version": "1.2.0",
          "state": {
            "_model_module": "@jupyter-widgets/base",
            "_model_module_version": "1.2.0",
            "_model_name": "LayoutModel",
            "_view_count": null,
            "_view_module": "@jupyter-widgets/base",
            "_view_module_version": "1.2.0",
            "_view_name": "LayoutView",
            "align_content": null,
            "align_items": null,
            "align_self": null,
            "border": null,
            "bottom": null,
            "display": null,
            "flex": null,
            "flex_flow": null,
            "grid_area": null,
            "grid_auto_columns": null,
            "grid_auto_flow": null,
            "grid_auto_rows": null,
            "grid_column": null,
            "grid_gap": null,
            "grid_row": null,
            "grid_template_areas": null,
            "grid_template_columns": null,
            "grid_template_rows": null,
            "height": null,
            "justify_content": null,
            "justify_items": null,
            "left": null,
            "margin": null,
            "max_height": null,
            "max_width": null,
            "min_height": null,
            "min_width": null,
            "object_fit": null,
            "object_position": null,
            "order": null,
            "overflow": null,
            "overflow_x": null,
            "overflow_y": null,
            "padding": null,
            "right": null,
            "top": null,
            "visibility": null,
            "width": null
          }
        },
        "03f587d28c514c749d72f1ee096ed427": {
          "model_module": "@jupyter-widgets/base",
          "model_name": "LayoutModel",
          "model_module_version": "1.2.0",
          "state": {
            "_model_module": "@jupyter-widgets/base",
            "_model_module_version": "1.2.0",
            "_model_name": "LayoutModel",
            "_view_count": null,
            "_view_module": "@jupyter-widgets/base",
            "_view_module_version": "1.2.0",
            "_view_name": "LayoutView",
            "align_content": null,
            "align_items": null,
            "align_self": null,
            "border": null,
            "bottom": null,
            "display": null,
            "flex": null,
            "flex_flow": null,
            "grid_area": null,
            "grid_auto_columns": null,
            "grid_auto_flow": null,
            "grid_auto_rows": null,
            "grid_column": null,
            "grid_gap": null,
            "grid_row": null,
            "grid_template_areas": null,
            "grid_template_columns": null,
            "grid_template_rows": null,
            "height": null,
            "justify_content": null,
            "justify_items": null,
            "left": null,
            "margin": null,
            "max_height": null,
            "max_width": null,
            "min_height": null,
            "min_width": null,
            "object_fit": null,
            "object_position": null,
            "order": null,
            "overflow": null,
            "overflow_x": null,
            "overflow_y": null,
            "padding": null,
            "right": null,
            "top": null,
            "visibility": null,
            "width": null
          }
        },
        "781110cfe58549048de831629fcd91e3": {
          "model_module": "@jupyter-widgets/controls",
          "model_name": "TabModel",
          "model_module_version": "1.5.0",
          "state": {
            "_dom_classes": [],
            "_model_module": "@jupyter-widgets/controls",
            "_model_module_version": "1.5.0",
            "_model_name": "TabModel",
            "_titles": {
              "0": "Youtube",
              "1": "Bilibili"
            },
            "_view_count": null,
            "_view_module": "@jupyter-widgets/controls",
            "_view_module_version": "1.5.0",
            "_view_name": "TabView",
            "box_style": "",
            "children": [
              "IPY_MODEL_f334ceb9e4db4c69b0e9f588b16f2877",
              "IPY_MODEL_5df00234039647f4af95781505f16e12"
            ],
            "layout": "IPY_MODEL_a5b5438cee684b29ba62b6c47d185ae5",
            "selected_index": 0
          }
        },
        "f334ceb9e4db4c69b0e9f588b16f2877": {
          "model_module": "@jupyter-widgets/output",
          "model_name": "OutputModel",
          "model_module_version": "1.0.0",
          "state": {
            "_dom_classes": [],
            "_model_module": "@jupyter-widgets/output",
            "_model_module_version": "1.0.0",
            "_model_name": "OutputModel",
            "_view_count": null,
            "_view_module": "@jupyter-widgets/output",
            "_view_module_version": "1.0.0",
            "_view_name": "OutputView",
            "layout": "IPY_MODEL_5c7dee54850742e985a210b6232a2fe3",
            "msg_id": "",
            "outputs": [
              {
                "output_type": "stream",
                "name": "stdout",
                "text": [
                  "Video available at https://youtube.com/watch?v=jLBunbvvwwQ\n"
                ]
              },
              {
                "output_type": "display_data",
                "data": {
                  "text/plain": "<IPython.lib.display.YouTubeVideo at 0x7f46eacaad10>",
                  "text/html": "\n        <iframe\n            width=\"854\"\n            height=\"480\"\n            src=\"https://www.youtube.com/embed/jLBunbvvwwQ?fs=1&rel=0\"\n            frameborder=\"0\"\n            allowfullscreen\n            \n        ></iframe>\n        ",
                  "image/jpeg": "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\n"
                },
                "metadata": {}
              }
            ]
          }
        },
        "5df00234039647f4af95781505f16e12": {
          "model_module": "@jupyter-widgets/output",
          "model_name": "OutputModel",
          "model_module_version": "1.0.0",
          "state": {
            "_dom_classes": [],
            "_model_module": "@jupyter-widgets/output",
            "_model_module_version": "1.0.0",
            "_model_name": "OutputModel",
            "_view_count": null,
            "_view_module": "@jupyter-widgets/output",
            "_view_module_version": "1.0.0",
            "_view_name": "OutputView",
            "layout": "IPY_MODEL_c1f0198744ec4625b8ee88bb7ae5f5d0",
            "msg_id": "",
            "outputs": [
              {
                "output_type": "stream",
                "name": "stdout",
                "text": [
                  "Video available at https://www.bilibili.com/video/BV1vb4y167N7\n"
                ]
              },
              {
                "output_type": "display_data",
                "data": {
                  "text/plain": "<__main__.PlayVideo at 0x7f46e8797750>",
                  "text/html": "\n        <iframe\n            width=\"854\"\n            height=\"480\"\n            src=\"https://player.bilibili.com/player.html?bvid=BV1vb4y167N7&page=1?fs=1&autoplay=False\"\n            frameborder=\"0\"\n            allowfullscreen\n            \n        ></iframe>\n        "
                },
                "metadata": {}
              }
            ]
          }
        },
        "a5b5438cee684b29ba62b6c47d185ae5": {
          "model_module": "@jupyter-widgets/base",
          "model_name": "LayoutModel",
          "model_module_version": "1.2.0",
          "state": {
            "_model_module": "@jupyter-widgets/base",
            "_model_module_version": "1.2.0",
            "_model_name": "LayoutModel",
            "_view_count": null,
            "_view_module": "@jupyter-widgets/base",
            "_view_module_version": "1.2.0",
            "_view_name": "LayoutView",
            "align_content": null,
            "align_items": null,
            "align_self": null,
            "border": null,
            "bottom": null,
            "display": null,
            "flex": null,
            "flex_flow": null,
            "grid_area": null,
            "grid_auto_columns": null,
            "grid_auto_flow": null,
            "grid_auto_rows": null,
            "grid_column": null,
            "grid_gap": null,
            "grid_row": null,
            "grid_template_areas": null,
            "grid_template_columns": null,
            "grid_template_rows": null,
            "height": null,
            "justify_content": null,
            "justify_items": null,
            "left": null,
            "margin": null,
            "max_height": null,
            "max_width": null,
            "min_height": null,
            "min_width": null,
            "object_fit": null,
            "object_position": null,
            "order": null,
            "overflow": null,
            "overflow_x": null,
            "overflow_y": null,
            "padding": null,
            "right": null,
            "top": null,
            "visibility": null,
            "width": null
          }
        },
        "5c7dee54850742e985a210b6232a2fe3": {
          "model_module": "@jupyter-widgets/base",
          "model_name": "LayoutModel",
          "model_module_version": "1.2.0",
          "state": {
            "_model_module": "@jupyter-widgets/base",
            "_model_module_version": "1.2.0",
            "_model_name": "LayoutModel",
            "_view_count": null,
            "_view_module": "@jupyter-widgets/base",
            "_view_module_version": "1.2.0",
            "_view_name": "LayoutView",
            "align_content": null,
            "align_items": null,
            "align_self": null,
            "border": null,
            "bottom": null,
            "display": null,
            "flex": null,
            "flex_flow": null,
            "grid_area": null,
            "grid_auto_columns": null,
            "grid_auto_flow": null,
            "grid_auto_rows": null,
            "grid_column": null,
            "grid_gap": null,
            "grid_row": null,
            "grid_template_areas": null,
            "grid_template_columns": null,
            "grid_template_rows": null,
            "height": null,
            "justify_content": null,
            "justify_items": null,
            "left": null,
            "margin": null,
            "max_height": null,
            "max_width": null,
            "min_height": null,
            "min_width": null,
            "object_fit": null,
            "object_position": null,
            "order": null,
            "overflow": null,
            "overflow_x": null,
            "overflow_y": null,
            "padding": null,
            "right": null,
            "top": null,
            "visibility": null,
            "width": null
          }
        },
        "c1f0198744ec4625b8ee88bb7ae5f5d0": {
          "model_module": "@jupyter-widgets/base",
          "model_name": "LayoutModel",
          "model_module_version": "1.2.0",
          "state": {
            "_model_module": "@jupyter-widgets/base",
            "_model_module_version": "1.2.0",
            "_model_name": "LayoutModel",
            "_view_count": null,
            "_view_module": "@jupyter-widgets/base",
            "_view_module_version": "1.2.0",
            "_view_name": "LayoutView",
            "align_content": null,
            "align_items": null,
            "align_self": null,
            "border": null,
            "bottom": null,
            "display": null,
            "flex": null,
            "flex_flow": null,
            "grid_area": null,
            "grid_auto_columns": null,
            "grid_auto_flow": null,
            "grid_auto_rows": null,
            "grid_column": null,
            "grid_gap": null,
            "grid_row": null,
            "grid_template_areas": null,
            "grid_template_columns": null,
            "grid_template_rows": null,
            "height": null,
            "justify_content": null,
            "justify_items": null,
            "left": null,
            "margin": null,
            "max_height": null,
            "max_width": null,
            "min_height": null,
            "min_width": null,
            "object_fit": null,
            "object_position": null,
            "order": null,
            "overflow": null,
            "overflow_x": null,
            "overflow_y": null,
            "padding": null,
            "right": null,
            "top": null,
            "visibility": null,
            "width": null
          }
        },
        "86e645041db0426d907d03ebe6052be9": {
          "model_module": "@jupyter-widgets/controls",
          "model_name": "HBoxModel",
          "model_module_version": "1.5.0",
          "state": {
            "_dom_classes": [],
            "_model_module": "@jupyter-widgets/controls",
            "_model_module_version": "1.5.0",
            "_model_name": "HBoxModel",
            "_view_count": null,
            "_view_module": "@jupyter-widgets/controls",
            "_view_module_version": "1.5.0",
            "_view_name": "HBoxView",
            "box_style": "",
            "children": [
              "IPY_MODEL_9adad5d0d8f648dba9a55f9a92314ec9",
              "IPY_MODEL_618856a6742b4221be449601777813e3",
              "IPY_MODEL_d16766bb3dc845979957a909c161d98c"
            ],
            "layout": "IPY_MODEL_a256db8848074338ab172e0e37a1b246"
          }
        },
        "9adad5d0d8f648dba9a55f9a92314ec9": {
          "model_module": "@jupyter-widgets/controls",
          "model_name": "HTMLModel",
          "model_module_version": "1.5.0",
          "state": {
            "_dom_classes": [],
            "_model_module": "@jupyter-widgets/controls",
            "_model_module_version": "1.5.0",
            "_model_name": "HTMLModel",
            "_view_count": null,
            "_view_module": "@jupyter-widgets/controls",
            "_view_module_version": "1.5.0",
            "_view_name": "HTMLView",
            "description": "",
            "description_tooltip": null,
            "layout": "IPY_MODEL_9b907c5bad344448bd87d8c3610c63dc",
            "placeholder": "​",
            "style": "IPY_MODEL_247fb1e475c84564b526b3a961a68cd1",
            "value": "tokenizer_config.json: 100%"
          }
        },
        "618856a6742b4221be449601777813e3": {
          "model_module": "@jupyter-widgets/controls",
          "model_name": "FloatProgressModel",
          "model_module_version": "1.5.0",
          "state": {
            "_dom_classes": [],
            "_model_module": "@jupyter-widgets/controls",
            "_model_module_version": "1.5.0",
            "_model_name": "FloatProgressModel",
            "_view_count": null,
            "_view_module": "@jupyter-widgets/controls",
            "_view_module_version": "1.5.0",
            "_view_name": "ProgressView",
            "bar_style": "success",
            "description": "",
            "description_tooltip": null,
            "layout": "IPY_MODEL_0ec4b9dbd3b844c8b85cb301721e8606",
            "max": 48,
            "min": 0,
            "orientation": "horizontal",
            "style": "IPY_MODEL_477279d96dc34007b01774b3e8ec5d85",
            "value": 48
          }
        },
        "d16766bb3dc845979957a909c161d98c": {
          "model_module": "@jupyter-widgets/controls",
          "model_name": "HTMLModel",
          "model_module_version": "1.5.0",
          "state": {
            "_dom_classes": [],
            "_model_module": "@jupyter-widgets/controls",
            "_model_module_version": "1.5.0",
            "_model_name": "HTMLModel",
            "_view_count": null,
            "_view_module": "@jupyter-widgets/controls",
            "_view_module_version": "1.5.0",
            "_view_name": "HTMLView",
            "description": "",
            "description_tooltip": null,
            "layout": "IPY_MODEL_e9d2988a3313477caf0a9f0685c75373",
            "placeholder": "​",
            "style": "IPY_MODEL_0ea22a36734b4f0d98bb3eb09e375e6b",
            "value": " 48.0/48.0 [00:00&lt;00:00, 3.77kB/s]"
          }
        },
        "a256db8848074338ab172e0e37a1b246": {
          "model_module": "@jupyter-widgets/base",
          "model_name": "LayoutModel",
          "model_module_version": "1.2.0",
          "state": {
            "_model_module": "@jupyter-widgets/base",
            "_model_module_version": "1.2.0",
            "_model_name": "LayoutModel",
            "_view_count": null,
            "_view_module": "@jupyter-widgets/base",
            "_view_module_version": "1.2.0",
            "_view_name": "LayoutView",
            "align_content": null,
            "align_items": null,
            "align_self": null,
            "border": null,
            "bottom": null,
            "display": null,
            "flex": null,
            "flex_flow": null,
            "grid_area": null,
            "grid_auto_columns": null,
            "grid_auto_flow": null,
            "grid_auto_rows": null,
            "grid_column": null,
            "grid_gap": null,
            "grid_row": null,
            "grid_template_areas": null,
            "grid_template_columns": null,
            "grid_template_rows": null,
            "height": null,
            "justify_content": null,
            "justify_items": null,
            "left": null,
            "margin": null,
            "max_height": null,
            "max_width": null,
            "min_height": null,
            "min_width": null,
            "object_fit": null,
            "object_position": null,
            "order": null,
            "overflow": null,
            "overflow_x": null,
            "overflow_y": null,
            "padding": null,
            "right": null,
            "top": null,
            "visibility": null,
            "width": null
          }
        },
        "9b907c5bad344448bd87d8c3610c63dc": {
          "model_module": "@jupyter-widgets/base",
          "model_name": "LayoutModel",
          "model_module_version": "1.2.0",
          "state": {
            "_model_module": "@jupyter-widgets/base",
            "_model_module_version": "1.2.0",
            "_model_name": "LayoutModel",
            "_view_count": null,
            "_view_module": "@jupyter-widgets/base",
            "_view_module_version": "1.2.0",
            "_view_name": "LayoutView",
            "align_content": null,
            "align_items": null,
            "align_self": null,
            "border": null,
            "bottom": null,
            "display": null,
            "flex": null,
            "flex_flow": null,
            "grid_area": null,
            "grid_auto_columns": null,
            "grid_auto_flow": null,
            "grid_auto_rows": null,
            "grid_column": null,
            "grid_gap": null,
            "grid_row": null,
            "grid_template_areas": null,
            "grid_template_columns": null,
            "grid_template_rows": null,
            "height": null,
            "justify_content": null,
            "justify_items": null,
            "left": null,
            "margin": null,
            "max_height": null,
            "max_width": null,
            "min_height": null,
            "min_width": null,
            "object_fit": null,
            "object_position": null,
            "order": null,
            "overflow": null,
            "overflow_x": null,
            "overflow_y": null,
            "padding": null,
            "right": null,
            "top": null,
            "visibility": null,
            "width": null
          }
        },
        "247fb1e475c84564b526b3a961a68cd1": {
          "model_module": "@jupyter-widgets/controls",
          "model_name": "DescriptionStyleModel",
          "model_module_version": "1.5.0",
          "state": {
            "_model_module": "@jupyter-widgets/controls",
            "_model_module_version": "1.5.0",
            "_model_name": "DescriptionStyleModel",
            "_view_count": null,
            "_view_module": "@jupyter-widgets/base",
            "_view_module_version": "1.2.0",
            "_view_name": "StyleView",
            "description_width": ""
          }
        },
        "0ec4b9dbd3b844c8b85cb301721e8606": {
          "model_module": "@jupyter-widgets/base",
          "model_name": "LayoutModel",
          "model_module_version": "1.2.0",
          "state": {
            "_model_module": "@jupyter-widgets/base",
            "_model_module_version": "1.2.0",
            "_model_name": "LayoutModel",
            "_view_count": null,
            "_view_module": "@jupyter-widgets/base",
            "_view_module_version": "1.2.0",
            "_view_name": "LayoutView",
            "align_content": null,
            "align_items": null,
            "align_self": null,
            "border": null,
            "bottom": null,
            "display": null,
            "flex": null,
            "flex_flow": null,
            "grid_area": null,
            "grid_auto_columns": null,
            "grid_auto_flow": null,
            "grid_auto_rows": null,
            "grid_column": null,
            "grid_gap": null,
            "grid_row": null,
            "grid_template_areas": null,
            "grid_template_columns": null,
            "grid_template_rows": null,
            "height": null,
            "justify_content": null,
            "justify_items": null,
            "left": null,
            "margin": null,
            "max_height": null,
            "max_width": null,
            "min_height": null,
            "min_width": null,
            "object_fit": null,
            "object_position": null,
            "order": null,
            "overflow": null,
            "overflow_x": null,
            "overflow_y": null,
            "padding": null,
            "right": null,
            "top": null,
            "visibility": null,
            "width": null
          }
        },
        "477279d96dc34007b01774b3e8ec5d85": {
          "model_module": "@jupyter-widgets/controls",
          "model_name": "ProgressStyleModel",
          "model_module_version": "1.5.0",
          "state": {
            "_model_module": "@jupyter-widgets/controls",
            "_model_module_version": "1.5.0",
            "_model_name": "ProgressStyleModel",
            "_view_count": null,
            "_view_module": "@jupyter-widgets/base",
            "_view_module_version": "1.2.0",
            "_view_name": "StyleView",
            "bar_color": null,
            "description_width": ""
          }
        },
        "e9d2988a3313477caf0a9f0685c75373": {
          "model_module": "@jupyter-widgets/base",
          "model_name": "LayoutModel",
          "model_module_version": "1.2.0",
          "state": {
            "_model_module": "@jupyter-widgets/base",
            "_model_module_version": "1.2.0",
            "_model_name": "LayoutModel",
            "_view_count": null,
            "_view_module": "@jupyter-widgets/base",
            "_view_module_version": "1.2.0",
            "_view_name": "LayoutView",
            "align_content": null,
            "align_items": null,
            "align_self": null,
            "border": null,
            "bottom": null,
            "display": null,
            "flex": null,
            "flex_flow": null,
            "grid_area": null,
            "grid_auto_columns": null,
            "grid_auto_flow": null,
            "grid_auto_rows": null,
            "grid_column": null,
            "grid_gap": null,
            "grid_row": null,
            "grid_template_areas": null,
            "grid_template_columns": null,
            "grid_template_rows": null,
            "height": null,
            "justify_content": null,
            "justify_items": null,
            "left": null,
            "margin": null,
            "max_height": null,
            "max_width": null,
            "min_height": null,
            "min_width": null,
            "object_fit": null,
            "object_position": null,
            "order": null,
            "overflow": null,
            "overflow_x": null,
            "overflow_y": null,
            "padding": null,
            "right": null,
            "top": null,
            "visibility": null,
            "width": null
          }
        },
        "0ea22a36734b4f0d98bb3eb09e375e6b": {
          "model_module": "@jupyter-widgets/controls",
          "model_name": "DescriptionStyleModel",
          "model_module_version": "1.5.0",
          "state": {
            "_model_module": "@jupyter-widgets/controls",
            "_model_module_version": "1.5.0",
            "_model_name": "DescriptionStyleModel",
            "_view_count": null,
            "_view_module": "@jupyter-widgets/base",
            "_view_module_version": "1.2.0",
            "_view_name": "StyleView",
            "description_width": ""
          }
        },
        "f3b546c53f414b5499c25bab8c6daf50": {
          "model_module": "@jupyter-widgets/controls",
          "model_name": "HBoxModel",
          "model_module_version": "1.5.0",
          "state": {
            "_dom_classes": [],
            "_model_module": "@jupyter-widgets/controls",
            "_model_module_version": "1.5.0",
            "_model_name": "HBoxModel",
            "_view_count": null,
            "_view_module": "@jupyter-widgets/controls",
            "_view_module_version": "1.5.0",
            "_view_name": "HBoxView",
            "box_style": "",
            "children": [
              "IPY_MODEL_e63c81bbfb944d1b999fbede1a98b20f",
              "IPY_MODEL_a03893fd75314823855c5cb7db061694",
              "IPY_MODEL_2aac444497474479bebb45394342ad7a"
            ],
            "layout": "IPY_MODEL_31ef70f4944d4e8380518aba919d03a0"
          }
        },
        "e63c81bbfb944d1b999fbede1a98b20f": {
          "model_module": "@jupyter-widgets/controls",
          "model_name": "HTMLModel",
          "model_module_version": "1.5.0",
          "state": {
            "_dom_classes": [],
            "_model_module": "@jupyter-widgets/controls",
            "_model_module_version": "1.5.0",
            "_model_name": "HTMLModel",
            "_view_count": null,
            "_view_module": "@jupyter-widgets/controls",
            "_view_module_version": "1.5.0",
            "_view_name": "HTMLView",
            "description": "",
            "description_tooltip": null,
            "layout": "IPY_MODEL_575c9e802af54ed8a5b3ce059e4e025f",
            "placeholder": "​",
            "style": "IPY_MODEL_aec372646af44b96a71bd1bbf89ac436",
            "value": "vocab.txt: 100%"
          }
        },
        "a03893fd75314823855c5cb7db061694": {
          "model_module": "@jupyter-widgets/controls",
          "model_name": "FloatProgressModel",
          "model_module_version": "1.5.0",
          "state": {
            "_dom_classes": [],
            "_model_module": "@jupyter-widgets/controls",
            "_model_module_version": "1.5.0",
            "_model_name": "FloatProgressModel",
            "_view_count": null,
            "_view_module": "@jupyter-widgets/controls",
            "_view_module_version": "1.5.0",
            "_view_name": "ProgressView",
            "bar_style": "success",
            "description": "",
            "description_tooltip": null,
            "layout": "IPY_MODEL_ac7c495d300c4d0ba124a4792f1a2be3",
            "max": 231508,
            "min": 0,
            "orientation": "horizontal",
            "style": "IPY_MODEL_0a45589c0190420cb5cb23a2b7fb137e",
            "value": 231508
          }
        },
        "2aac444497474479bebb45394342ad7a": {
          "model_module": "@jupyter-widgets/controls",
          "model_name": "HTMLModel",
          "model_module_version": "1.5.0",
          "state": {
            "_dom_classes": [],
            "_model_module": "@jupyter-widgets/controls",
            "_model_module_version": "1.5.0",
            "_model_name": "HTMLModel",
            "_view_count": null,
            "_view_module": "@jupyter-widgets/controls",
            "_view_module_version": "1.5.0",
            "_view_name": "HTMLView",
            "description": "",
            "description_tooltip": null,
            "layout": "IPY_MODEL_d030ac432f784121afb3114af4bc881e",
            "placeholder": "​",
            "style": "IPY_MODEL_9c1b11198ebe4269815178e5a309d66e",
            "value": " 232k/232k [00:00&lt;00:00, 4.42MB/s]"
          }
        },
        "31ef70f4944d4e8380518aba919d03a0": {
          "model_module": "@jupyter-widgets/base",
          "model_name": "LayoutModel",
          "model_module_version": "1.2.0",
          "state": {
            "_model_module": "@jupyter-widgets/base",
            "_model_module_version": "1.2.0",
            "_model_name": "LayoutModel",
            "_view_count": null,
            "_view_module": "@jupyter-widgets/base",
            "_view_module_version": "1.2.0",
            "_view_name": "LayoutView",
            "align_content": null,
            "align_items": null,
            "align_self": null,
            "border": null,
            "bottom": null,
            "display": null,
            "flex": null,
            "flex_flow": null,
            "grid_area": null,
            "grid_auto_columns": null,
            "grid_auto_flow": null,
            "grid_auto_rows": null,
            "grid_column": null,
            "grid_gap": null,
            "grid_row": null,
            "grid_template_areas": null,
            "grid_template_columns": null,
            "grid_template_rows": null,
            "height": null,
            "justify_content": null,
            "justify_items": null,
            "left": null,
            "margin": null,
            "max_height": null,
            "max_width": null,
            "min_height": null,
            "min_width": null,
            "object_fit": null,
            "object_position": null,
            "order": null,
            "overflow": null,
            "overflow_x": null,
            "overflow_y": null,
            "padding": null,
            "right": null,
            "top": null,
            "visibility": null,
            "width": null
          }
        },
        "575c9e802af54ed8a5b3ce059e4e025f": {
          "model_module": "@jupyter-widgets/base",
          "model_name": "LayoutModel",
          "model_module_version": "1.2.0",
          "state": {
            "_model_module": "@jupyter-widgets/base",
            "_model_module_version": "1.2.0",
            "_model_name": "LayoutModel",
            "_view_count": null,
            "_view_module": "@jupyter-widgets/base",
            "_view_module_version": "1.2.0",
            "_view_name": "LayoutView",
            "align_content": null,
            "align_items": null,
            "align_self": null,
            "border": null,
            "bottom": null,
            "display": null,
            "flex": null,
            "flex_flow": null,
            "grid_area": null,
            "grid_auto_columns": null,
            "grid_auto_flow": null,
            "grid_auto_rows": null,
            "grid_column": null,
            "grid_gap": null,
            "grid_row": null,
            "grid_template_areas": null,
            "grid_template_columns": null,
            "grid_template_rows": null,
            "height": null,
            "justify_content": null,
            "justify_items": null,
            "left": null,
            "margin": null,
            "max_height": null,
            "max_width": null,
            "min_height": null,
            "min_width": null,
            "object_fit": null,
            "object_position": null,
            "order": null,
            "overflow": null,
            "overflow_x": null,
            "overflow_y": null,
            "padding": null,
            "right": null,
            "top": null,
            "visibility": null,
            "width": null
          }
        },
        "aec372646af44b96a71bd1bbf89ac436": {
          "model_module": "@jupyter-widgets/controls",
          "model_name": "DescriptionStyleModel",
          "model_module_version": "1.5.0",
          "state": {
            "_model_module": "@jupyter-widgets/controls",
            "_model_module_version": "1.5.0",
            "_model_name": "DescriptionStyleModel",
            "_view_count": null,
            "_view_module": "@jupyter-widgets/base",
            "_view_module_version": "1.2.0",
            "_view_name": "StyleView",
            "description_width": ""
          }
        },
        "ac7c495d300c4d0ba124a4792f1a2be3": {
          "model_module": "@jupyter-widgets/base",
          "model_name": "LayoutModel",
          "model_module_version": "1.2.0",
          "state": {
            "_model_module": "@jupyter-widgets/base",
            "_model_module_version": "1.2.0",
            "_model_name": "LayoutModel",
            "_view_count": null,
            "_view_module": "@jupyter-widgets/base",
            "_view_module_version": "1.2.0",
            "_view_name": "LayoutView",
            "align_content": null,
            "align_items": null,
            "align_self": null,
            "border": null,
            "bottom": null,
            "display": null,
            "flex": null,
            "flex_flow": null,
            "grid_area": null,
            "grid_auto_columns": null,
            "grid_auto_flow": null,
            "grid_auto_rows": null,
            "grid_column": null,
            "grid_gap": null,
            "grid_row": null,
            "grid_template_areas": null,
            "grid_template_columns": null,
            "grid_template_rows": null,
            "height": null,
            "justify_content": null,
            "justify_items": null,
            "left": null,
            "margin": null,
            "max_height": null,
            "max_width": null,
            "min_height": null,
            "min_width": null,
            "object_fit": null,
            "object_position": null,
            "order": null,
            "overflow": null,
            "overflow_x": null,
            "overflow_y": null,
            "padding": null,
            "right": null,
            "top": null,
            "visibility": null,
            "width": null
          }
        },
        "0a45589c0190420cb5cb23a2b7fb137e": {
          "model_module": "@jupyter-widgets/controls",
          "model_name": "ProgressStyleModel",
          "model_module_version": "1.5.0",
          "state": {
            "_model_module": "@jupyter-widgets/controls",
            "_model_module_version": "1.5.0",
            "_model_name": "ProgressStyleModel",
            "_view_count": null,
            "_view_module": "@jupyter-widgets/base",
            "_view_module_version": "1.2.0",
            "_view_name": "StyleView",
            "bar_color": null,
            "description_width": ""
          }
        },
        "d030ac432f784121afb3114af4bc881e": {
          "model_module": "@jupyter-widgets/base",
          "model_name": "LayoutModel",
          "model_module_version": "1.2.0",
          "state": {
            "_model_module": "@jupyter-widgets/base",
            "_model_module_version": "1.2.0",
            "_model_name": "LayoutModel",
            "_view_count": null,
            "_view_module": "@jupyter-widgets/base",
            "_view_module_version": "1.2.0",
            "_view_name": "LayoutView",
            "align_content": null,
            "align_items": null,
            "align_self": null,
            "border": null,
            "bottom": null,
            "display": null,
            "flex": null,
            "flex_flow": null,
            "grid_area": null,
            "grid_auto_columns": null,
            "grid_auto_flow": null,
            "grid_auto_rows": null,
            "grid_column": null,
            "grid_gap": null,
            "grid_row": null,
            "grid_template_areas": null,
            "grid_template_columns": null,
            "grid_template_rows": null,
            "height": null,
            "justify_content": null,
            "justify_items": null,
            "left": null,
            "margin": null,
            "max_height": null,
            "max_width": null,
            "min_height": null,
            "min_width": null,
            "object_fit": null,
            "object_position": null,
            "order": null,
            "overflow": null,
            "overflow_x": null,
            "overflow_y": null,
            "padding": null,
            "right": null,
            "top": null,
            "visibility": null,
            "width": null
          }
        },
        "9c1b11198ebe4269815178e5a309d66e": {
          "model_module": "@jupyter-widgets/controls",
          "model_name": "DescriptionStyleModel",
          "model_module_version": "1.5.0",
          "state": {
            "_model_module": "@jupyter-widgets/controls",
            "_model_module_version": "1.5.0",
            "_model_name": "DescriptionStyleModel",
            "_view_count": null,
            "_view_module": "@jupyter-widgets/base",
            "_view_module_version": "1.2.0",
            "_view_name": "StyleView",
            "description_width": ""
          }
        },
        "d3bb1f4b4f70429c9b8fb4594ba5c58d": {
          "model_module": "@jupyter-widgets/controls",
          "model_name": "HBoxModel",
          "model_module_version": "1.5.0",
          "state": {
            "_dom_classes": [],
            "_model_module": "@jupyter-widgets/controls",
            "_model_module_version": "1.5.0",
            "_model_name": "HBoxModel",
            "_view_count": null,
            "_view_module": "@jupyter-widgets/controls",
            "_view_module_version": "1.5.0",
            "_view_name": "HBoxView",
            "box_style": "",
            "children": [
              "IPY_MODEL_b074d3a7ac744fe78c2d5cf6642b26b3",
              "IPY_MODEL_d534e2020bda455caadcaaf2e3a7e973",
              "IPY_MODEL_4b8abc9ff4184db8bb9b8144e40722dc"
            ],
            "layout": "IPY_MODEL_0ad6e5338c46400e85253d2b4995891e"
          }
        },
        "b074d3a7ac744fe78c2d5cf6642b26b3": {
          "model_module": "@jupyter-widgets/controls",
          "model_name": "HTMLModel",
          "model_module_version": "1.5.0",
          "state": {
            "_dom_classes": [],
            "_model_module": "@jupyter-widgets/controls",
            "_model_module_version": "1.5.0",
            "_model_name": "HTMLModel",
            "_view_count": null,
            "_view_module": "@jupyter-widgets/controls",
            "_view_module_version": "1.5.0",
            "_view_name": "HTMLView",
            "description": "",
            "description_tooltip": null,
            "layout": "IPY_MODEL_a22d22ee01c44ed59bdbd489d1b34a35",
            "placeholder": "​",
            "style": "IPY_MODEL_dc719433cf00413091fcf7fcb977a6f6",
            "value": "tokenizer.json: 100%"
          }
        },
        "d534e2020bda455caadcaaf2e3a7e973": {
          "model_module": "@jupyter-widgets/controls",
          "model_name": "FloatProgressModel",
          "model_module_version": "1.5.0",
          "state": {
            "_dom_classes": [],
            "_model_module": "@jupyter-widgets/controls",
            "_model_module_version": "1.5.0",
            "_model_name": "FloatProgressModel",
            "_view_count": null,
            "_view_module": "@jupyter-widgets/controls",
            "_view_module_version": "1.5.0",
            "_view_name": "ProgressView",
            "bar_style": "success",
            "description": "",
            "description_tooltip": null,
            "layout": "IPY_MODEL_32d6339818c6495da372ba2dd875a5e0",
            "max": 466062,
            "min": 0,
            "orientation": "horizontal",
            "style": "IPY_MODEL_736cd6f5b1b945a9a7dfefc26136ac54",
            "value": 466062
          }
        },
        "4b8abc9ff4184db8bb9b8144e40722dc": {
          "model_module": "@jupyter-widgets/controls",
          "model_name": "HTMLModel",
          "model_module_version": "1.5.0",
          "state": {
            "_dom_classes": [],
            "_model_module": "@jupyter-widgets/controls",
            "_model_module_version": "1.5.0",
            "_model_name": "HTMLModel",
            "_view_count": null,
            "_view_module": "@jupyter-widgets/controls",
            "_view_module_version": "1.5.0",
            "_view_name": "HTMLView",
            "description": "",
            "description_tooltip": null,
            "layout": "IPY_MODEL_57ebd4920e7c4b8dab0106aa72cee2de",
            "placeholder": "​",
            "style": "IPY_MODEL_c8a8c154e1784489bad05402713229bd",
            "value": " 466k/466k [00:00&lt;00:00, 10.1MB/s]"
          }
        },
        "0ad6e5338c46400e85253d2b4995891e": {
          "model_module": "@jupyter-widgets/base",
          "model_name": "LayoutModel",
          "model_module_version": "1.2.0",
          "state": {
            "_model_module": "@jupyter-widgets/base",
            "_model_module_version": "1.2.0",
            "_model_name": "LayoutModel",
            "_view_count": null,
            "_view_module": "@jupyter-widgets/base",
            "_view_module_version": "1.2.0",
            "_view_name": "LayoutView",
            "align_content": null,
            "align_items": null,
            "align_self": null,
            "border": null,
            "bottom": null,
            "display": null,
            "flex": null,
            "flex_flow": null,
            "grid_area": null,
            "grid_auto_columns": null,
            "grid_auto_flow": null,
            "grid_auto_rows": null,
            "grid_column": null,
            "grid_gap": null,
            "grid_row": null,
            "grid_template_areas": null,
            "grid_template_columns": null,
            "grid_template_rows": null,
            "height": null,
            "justify_content": null,
            "justify_items": null,
            "left": null,
            "margin": null,
            "max_height": null,
            "max_width": null,
            "min_height": null,
            "min_width": null,
            "object_fit": null,
            "object_position": null,
            "order": null,
            "overflow": null,
            "overflow_x": null,
            "overflow_y": null,
            "padding": null,
            "right": null,
            "top": null,
            "visibility": null,
            "width": null
          }
        },
        "a22d22ee01c44ed59bdbd489d1b34a35": {
          "model_module": "@jupyter-widgets/base",
          "model_name": "LayoutModel",
          "model_module_version": "1.2.0",
          "state": {
            "_model_module": "@jupyter-widgets/base",
            "_model_module_version": "1.2.0",
            "_model_name": "LayoutModel",
            "_view_count": null,
            "_view_module": "@jupyter-widgets/base",
            "_view_module_version": "1.2.0",
            "_view_name": "LayoutView",
            "align_content": null,
            "align_items": null,
            "align_self": null,
            "border": null,
            "bottom": null,
            "display": null,
            "flex": null,
            "flex_flow": null,
            "grid_area": null,
            "grid_auto_columns": null,
            "grid_auto_flow": null,
            "grid_auto_rows": null,
            "grid_column": null,
            "grid_gap": null,
            "grid_row": null,
            "grid_template_areas": null,
            "grid_template_columns": null,
            "grid_template_rows": null,
            "height": null,
            "justify_content": null,
            "justify_items": null,
            "left": null,
            "margin": null,
            "max_height": null,
            "max_width": null,
            "min_height": null,
            "min_width": null,
            "object_fit": null,
            "object_position": null,
            "order": null,
            "overflow": null,
            "overflow_x": null,
            "overflow_y": null,
            "padding": null,
            "right": null,
            "top": null,
            "visibility": null,
            "width": null
          }
        },
        "dc719433cf00413091fcf7fcb977a6f6": {
          "model_module": "@jupyter-widgets/controls",
          "model_name": "DescriptionStyleModel",
          "model_module_version": "1.5.0",
          "state": {
            "_model_module": "@jupyter-widgets/controls",
            "_model_module_version": "1.5.0",
            "_model_name": "DescriptionStyleModel",
            "_view_count": null,
            "_view_module": "@jupyter-widgets/base",
            "_view_module_version": "1.2.0",
            "_view_name": "StyleView",
            "description_width": ""
          }
        },
        "32d6339818c6495da372ba2dd875a5e0": {
          "model_module": "@jupyter-widgets/base",
          "model_name": "LayoutModel",
          "model_module_version": "1.2.0",
          "state": {
            "_model_module": "@jupyter-widgets/base",
            "_model_module_version": "1.2.0",
            "_model_name": "LayoutModel",
            "_view_count": null,
            "_view_module": "@jupyter-widgets/base",
            "_view_module_version": "1.2.0",
            "_view_name": "LayoutView",
            "align_content": null,
            "align_items": null,
            "align_self": null,
            "border": null,
            "bottom": null,
            "display": null,
            "flex": null,
            "flex_flow": null,
            "grid_area": null,
            "grid_auto_columns": null,
            "grid_auto_flow": null,
            "grid_auto_rows": null,
            "grid_column": null,
            "grid_gap": null,
            "grid_row": null,
            "grid_template_areas": null,
            "grid_template_columns": null,
            "grid_template_rows": null,
            "height": null,
            "justify_content": null,
            "justify_items": null,
            "left": null,
            "margin": null,
            "max_height": null,
            "max_width": null,
            "min_height": null,
            "min_width": null,
            "object_fit": null,
            "object_position": null,
            "order": null,
            "overflow": null,
            "overflow_x": null,
            "overflow_y": null,
            "padding": null,
            "right": null,
            "top": null,
            "visibility": null,
            "width": null
          }
        },
        "736cd6f5b1b945a9a7dfefc26136ac54": {
          "model_module": "@jupyter-widgets/controls",
          "model_name": "ProgressStyleModel",
          "model_module_version": "1.5.0",
          "state": {
            "_model_module": "@jupyter-widgets/controls",
            "_model_module_version": "1.5.0",
            "_model_name": "ProgressStyleModel",
            "_view_count": null,
            "_view_module": "@jupyter-widgets/base",
            "_view_module_version": "1.2.0",
            "_view_name": "StyleView",
            "bar_color": null,
            "description_width": ""
          }
        },
        "57ebd4920e7c4b8dab0106aa72cee2de": {
          "model_module": "@jupyter-widgets/base",
          "model_name": "LayoutModel",
          "model_module_version": "1.2.0",
          "state": {
            "_model_module": "@jupyter-widgets/base",
            "_model_module_version": "1.2.0",
            "_model_name": "LayoutModel",
            "_view_count": null,
            "_view_module": "@jupyter-widgets/base",
            "_view_module_version": "1.2.0",
            "_view_name": "LayoutView",
            "align_content": null,
            "align_items": null,
            "align_self": null,
            "border": null,
            "bottom": null,
            "display": null,
            "flex": null,
            "flex_flow": null,
            "grid_area": null,
            "grid_auto_columns": null,
            "grid_auto_flow": null,
            "grid_auto_rows": null,
            "grid_column": null,
            "grid_gap": null,
            "grid_row": null,
            "grid_template_areas": null,
            "grid_template_columns": null,
            "grid_template_rows": null,
            "height": null,
            "justify_content": null,
            "justify_items": null,
            "left": null,
            "margin": null,
            "max_height": null,
            "max_width": null,
            "min_height": null,
            "min_width": null,
            "object_fit": null,
            "object_position": null,
            "order": null,
            "overflow": null,
            "overflow_x": null,
            "overflow_y": null,
            "padding": null,
            "right": null,
            "top": null,
            "visibility": null,
            "width": null
          }
        },
        "c8a8c154e1784489bad05402713229bd": {
          "model_module": "@jupyter-widgets/controls",
          "model_name": "DescriptionStyleModel",
          "model_module_version": "1.5.0",
          "state": {
            "_model_module": "@jupyter-widgets/controls",
            "_model_module_version": "1.5.0",
            "_model_name": "DescriptionStyleModel",
            "_view_count": null,
            "_view_module": "@jupyter-widgets/base",
            "_view_module_version": "1.2.0",
            "_view_name": "StyleView",
            "description_width": ""
          }
        },
        "5bad6d7402ad48248eb13d44d789349b": {
          "model_module": "@jupyter-widgets/controls",
          "model_name": "HBoxModel",
          "model_module_version": "1.5.0",
          "state": {
            "_dom_classes": [],
            "_model_module": "@jupyter-widgets/controls",
            "_model_module_version": "1.5.0",
            "_model_name": "HBoxModel",
            "_view_count": null,
            "_view_module": "@jupyter-widgets/controls",
            "_view_module_version": "1.5.0",
            "_view_name": "HBoxView",
            "box_style": "",
            "children": [
              "IPY_MODEL_2aed7653bd20454ea3d03b062dc10e9e",
              "IPY_MODEL_1625e8be328e48aeaedb966603797f49",
              "IPY_MODEL_48605f9295d94bfa9243aeabafe7052a"
            ],
            "layout": "IPY_MODEL_bac1211cc5d9489fa227af53a2529981"
          }
        },
        "2aed7653bd20454ea3d03b062dc10e9e": {
          "model_module": "@jupyter-widgets/controls",
          "model_name": "HTMLModel",
          "model_module_version": "1.5.0",
          "state": {
            "_dom_classes": [],
            "_model_module": "@jupyter-widgets/controls",
            "_model_module_version": "1.5.0",
            "_model_name": "HTMLModel",
            "_view_count": null,
            "_view_module": "@jupyter-widgets/controls",
            "_view_module_version": "1.5.0",
            "_view_name": "HTMLView",
            "description": "",
            "description_tooltip": null,
            "layout": "IPY_MODEL_02aab4940ea54824ac353da2ff548d00",
            "placeholder": "​",
            "style": "IPY_MODEL_edf8402c01524944827b8941c9ecd1b0",
            "value": "config.json: 100%"
          }
        },
        "1625e8be328e48aeaedb966603797f49": {
          "model_module": "@jupyter-widgets/controls",
          "model_name": "FloatProgressModel",
          "model_module_version": "1.5.0",
          "state": {
            "_dom_classes": [],
            "_model_module": "@jupyter-widgets/controls",
            "_model_module_version": "1.5.0",
            "_model_name": "FloatProgressModel",
            "_view_count": null,
            "_view_module": "@jupyter-widgets/controls",
            "_view_module_version": "1.5.0",
            "_view_name": "ProgressView",
            "bar_style": "success",
            "description": "",
            "description_tooltip": null,
            "layout": "IPY_MODEL_3ec9d02fb710417b9c50b0a8d0720e0f",
            "max": 570,
            "min": 0,
            "orientation": "horizontal",
            "style": "IPY_MODEL_a4c2faabcddd461cad24ea58a1f9a565",
            "value": 570
          }
        },
        "48605f9295d94bfa9243aeabafe7052a": {
          "model_module": "@jupyter-widgets/controls",
          "model_name": "HTMLModel",
          "model_module_version": "1.5.0",
          "state": {
            "_dom_classes": [],
            "_model_module": "@jupyter-widgets/controls",
            "_model_module_version": "1.5.0",
            "_model_name": "HTMLModel",
            "_view_count": null,
            "_view_module": "@jupyter-widgets/controls",
            "_view_module_version": "1.5.0",
            "_view_name": "HTMLView",
            "description": "",
            "description_tooltip": null,
            "layout": "IPY_MODEL_1157fd3a9bf344a1a71fec673f442279",
            "placeholder": "​",
            "style": "IPY_MODEL_9587f52f55664ef9acdbed3c272fb788",
            "value": " 570/570 [00:00&lt;00:00, 43.2kB/s]"
          }
        },
        "bac1211cc5d9489fa227af53a2529981": {
          "model_module": "@jupyter-widgets/base",
          "model_name": "LayoutModel",
          "model_module_version": "1.2.0",
          "state": {
            "_model_module": "@jupyter-widgets/base",
            "_model_module_version": "1.2.0",
            "_model_name": "LayoutModel",
            "_view_count": null,
            "_view_module": "@jupyter-widgets/base",
            "_view_module_version": "1.2.0",
            "_view_name": "LayoutView",
            "align_content": null,
            "align_items": null,
            "align_self": null,
            "border": null,
            "bottom": null,
            "display": null,
            "flex": null,
            "flex_flow": null,
            "grid_area": null,
            "grid_auto_columns": null,
            "grid_auto_flow": null,
            "grid_auto_rows": null,
            "grid_column": null,
            "grid_gap": null,
            "grid_row": null,
            "grid_template_areas": null,
            "grid_template_columns": null,
            "grid_template_rows": null,
            "height": null,
            "justify_content": null,
            "justify_items": null,
            "left": null,
            "margin": null,
            "max_height": null,
            "max_width": null,
            "min_height": null,
            "min_width": null,
            "object_fit": null,
            "object_position": null,
            "order": null,
            "overflow": null,
            "overflow_x": null,
            "overflow_y": null,
            "padding": null,
            "right": null,
            "top": null,
            "visibility": null,
            "width": null
          }
        },
        "02aab4940ea54824ac353da2ff548d00": {
          "model_module": "@jupyter-widgets/base",
          "model_name": "LayoutModel",
          "model_module_version": "1.2.0",
          "state": {
            "_model_module": "@jupyter-widgets/base",
            "_model_module_version": "1.2.0",
            "_model_name": "LayoutModel",
            "_view_count": null,
            "_view_module": "@jupyter-widgets/base",
            "_view_module_version": "1.2.0",
            "_view_name": "LayoutView",
            "align_content": null,
            "align_items": null,
            "align_self": null,
            "border": null,
            "bottom": null,
            "display": null,
            "flex": null,
            "flex_flow": null,
            "grid_area": null,
            "grid_auto_columns": null,
            "grid_auto_flow": null,
            "grid_auto_rows": null,
            "grid_column": null,
            "grid_gap": null,
            "grid_row": null,
            "grid_template_areas": null,
            "grid_template_columns": null,
            "grid_template_rows": null,
            "height": null,
            "justify_content": null,
            "justify_items": null,
            "left": null,
            "margin": null,
            "max_height": null,
            "max_width": null,
            "min_height": null,
            "min_width": null,
            "object_fit": null,
            "object_position": null,
            "order": null,
            "overflow": null,
            "overflow_x": null,
            "overflow_y": null,
            "padding": null,
            "right": null,
            "top": null,
            "visibility": null,
            "width": null
          }
        },
        "edf8402c01524944827b8941c9ecd1b0": {
          "model_module": "@jupyter-widgets/controls",
          "model_name": "DescriptionStyleModel",
          "model_module_version": "1.5.0",
          "state": {
            "_model_module": "@jupyter-widgets/controls",
            "_model_module_version": "1.5.0",
            "_model_name": "DescriptionStyleModel",
            "_view_count": null,
            "_view_module": "@jupyter-widgets/base",
            "_view_module_version": "1.2.0",
            "_view_name": "StyleView",
            "description_width": ""
          }
        },
        "3ec9d02fb710417b9c50b0a8d0720e0f": {
          "model_module": "@jupyter-widgets/base",
          "model_name": "LayoutModel",
          "model_module_version": "1.2.0",
          "state": {
            "_model_module": "@jupyter-widgets/base",
            "_model_module_version": "1.2.0",
            "_model_name": "LayoutModel",
            "_view_count": null,
            "_view_module": "@jupyter-widgets/base",
            "_view_module_version": "1.2.0",
            "_view_name": "LayoutView",
            "align_content": null,
            "align_items": null,
            "align_self": null,
            "border": null,
            "bottom": null,
            "display": null,
            "flex": null,
            "flex_flow": null,
            "grid_area": null,
            "grid_auto_columns": null,
            "grid_auto_flow": null,
            "grid_auto_rows": null,
            "grid_column": null,
            "grid_gap": null,
            "grid_row": null,
            "grid_template_areas": null,
            "grid_template_columns": null,
            "grid_template_rows": null,
            "height": null,
            "justify_content": null,
            "justify_items": null,
            "left": null,
            "margin": null,
            "max_height": null,
            "max_width": null,
            "min_height": null,
            "min_width": null,
            "object_fit": null,
            "object_position": null,
            "order": null,
            "overflow": null,
            "overflow_x": null,
            "overflow_y": null,
            "padding": null,
            "right": null,
            "top": null,
            "visibility": null,
            "width": null
          }
        },
        "a4c2faabcddd461cad24ea58a1f9a565": {
          "model_module": "@jupyter-widgets/controls",
          "model_name": "ProgressStyleModel",
          "model_module_version": "1.5.0",
          "state": {
            "_model_module": "@jupyter-widgets/controls",
            "_model_module_version": "1.5.0",
            "_model_name": "ProgressStyleModel",
            "_view_count": null,
            "_view_module": "@jupyter-widgets/base",
            "_view_module_version": "1.2.0",
            "_view_name": "StyleView",
            "bar_color": null,
            "description_width": ""
          }
        },
        "1157fd3a9bf344a1a71fec673f442279": {
          "model_module": "@jupyter-widgets/base",
          "model_name": "LayoutModel",
          "model_module_version": "1.2.0",
          "state": {
            "_model_module": "@jupyter-widgets/base",
            "_model_module_version": "1.2.0",
            "_model_name": "LayoutModel",
            "_view_count": null,
            "_view_module": "@jupyter-widgets/base",
            "_view_module_version": "1.2.0",
            "_view_name": "LayoutView",
            "align_content": null,
            "align_items": null,
            "align_self": null,
            "border": null,
            "bottom": null,
            "display": null,
            "flex": null,
            "flex_flow": null,
            "grid_area": null,
            "grid_auto_columns": null,
            "grid_auto_flow": null,
            "grid_auto_rows": null,
            "grid_column": null,
            "grid_gap": null,
            "grid_row": null,
            "grid_template_areas": null,
            "grid_template_columns": null,
            "grid_template_rows": null,
            "height": null,
            "justify_content": null,
            "justify_items": null,
            "left": null,
            "margin": null,
            "max_height": null,
            "max_width": null,
            "min_height": null,
            "min_width": null,
            "object_fit": null,
            "object_position": null,
            "order": null,
            "overflow": null,
            "overflow_x": null,
            "overflow_y": null,
            "padding": null,
            "right": null,
            "top": null,
            "visibility": null,
            "width": null
          }
        },
        "9587f52f55664ef9acdbed3c272fb788": {
          "model_module": "@jupyter-widgets/controls",
          "model_name": "DescriptionStyleModel",
          "model_module_version": "1.5.0",
          "state": {
            "_model_module": "@jupyter-widgets/controls",
            "_model_module_version": "1.5.0",
            "_model_name": "DescriptionStyleModel",
            "_view_count": null,
            "_view_module": "@jupyter-widgets/base",
            "_view_module_version": "1.2.0",
            "_view_name": "StyleView",
            "description_width": ""
          }
        },
        "6eb8cd0657e846f5a24fb234522cb756": {
          "model_module": "@jupyter-widgets/controls",
          "model_name": "HBoxModel",
          "model_module_version": "1.5.0",
          "state": {
            "_dom_classes": [],
            "_model_module": "@jupyter-widgets/controls",
            "_model_module_version": "1.5.0",
            "_model_name": "HBoxModel",
            "_view_count": null,
            "_view_module": "@jupyter-widgets/controls",
            "_view_module_version": "1.5.0",
            "_view_name": "HBoxView",
            "box_style": "",
            "children": [
              "IPY_MODEL_f7800a3d08f04fd186700d99243513c9",
              "IPY_MODEL_5c14a67cedb44b0f953f4c500ac11b08",
              "IPY_MODEL_2ee7d8c7ba624e23b241ce2aacc1c5f5"
            ],
            "layout": "IPY_MODEL_a9f11cf4ed6a4d918e9960d1b2110e9e"
          }
        },
        "f7800a3d08f04fd186700d99243513c9": {
          "model_module": "@jupyter-widgets/controls",
          "model_name": "HTMLModel",
          "model_module_version": "1.5.0",
          "state": {
            "_dom_classes": [],
            "_model_module": "@jupyter-widgets/controls",
            "_model_module_version": "1.5.0",
            "_model_name": "HTMLModel",
            "_view_count": null,
            "_view_module": "@jupyter-widgets/controls",
            "_view_module_version": "1.5.0",
            "_view_name": "HTMLView",
            "description": "",
            "description_tooltip": null,
            "layout": "IPY_MODEL_043e4becc913437a97ad69f0122eec0c",
            "placeholder": "​",
            "style": "IPY_MODEL_70810855509349e980883731cbcf2db3",
            "value": "model.safetensors: 100%"
          }
        },
        "5c14a67cedb44b0f953f4c500ac11b08": {
          "model_module": "@jupyter-widgets/controls",
          "model_name": "FloatProgressModel",
          "model_module_version": "1.5.0",
          "state": {
            "_dom_classes": [],
            "_model_module": "@jupyter-widgets/controls",
            "_model_module_version": "1.5.0",
            "_model_name": "FloatProgressModel",
            "_view_count": null,
            "_view_module": "@jupyter-widgets/controls",
            "_view_module_version": "1.5.0",
            "_view_name": "ProgressView",
            "bar_style": "success",
            "description": "",
            "description_tooltip": null,
            "layout": "IPY_MODEL_8da2a0da306d4fa3b03b31ef97c107e8",
            "max": 440449768,
            "min": 0,
            "orientation": "horizontal",
            "style": "IPY_MODEL_9d3c3fe5b2a84d0491ef13bf6cdff316",
            "value": 440449768
          }
        },
        "2ee7d8c7ba624e23b241ce2aacc1c5f5": {
          "model_module": "@jupyter-widgets/controls",
          "model_name": "HTMLModel",
          "model_module_version": "1.5.0",
          "state": {
            "_dom_classes": [],
            "_model_module": "@jupyter-widgets/controls",
            "_model_module_version": "1.5.0",
            "_model_name": "HTMLModel",
            "_view_count": null,
            "_view_module": "@jupyter-widgets/controls",
            "_view_module_version": "1.5.0",
            "_view_name": "HTMLView",
            "description": "",
            "description_tooltip": null,
            "layout": "IPY_MODEL_76816027a9f74f80909d39858312db5c",
            "placeholder": "​",
            "style": "IPY_MODEL_8c47e263234444b3a337919983769b70",
            "value": " 440M/440M [00:14&lt;00:00, 26.6MB/s]"
          }
        },
        "a9f11cf4ed6a4d918e9960d1b2110e9e": {
          "model_module": "@jupyter-widgets/base",
          "model_name": "LayoutModel",
          "model_module_version": "1.2.0",
          "state": {
            "_model_module": "@jupyter-widgets/base",
            "_model_module_version": "1.2.0",
            "_model_name": "LayoutModel",
            "_view_count": null,
            "_view_module": "@jupyter-widgets/base",
            "_view_module_version": "1.2.0",
            "_view_name": "LayoutView",
            "align_content": null,
            "align_items": null,
            "align_self": null,
            "border": null,
            "bottom": null,
            "display": null,
            "flex": null,
            "flex_flow": null,
            "grid_area": null,
            "grid_auto_columns": null,
            "grid_auto_flow": null,
            "grid_auto_rows": null,
            "grid_column": null,
            "grid_gap": null,
            "grid_row": null,
            "grid_template_areas": null,
            "grid_template_columns": null,
            "grid_template_rows": null,
            "height": null,
            "justify_content": null,
            "justify_items": null,
            "left": null,
            "margin": null,
            "max_height": null,
            "max_width": null,
            "min_height": null,
            "min_width": null,
            "object_fit": null,
            "object_position": null,
            "order": null,
            "overflow": null,
            "overflow_x": null,
            "overflow_y": null,
            "padding": null,
            "right": null,
            "top": null,
            "visibility": null,
            "width": null
          }
        },
        "043e4becc913437a97ad69f0122eec0c": {
          "model_module": "@jupyter-widgets/base",
          "model_name": "LayoutModel",
          "model_module_version": "1.2.0",
          "state": {
            "_model_module": "@jupyter-widgets/base",
            "_model_module_version": "1.2.0",
            "_model_name": "LayoutModel",
            "_view_count": null,
            "_view_module": "@jupyter-widgets/base",
            "_view_module_version": "1.2.0",
            "_view_name": "LayoutView",
            "align_content": null,
            "align_items": null,
            "align_self": null,
            "border": null,
            "bottom": null,
            "display": null,
            "flex": null,
            "flex_flow": null,
            "grid_area": null,
            "grid_auto_columns": null,
            "grid_auto_flow": null,
            "grid_auto_rows": null,
            "grid_column": null,
            "grid_gap": null,
            "grid_row": null,
            "grid_template_areas": null,
            "grid_template_columns": null,
            "grid_template_rows": null,
            "height": null,
            "justify_content": null,
            "justify_items": null,
            "left": null,
            "margin": null,
            "max_height": null,
            "max_width": null,
            "min_height": null,
            "min_width": null,
            "object_fit": null,
            "object_position": null,
            "order": null,
            "overflow": null,
            "overflow_x": null,
            "overflow_y": null,
            "padding": null,
            "right": null,
            "top": null,
            "visibility": null,
            "width": null
          }
        },
        "70810855509349e980883731cbcf2db3": {
          "model_module": "@jupyter-widgets/controls",
          "model_name": "DescriptionStyleModel",
          "model_module_version": "1.5.0",
          "state": {
            "_model_module": "@jupyter-widgets/controls",
            "_model_module_version": "1.5.0",
            "_model_name": "DescriptionStyleModel",
            "_view_count": null,
            "_view_module": "@jupyter-widgets/base",
            "_view_module_version": "1.2.0",
            "_view_name": "StyleView",
            "description_width": ""
          }
        },
        "8da2a0da306d4fa3b03b31ef97c107e8": {
          "model_module": "@jupyter-widgets/base",
          "model_name": "LayoutModel",
          "model_module_version": "1.2.0",
          "state": {
            "_model_module": "@jupyter-widgets/base",
            "_model_module_version": "1.2.0",
            "_model_name": "LayoutModel",
            "_view_count": null,
            "_view_module": "@jupyter-widgets/base",
            "_view_module_version": "1.2.0",
            "_view_name": "LayoutView",
            "align_content": null,
            "align_items": null,
            "align_self": null,
            "border": null,
            "bottom": null,
            "display": null,
            "flex": null,
            "flex_flow": null,
            "grid_area": null,
            "grid_auto_columns": null,
            "grid_auto_flow": null,
            "grid_auto_rows": null,
            "grid_column": null,
            "grid_gap": null,
            "grid_row": null,
            "grid_template_areas": null,
            "grid_template_columns": null,
            "grid_template_rows": null,
            "height": null,
            "justify_content": null,
            "justify_items": null,
            "left": null,
            "margin": null,
            "max_height": null,
            "max_width": null,
            "min_height": null,
            "min_width": null,
            "object_fit": null,
            "object_position": null,
            "order": null,
            "overflow": null,
            "overflow_x": null,
            "overflow_y": null,
            "padding": null,
            "right": null,
            "top": null,
            "visibility": null,
            "width": null
          }
        },
        "9d3c3fe5b2a84d0491ef13bf6cdff316": {
          "model_module": "@jupyter-widgets/controls",
          "model_name": "ProgressStyleModel",
          "model_module_version": "1.5.0",
          "state": {
            "_model_module": "@jupyter-widgets/controls",
            "_model_module_version": "1.5.0",
            "_model_name": "ProgressStyleModel",
            "_view_count": null,
            "_view_module": "@jupyter-widgets/base",
            "_view_module_version": "1.2.0",
            "_view_name": "StyleView",
            "bar_color": null,
            "description_width": ""
          }
        },
        "76816027a9f74f80909d39858312db5c": {
          "model_module": "@jupyter-widgets/base",
          "model_name": "LayoutModel",
          "model_module_version": "1.2.0",
          "state": {
            "_model_module": "@jupyter-widgets/base",
            "_model_module_version": "1.2.0",
            "_model_name": "LayoutModel",
            "_view_count": null,
            "_view_module": "@jupyter-widgets/base",
            "_view_module_version": "1.2.0",
            "_view_name": "LayoutView",
            "align_content": null,
            "align_items": null,
            "align_self": null,
            "border": null,
            "bottom": null,
            "display": null,
            "flex": null,
            "flex_flow": null,
            "grid_area": null,
            "grid_auto_columns": null,
            "grid_auto_flow": null,
            "grid_auto_rows": null,
            "grid_column": null,
            "grid_gap": null,
            "grid_row": null,
            "grid_template_areas": null,
            "grid_template_columns": null,
            "grid_template_rows": null,
            "height": null,
            "justify_content": null,
            "justify_items": null,
            "left": null,
            "margin": null,
            "max_height": null,
            "max_width": null,
            "min_height": null,
            "min_width": null,
            "object_fit": null,
            "object_position": null,
            "order": null,
            "overflow": null,
            "overflow_x": null,
            "overflow_y": null,
            "padding": null,
            "right": null,
            "top": null,
            "visibility": null,
            "width": null
          }
        },
        "8c47e263234444b3a337919983769b70": {
          "model_module": "@jupyter-widgets/controls",
          "model_name": "DescriptionStyleModel",
          "model_module_version": "1.5.0",
          "state": {
            "_model_module": "@jupyter-widgets/controls",
            "_model_module_version": "1.5.0",
            "_model_name": "DescriptionStyleModel",
            "_view_count": null,
            "_view_module": "@jupyter-widgets/base",
            "_view_module_version": "1.2.0",
            "_view_name": "StyleView",
            "description_width": ""
          }
        }
      }
    }
  },
  "nbformat": 4,
  "nbformat_minor": 0
}